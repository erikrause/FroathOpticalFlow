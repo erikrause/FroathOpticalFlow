{
 "cells": [
  {
   "cell_type": "code",
   "execution_count": null,
   "metadata": {},
   "outputs": [],
   "source": [
    "import cv2\n",
    "import numpy as np\n",
    "import matplotlib.pyplot as plt"
   ]
  },
  {
   "cell_type": "code",
   "execution_count": null,
   "metadata": {},
   "outputs": [],
   "source": [
    "def show(*img):\n",
    "    \n",
    "    if len(img)<2:\n",
    "        show_one(img[0])\n",
    "        return\n",
    "              \n",
    "    fig, axes = plt.subplots(1, len(img))\n",
    "    \n",
    "    for img_i, i in zip(img, range(len(img))):\n",
    "        axes[i].imshow(img_i, cmap='gray')\n",
    "        axes[i].set_title('')\n",
    "\n",
    "    fig.set_figwidth(20)    #  ширина и\n",
    "    fig.set_figheight(10)    #  высота \\\"Figure\\\n",
    "\n",
    "#     plt.gray()\n",
    "    plt.show()\n",
    "\n",
    "\n",
    "def show_one(img, n = 10):\n",
    "    fig, ax = plt.subplots()\n",
    "    fig.set_figwidth(n)    #  ширина и\n",
    "    fig.set_figheight(n)    #  высота \\\"Figure\\\n",
    "    plt.imshow(img, cmap='gray')\n",
    "    plt.show()"
   ]
  },
  {
   "cell_type": "code",
   "execution_count": null,
   "metadata": {},
   "outputs": [],
   "source": [
    "def preprocess_frame(frame):\n",
    "    #     frame = frame[0:470, ]\n",
    "    frame = cv2.GaussianBlur(frame, (11, 11), 0)\n",
    "\n",
    "    hsv = cv2.cvtColor(frame, cv2.COLOR_BGR2HSV)\n",
    "    h, s, v = cv2.split(hsv)\n",
    "\n",
    "#     v = cv2.equalizeHist(v)\n",
    "\n",
    "    hsv = cv2.merge([h, s, v])\n",
    "    bgr = cv2.cvtColor(hsv, cv2.COLOR_HSV2BGR)\n",
    "    gray = cv2.cvtColor(bgr, cv2.COLOR_BGR2GRAY)\n",
    "\n",
    "    return bgr, v"
   ]
  },
  {
   "cell_type": "code",
   "execution_count": null,
   "metadata": {},
   "outputs": [],
   "source": [
    "video_path = '90_2_3.mp4'"
   ]
  },
  {
   "cell_type": "code",
   "execution_count": null,
   "metadata": {},
   "outputs": [],
   "source": [
    "import numpy as np\n",
    "import cv2\n",
    "import time\n",
    "help_message = '''\n",
    "USAGE: optical_flow.py [<video_source>]\n",
    "Keys:\n",
    " 1 - toggle HSV flow visualization\n",
    " 2 - toggle glitch\n",
    "'''\n",
    "count = 0\n",
    "def draw_flow(img, flow, step=16):\n",
    "    h, w = img.shape[:2]\n",
    "    y, x = np.mgrid[step/2:h:step, step/2:w:step].reshape(2,-1).astype(int)\n",
    "    fx, fy = flow[y,x].T\n",
    "    lines = np.vstack([x, y, x+fx, y+fy]).T.reshape(-1, 2, 2)\n",
    "    lines = np.int32(lines + 0.5)\n",
    "    # vis = cv2.cvtColor(img, cv2.COLOR_GRAY2BGR)\n",
    "    cv2.polylines(img, lines, 0, (0, 255, 0))\n",
    "    for (x1, y1), (_x2, _y2) in lines:\n",
    "        cv2.circle(img, (x1, y1), 1, (0, 255, 0), -1)\n",
    "    return img\n",
    "\n",
    "def draw_hsv(flow):\n",
    "    h, w = flow.shape[:2]\n",
    "    fx, fy = flow[:,:,0], flow[:,:,1]\n",
    "    ang = np.arctan2(fy, fx) + np.pi\n",
    "    v = np.sqrt(fx*fx+fy*fy)\n",
    "    hsv = np.zeros((h, w, 3), np.uint8)\n",
    "    hsv[...,0] = ang*(180/np.pi/2)\n",
    "    hsv[...,1] = 255\n",
    "    hsv[...,2] = np.minimum(v*4, 255)\n",
    "    bgr = cv2.cvtColor(hsv, cv2.COLOR_HSV2BGR)\n",
    "    return bgr\n",
    "\n",
    "def warp_flow(img, flow):\n",
    "    h, w = flow.shape[:2]\n",
    "    flow = -flow\n",
    "    flow[:,:,0] += np.arange(w)\n",
    "    flow[:,:,1] += np.arange(h)[:,np.newaxis]\n",
    "    res = cv2.remap(img, flow, None, cv2.INTER_LINEAR)\n",
    "    return res"
   ]
  },
  {
   "cell_type": "code",
   "execution_count": null,
   "metadata": {
    "scrolled": true
   },
   "outputs": [],
   "source": [
    "\n",
    "cam = cv2.VideoCapture(video_path)\n",
    "ret, prev = cam.read()\n",
    "\n",
    "prevgray = cv2.cvtColor(prev, cv2.COLOR_BGR2GRAY)\n",
    "show_hsv = True\n",
    "show_glitch = True\n",
    "cur_glitch = prev.copy()\n",
    "\n",
    "while True:\n",
    "    ret, img = cam.read()\n",
    "    vis = img.copy()\n",
    "    frame, gray = preprocess_frame(img)\n",
    "    flow = cv2.calcOpticalFlowFarneback(prevgray, gray, None, 0.5, 3, 15, 3, 5, 1.2, 0)\n",
    "    prevgray = gray\n",
    "    if show_hsv:\n",
    "        gray1 = cv2.cvtColor(draw_hsv(flow), cv2.COLOR_BGR2GRAY)\n",
    "        show(gray1)\n",
    "#         thresh = cv2.threshold(gray1, 25, 255, cv2.THRESH_BINARY)[1]\n",
    "        thresh = cv2.adaptiveThreshold(gray1, 255, cv2.ADAPTIVE_THRESH_GAUSSIAN_C,\n",
    "                                          cv2.THRESH_BINARY, 199, 5)\n",
    "        (cnts, _) = cv2.findContours(thresh.copy(), cv2.RETR_EXTERNAL,cv2.CHAIN_APPROX_SIMPLE)\n",
    "        # loop over the contours\n",
    "    for c in cnts:\n",
    "        # if the contour is too small, ignore it\n",
    "        (x, y, w, h) = cv2.boundingRect(c)\n",
    "        if w > 10 and h > 10 and w < 900 and h < 680:\n",
    "            cv2.drawContours(vis,c,-1,(0,255,0),3)\n",
    "    show(draw_flow(gray, flow), thresh)\n",
    "#     show(vis, cur_glitch)\n",
    "    cur_glitch = warp_flow(cur_glitch, flow)\n",
    "\n",
    "\t"
   ]
  },
  {
   "cell_type": "code",
   "execution_count": null,
   "metadata": {},
   "outputs": [],
   "source": []
  },
  {
   "cell_type": "code",
   "execution_count": null,
   "metadata": {},
   "outputs": [],
   "source": []
  }
 ],
 "metadata": {
  "kernelspec": {
   "display_name": "Python 3",
   "language": "python",
   "name": "python3"
  },
  "language_info": {
   "codemirror_mode": {
    "name": "ipython",
    "version": 3
   },
   "file_extension": ".py",
   "mimetype": "text/x-python",
   "name": "python",
   "nbconvert_exporter": "python",
   "pygments_lexer": "ipython3",
   "version": "3.8.5"
  }
 },
 "nbformat": 4,
 "nbformat_minor": 4
}
