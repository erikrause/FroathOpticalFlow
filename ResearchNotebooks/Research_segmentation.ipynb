{
  "cells": [
    {
      "cell_type": "markdown",
      "metadata": {
        "id": "hAh9mnITdgwg"
      },
      "source": [
        "# Imports"
      ]
    },
    {
      "cell_type": "code",
      "execution_count": 1,
      "metadata": {
        "id": "JX4elvPodjJB"
      },
      "outputs": [],
      "source": [
        "from pathlib import Path\n",
        "from typing import Any, Callable, Optional\n",
        "\n",
        "import numpy as np\n",
        "from PIL import Image,  ImageOps\n",
        "from torchvision.datasets.vision import VisionDataset\n",
        "from torch.utils.data import DataLoader \n",
        "from torchvision import transforms\n",
        "import torch\n",
        "import cv2"
      ]
    },
    {
      "cell_type": "code",
      "source": [
        "import albumentations as A\n",
        "import albumentations.augmentations.functional as F\n",
        "from albumentations.pytorch import ToTensorV2"
      ],
      "metadata": {
        "id": "8chzRtIlEk_9"
      },
      "execution_count": 2,
      "outputs": []
    },
    {
      "cell_type": "code",
      "execution_count": 3,
      "metadata": {
        "colab": {
          "base_uri": "https://localhost:8080/"
        },
        "id": "Ai7qf1oAsoCa",
        "outputId": "37b24ffa-014a-4874-e566-3c9933841260"
      },
      "outputs": [
        {
          "output_type": "stream",
          "name": "stdout",
          "text": [
            "Mounted at /content/drive\n"
          ]
        }
      ],
      "source": [
        "from google.colab import drive\n",
        "drive.mount('/content/drive')"
      ]
    },
    {
      "cell_type": "code",
      "execution_count": 4,
      "metadata": {
        "id": "GPSvPqkVPES9"
      },
      "outputs": [],
      "source": [
        "path_to_dataset = '/content/drive/MyDrive/datasets/masks'"
      ]
    },
    {
      "cell_type": "code",
      "execution_count": 5,
      "metadata": {
        "id": "Jge_6zzJDdow"
      },
      "outputs": [],
      "source": [
        "path_to_exp = '/content/drive/MyDrive/Froth/froth_dataset/exp'"
      ]
    },
    {
      "cell_type": "markdown",
      "metadata": {
        "id": "Ow8sv1fJO-lv"
      },
      "source": [
        "# Preparing dataset"
      ]
    },
    {
      "cell_type": "code",
      "execution_count": 6,
      "metadata": {
        "id": "_AObI00Wh0yr",
        "colab": {
          "base_uri": "https://localhost:8080/"
        },
        "outputId": "511263cb-4402-4349-af07-0cd36e2d2047"
      },
      "outputs": [
        {
          "output_type": "stream",
          "name": "stdout",
          "text": [
            "mkdir: cannot create directory ‘/content/drive/MyDrive/Froth/froth_dataset/exp’: No such file or directory\n"
          ]
        }
      ],
      "source": [
        "!mkdir /content/drive/MyDrive/Froth/froth_dataset/exp"
      ]
    },
    {
      "cell_type": "code",
      "execution_count": 7,
      "metadata": {
        "id": "KflWvtwUTuA_"
      },
      "outputs": [],
      "source": [
        "#cp -r drive/MyDrive/Froth/masks drive/MyDrive/Froth/DeepLabv3/"
      ]
    },
    {
      "cell_type": "code",
      "execution_count": 8,
      "metadata": {
        "id": "Xz_ruUHTQR0l"
      },
      "outputs": [],
      "source": [
        "#mv drive/MyDrive/Froth/DeepLabv3/masks drive/MyDrive/Froth/DeepLabv3/source_masks"
      ]
    },
    {
      "cell_type": "code",
      "execution_count": 9,
      "metadata": {
        "id": "NWkPK_MRepeN"
      },
      "outputs": [],
      "source": [
        "#mv drive/MyDrive/Froth/DeepLabv3/source_masks/label/16*.png drive/MyDrive/Froth/DeepLabv3/source_masks/test_ds/label"
      ]
    },
    {
      "cell_type": "code",
      "source": [
        "def preprocess_mask(mask):\n",
        "  mask = mask.astype(np.float32)/255\n",
        "  return mask"
      ],
      "metadata": {
        "id": "2fLlueFfBMJv"
      },
      "execution_count": 10,
      "outputs": []
    },
    {
      "cell_type": "code",
      "execution_count": 11,
      "metadata": {
        "id": "3i7Zu1vFm7_3"
      },
      "outputs": [],
      "source": [
        "\"\"\"\n",
        "Author: Manpreet Singh Minhas\n",
        "Contact: msminhas at uwaterloo ca\n",
        "\"\"\"\n",
        "\n",
        "\n",
        "\n",
        "class SegmentationDataset(VisionDataset):\n",
        "    \"\"\"A PyTorch dataset for image segmentation task.\n",
        "    The dataset is compatible with torchvision transforms.\n",
        "    The transforms passed would be applied to both the Images and Masks.\n",
        "    \"\"\"\n",
        "    def __init__(self,\n",
        "                 root: str,\n",
        "                 image_folder: str,\n",
        "                 mask_folder: str,\n",
        "                 transforms: Optional[Callable] = None,\n",
        "                 fraction: float = None,\n",
        "                 subset: str = None,\n",
        "                 image_color_mode: str = \"rgb\",\n",
        "                 mask_color_mode: str = \"grayscale\") -> None:\n",
        "        \"\"\"\n",
        "        Args:\n",
        "            root (str): Root directory path.\n",
        "            image_folder (str): Name of the folder that contains the images in the root directory.\n",
        "            mask_folder (str): Name of the folder that contains the masks in the root directory.\n",
        "            transforms (Optional[Callable], optional): A function/transform that takes in\n",
        "            a sample and returns a transformed version.\n",
        "            E.g, ``transforms.ToTensor`` for images. Defaults to None.\n",
        "            seed (int, optional): Specify a seed for the train and test split for reproducible results. Defaults to None.\n",
        "            fraction (float, optional): A float value from 0 to 1 which specifies the validation split fraction. Defaults to None.\n",
        "            subset (str, optional): 'Train' or 'Test' to select the appropriate set. Defaults to None.\n",
        "            image_color_mode (str, optional): 'rgb' or 'grayscale'. Defaults to 'rgb'.\n",
        "            mask_color_mode (str, optional): 'rgb' or 'grayscale'. Defaults to 'grayscale'.\n",
        "        Raises:\n",
        "            OSError: If image folder doesn't exist in root.\n",
        "            OSError: If mask folder doesn't exist in root.\n",
        "            ValueError: If subset is not either 'Train' or 'Test'\n",
        "            ValueError: If image_color_mode and mask_color_mode are either 'rgb' or 'grayscale'\n",
        "        \"\"\"\n",
        "        super().__init__(root, transforms)\n",
        "        image_folder_path = Path(self.root) / image_folder\n",
        "        mask_folder_path = Path(self.root) / mask_folder\n",
        "\n",
        "        if not image_folder_path.exists():\n",
        "            raise OSError(f\"{image_folder_path} does not exist.\")\n",
        "        if not mask_folder_path.exists():\n",
        "            raise OSError(f\"{mask_folder_path} does not exist.\")\n",
        "\n",
        "        if not fraction:\n",
        "            self.image_names = sorted(image_folder_path.glob(\"*\"))\n",
        "            self.mask_names = sorted(mask_folder_path.glob(\"*\"))\n",
        "        else:\n",
        "            if subset not in [\"Train\", \"Test\"]:\n",
        "                raise (ValueError(\n",
        "                    f\"{subset} is not a valid input. Acceptable values are Train and Test.\"\n",
        "                ))\n",
        "            self.fraction = fraction\n",
        "            self.image_list = np.array(sorted(image_folder_path.glob(\"*\")))\n",
        "            self.mask_list = np.array(sorted(mask_folder_path.glob(\"*\")))\n",
        "            if subset == \"Train\":\n",
        "                self.image_names = self.image_list[:int(\n",
        "                    np.ceil(len(self.image_list) * (1 - self.fraction)))]\n",
        "                self.mask_names = self.mask_list[:int(\n",
        "                    np.ceil(len(self.mask_list) * (1 - self.fraction)))]\n",
        "            else:\n",
        "                self.image_names = self.image_list[\n",
        "                    int(np.ceil(len(self.image_list) * (1 - self.fraction))):]\n",
        "                self.mask_names = self.mask_list[\n",
        "                    int(np.ceil(len(self.mask_list) * (1 - self.fraction))):]\n",
        "\n",
        "\n",
        "    def __len__(self) -> int:\n",
        "        return len(self.image_names)\n",
        "\n",
        "    def __getitem__(self, index: int) -> Any:\n",
        "        image_path = str(self.image_names[index])\n",
        "        mask_path = str(self.mask_names[index])\n",
        "\n",
        "        image = cv2.imread(image_path)\n",
        "        image = cv2.cvtColor(image, cv2.COLOR_BGR2GRAY)\n",
        "        mask = cv2.imread(mask_path,  cv2.IMREAD_UNCHANGED)\n",
        "        mask = np.expand_dims(mask, axis = 2)\n",
        "        mask = preprocess_mask(mask)\n",
        "        sample = {\"image\": image, \"mask\": mask}\n",
        "\n",
        "        if self.transforms is not None:\n",
        "            transformed = self.transforms(image=image, mask=mask)\n",
        "            sample[\"image\"] = transformed[\"image\"]\n",
        "            sample[\"mask\"] = transformed[\"mask\"]\n",
        "        return sample\n"
      ]
    },
    {
      "cell_type": "code",
      "execution_count": 12,
      "metadata": {
        "id": "z9nct3QDBjcM"
      },
      "outputs": [],
      "source": [
        "\n",
        "def get_dataloader_single_folder(data_dir: str,\n",
        "                                 image_folder: str = 'Images',\n",
        "                                 mask_folder: str = 'Masks',\n",
        "                                 fraction: float = 0.2,\n",
        "                                 batch_size: int = 8):\n",
        "    \"\"\"Create train and test dataloader from a single directory containing\n",
        "    the image and mask folders.\n",
        "    Args:\n",
        "        data_dir (str): Data directory path or root\n",
        "        image_folder (str, optional): Image folder name. Defaults to 'Images'.\n",
        "        mask_folder (str, optional): Mask folder name. Defaults to 'Masks'.\n",
        "        fraction (float, optional): Fraction of Test set. Defaults to 0.2.\n",
        "        batch_size (int, optional): Dataloader batch size. Defaults to 4.\n",
        "    Returns:\n",
        "        dataloaders: Returns dataloaders dictionary containing the\n",
        "        Train and Test dataloaders.\n",
        "    \"\"\"\n",
        "    # data_transforms = transforms.Compose([transforms.RandomCrop(size=(256, 256)), transforms.ToTensor()])\n",
        "    # data_transforms = transforms.Compose([\n",
        "    #                                       transforms.Resize(size=(256, 256)), \n",
        "    #                                       transforms.Grayscale(num_output_channels=1),\n",
        "    #                                       transforms.ToTensor(),\n",
        "    #                                       ])\n",
        "    data_transforms = A.Compose([\n",
        "                      A.ShiftScaleRotate(shift_limit=0.2, scale_limit=0.2, rotate_limit=30, p=0.5),\n",
        "                      A.RandomBrightnessContrast(brightness_limit=0.3, contrast_limit=0.3, p=0.5),\n",
        "                      A.RandomCrop(500, 500),\n",
        "                      A.Rotate(limit=45, p=0.5),\n",
        "                      A.Resize(256, 256),\n",
        "                      A.ToFloat(),\n",
        "                      ToTensorV2(transpose_mask=True)])\n",
        "\n",
        "    image_datasets = {\n",
        "        x: SegmentationDataset(data_dir,\n",
        "                               image_folder=image_folder,\n",
        "                               mask_folder=mask_folder,\n",
        "                               fraction=fraction,\n",
        "                               subset=x,\n",
        "                               transforms=data_transforms)\n",
        "        for x in ['Train', 'Test']\n",
        "    }\n",
        "    dataloaders = {\n",
        "        x: DataLoader(image_datasets[x],\n",
        "                      batch_size=batch_size,\n",
        "                      shuffle=True,\n",
        "                      num_workers=2)\n",
        "        for x in ['Train', 'Test']\n",
        "    }\n",
        "    return dataloaders"
      ]
    },
    {
      "cell_type": "markdown",
      "metadata": {
        "id": "nNelvm5poz9j"
      },
      "source": [
        "# W&B init"
      ]
    },
    {
      "cell_type": "code",
      "execution_count": 13,
      "metadata": {
        "id": "RKLT1TPfQy1f"
      },
      "outputs": [],
      "source": [
        "pip install wandb > /dev/null"
      ]
    },
    {
      "cell_type": "code",
      "execution_count": 14,
      "metadata": {
        "id": "9jgjwnmwpSjn"
      },
      "outputs": [],
      "source": [
        "# Flexible integration for any Python script\n",
        "import wandb"
      ]
    },
    {
      "cell_type": "code",
      "execution_count": 15,
      "metadata": {
        "id": "42nQPLsbQwtN"
      },
      "outputs": [],
      "source": [
        "def update_wb(model_name, lr, loss, th, opt):\n",
        "  wandb.init(project=\"froth\", entity=\"s70c3\")\n",
        "  wandb.run.name = f'{model_name}_lr{str(lr)}_loss_{loss}_th_{th}_opt_{opt}'\n",
        "  # 2. Save model inputs and hyperparameters\n",
        "  config = wandb.config\n",
        "  config.learning_rate = lr\n",
        "  config.epoch = 50\n",
        "  config.batch_size=8\n",
        "  config.name = model_name\n"
      ]
    },
    {
      "cell_type": "markdown",
      "metadata": {
        "id": "YOwG0r7sYChF"
      },
      "source": [
        "# Metrics"
      ]
    },
    {
      "cell_type": "code",
      "execution_count": 16,
      "metadata": {
        "id": "CDvU7DCeR2uU"
      },
      "outputs": [],
      "source": [
        "SMOOTH = 1e-6"
      ]
    },
    {
      "cell_type": "code",
      "execution_count": 17,
      "metadata": {
        "id": "9ZDIoD1yAyRl"
      },
      "outputs": [],
      "source": [
        "def iou_pytorch(outputs: torch.Tensor, labels: torch.Tensor):\n",
        "    # You can comment out this line if you are passing tensors of equal shape\n",
        "    # But if you are passing output from UNet or something it will most probably\n",
        "    # be with the BATCH x 1 x H x W shape\n",
        "    outputs = outputs.squeeze(1)  # BATCH x 1 x H x W => BATCH x H x W\n",
        "    \n",
        "    intersection = (outputs & labels).float().sum((1, 2))  # Will be zero if Truth=0 or Prediction=0\n",
        "    union = (outputs | labels).float().sum((1, 2))         # Will be zzero if both are 0\n",
        "    \n",
        "    iou = (intersection + SMOOTH) / (union + SMOOTH)  # We smooth our devision to avoid 0/0\n",
        "    \n",
        "    thresholded = torch.clamp(20 * (iou - 0.5), 0, 10).ceil() / 10  # This is equal to comparing with thresolds\n",
        "    \n",
        "    return thresholded  # Or thresholded.mean() if you are interested in average across the batch\n",
        "    \n",
        "    "
      ]
    },
    {
      "cell_type": "code",
      "execution_count": 18,
      "metadata": {
        "id": "8A9_t2a4YFly"
      },
      "outputs": [],
      "source": [
        "def iou(outputs: np.array, labels: np.array):\n",
        "    intersection = (outputs & labels).sum()\n",
        "    union = (outputs | labels).sum()\n",
        "    \n",
        "    iou = (intersection + SMOOTH) / (union + SMOOTH)\n",
        "    \n",
        "    thresholded = np.ceil(np.clip(20 * (iou - 0.5), 0, 10)) / 10\n",
        "    \n",
        "    return iou # Or thresholded.mean()"
      ]
    },
    {
      "cell_type": "markdown",
      "metadata": {
        "id": "_EcCy7onb7xq"
      },
      "source": [
        "# Training"
      ]
    },
    {
      "cell_type": "code",
      "source": [
        "#PyTorch\n",
        "class DiceLoss(torch.nn.Module):\n",
        "    def __init__(self, weight=None, size_average=True):\n",
        "        super(DiceLoss, self).__init__()\n",
        "\n",
        "    def forward(self, inputs, targets, smooth=1):\n",
        "        \n",
        "        #comment out if your model contains a sigmoid or equivalent activation layer\n",
        "        inputs = torch.sigmoid(inputs)       \n",
        "        \n",
        "        #flatten label and prediction tensors\n",
        "        inputs = inputs.view(-1)\n",
        "        targets = targets.view(-1)\n",
        "        \n",
        "        intersection = (inputs * targets).sum()                            \n",
        "        dice = (2.*intersection + smooth)/(inputs.sum() + targets.sum() + smooth)  \n",
        "        \n",
        "        return 1 - dice"
      ],
      "metadata": {
        "id": "OxLKznClK3_8"
      },
      "execution_count": 19,
      "outputs": []
    },
    {
      "cell_type": "code",
      "source": [
        "#PyTorch\n",
        "\n",
        "import cv2\n",
        "def border1(p):\n",
        "    p_dilate = cv2.dilate(p, np.ones((3, 3), np.uint8), iterations=1)\n",
        "    border = (p != p_dilate).astype(np.uint8) \n",
        "    return border\n",
        "\n",
        "import torch.nn.functional as F\n",
        "def border2(p):\n",
        "    averaged_mask = F.avg_pool2d(p.float(), (11, 11),\n",
        "                                     stride=(1, 1),\n",
        "                                     padding=(5, 5))\n",
        "    border = ((averaged_mask > 0.01) * (averaged_mask < 0.99)).float()\n",
        "    return border\n",
        "\n",
        "class BoundaryWeightedLoss(torch.nn.Module):\n",
        "    def __init__(self, weight=None, size_average=True):\n",
        "        super(BoundaryWeightedLoss, self).__init__()\n",
        "\n",
        "    def forward(self, inputs, targets, smooth=1):\n",
        "        boundaries = border2(targets)\n",
        "        inputs_boundaries = inputs * boundaries\n",
        "\n",
        "        loss = torch.nn.BCELoss()\n",
        "\n",
        "        loss_main = loss(inputs, targets)\n",
        "        loss_b = loss(inputs_boundaries, boundaries)\n",
        "        \n",
        "        return loss_main * 0.3 + loss_b * 0.7"
      ],
      "metadata": {
        "id": "qP58VU4KK_CD"
      },
      "execution_count": 20,
      "outputs": []
    },
    {
      "cell_type": "code",
      "execution_count": 21,
      "metadata": {
        "id": "W0ASJq5aPK-A"
      },
      "outputs": [],
      "source": [
        "import copy\n",
        "import csv\n",
        "import os\n",
        "import time\n",
        "\n",
        "import numpy as np\n",
        "import torch\n",
        "from tqdm import tqdm\n",
        "\n",
        "def train_model(model, criterion, dataloaders, optimizer, metrics, bpath,\n",
        "                num_epochs, needs_out=False, threshold=0.5, scheduler=None):\n",
        "    since = time.time()\n",
        "    best_model_wts = copy.deepcopy(model.state_dict())\n",
        "    best_loss = 1e10\n",
        "    # Use gpu if available\n",
        "    device = torch.device(\"cuda:0\" if torch.cuda.is_available() else \"cpu\")\n",
        "    model.to(device)\n",
        "    # Initialize the log file for training and testing loss and metrics\n",
        "    fieldnames = ['epoch', 'Train_loss', 'Test_loss', '_timestamp', '_runtime'] + \\\n",
        "        [f'Train_{m}' for m in metrics.keys()] + \\\n",
        "        [f'Test_{m}' for m in metrics.keys()]\n",
        "    with open(os.path.join(bpath, 'log.csv'), 'w', newline='') as csvfile:\n",
        "        writer = csv.DictWriter(csvfile, fieldnames=fieldnames)\n",
        "        writer.writeheader()\n",
        "\n",
        "    for epoch in range(1, num_epochs + 1):\n",
        "        print('Epoch {}/{}'.format(epoch, num_epochs))\n",
        "        print('-' * 10)\n",
        "        # Each epoch has a training and validation phase\n",
        "        # Initialize batch summary\n",
        "        batchsummary = {a: [0] for a in fieldnames}\n",
        "\n",
        "        for phase in ['Train', 'Test']:\n",
        "            if phase == 'Train':\n",
        "                model.train()  # Set model to training mode\n",
        "            else:\n",
        "                model.eval()  # Set model to evaluate mode\n",
        "\n",
        "            # Iterate over data.\n",
        "            for sample in tqdm(iter(dataloaders[phase])):\n",
        "                inputs = sample['image'].to(device)\n",
        "                masks = sample['mask'].to(device)\n",
        "                # zero the parameter gradients\n",
        "                optimizer.zero_grad()\n",
        "\n",
        "                # track history if only in train\n",
        "                with torch.set_grad_enabled(phase == 'Train'):\n",
        "               \n",
        "                    outputs = model(inputs)\n",
        "                    loss = criterion(outputs, masks)\n",
        "                    y_pred = outputs.data.cpu().numpy().ravel()\n",
        "                    y_true = masks.data.cpu().numpy().ravel()\n",
        "                    for name, metric in metrics.items():\n",
        "                        if name == 'f1_score':\n",
        "                            # Use a classification threshold of 0.3\n",
        "                            batchsummary[f'{phase}_{name}'].append(\n",
        "                                metric(y_true > 0, y_pred > threshold))\n",
        "                        elif name == 'iou':\n",
        "                          batchsummary[f'{phase}_{name}'].append(\n",
        "                                metric(y_true > 0, y_pred > threshold))\n",
        "                        else:\n",
        "                            batchsummary[f'{phase}_{name}'].append(\n",
        "                                metric(y_true.astype('uint8'), y_pred))\n",
        "\n",
        "                    # backward + optimize only if in training phase\n",
        "                    if phase == 'Train':\n",
        "                        loss.backward()\n",
        "                        optimizer.step()\n",
        "            if scheduler is not None:\n",
        "              scheduler.step()\n",
        "            batchsummary['epoch'] = epoch\n",
        "            epoch_loss = loss\n",
        "            batchsummary[f'{phase}_loss'] = epoch_loss.item()\n",
        "            # print('{} Loss: {:.4f}'.format(phase, loss))\n",
        "        for field in fieldnames[3:]:\n",
        "            batchsummary[field] = np.mean(batchsummary[field])\n",
        "        \n",
        "        wandb.log(batchsummary)\n",
        "        with open(os.path.join(bpath, 'log.csv'), 'a', newline='') as csvfile:\n",
        "            writer = csv.DictWriter(csvfile, fieldnames=fieldnames)\n",
        "            print(batchsummary)\n",
        "            writer.writerow(batchsummary)\n",
        "            # deep copy the model\n",
        "            if phase == 'Test' and loss < best_loss:\n",
        "                best_loss = loss\n",
        "                best_model_wts = copy.deepcopy(model.state_dict())\n",
        "\n",
        "    time_elapsed = time.time() - since\n",
        "    print('Training complete in {:.0f}m {:.0f}s'.format(\n",
        "        time_elapsed // 60, time_elapsed % 60))\n",
        "    print('Lowest Loss: {:4f}'.format(best_loss))\n",
        "\n",
        "    # load best model weights\n",
        "    model.load_state_dict(best_model_wts)\n",
        "    return model"
      ]
    },
    {
      "cell_type": "markdown",
      "metadata": {
        "id": "_gRdBdV-A6S7"
      },
      "source": [
        "# Ready to train & eval"
      ]
    },
    {
      "cell_type": "code",
      "execution_count": 22,
      "metadata": {
        "id": "I3eUxOnxA_0s"
      },
      "outputs": [],
      "source": [
        "def main(data_directory, exp_directory, epochs, batch_size, model, model_name, lr=1e-4, needs_out=False, threshold=0.5):\n",
        "    # Create the deeplabv3 resnet101 model which is pretrained on a subset\n",
        "    # of COCO train2017, on the 20 categories that are present in the Pascal VOC dataset.\n",
        "    \n",
        "    model.train()\n",
        "    \n",
        "    data_directory = Path(data_directory)\n",
        "    # Create the experiment directory if not present\n",
        "    exp_directory = Path(exp_directory)\n",
        "    if not exp_directory.exists():\n",
        "        exp_directory.mkdir()\n",
        "\n",
        "    # Specify the loss function\n",
        "    criterion = torch.nn.BCELoss()\n",
        "    # criterion_borders = torch.nn.BCELoss(0.6)\n",
        "    # criterion = BoundaryWeightedLoss()\n",
        "    # criterion = DiceLoss()\n",
        "    # criterion = torch.nn.CrossEntropyLoss()\n",
        "    \n",
        "    # Specify the optimizer with a lower learning rate\n",
        "    optimizer = torch.optim.Adam(model.parameters(), lr=lr)\n",
        "    # optimizer = torch.optim.SGD(model.parameters(), lr=lr, momentum=0.9, weight_decay=1e-4)\n",
        "    scheduler = torch.optim.lr_scheduler.CosineAnnealingLR(optimizer, epochs//5, lr/10)\n",
        "    # scheduler = torch.optim.lr_scheduler.ExponentialLR(optimizer, gamma=0.9)\n",
        "\n",
        "\n",
        "    # Specify the evaluation metrics\n",
        "    metrics = {'f1_score': f1_score, 'iou': jaccard_score}\n",
        "\n",
        "    # Create the dataloader\n",
        "    dataloaders = get_dataloader_single_folder(\n",
        "        data_directory, 'image', 'label', batch_size=batch_size)\n",
        "    \n",
        "    samples = next(iter(dataloaders['Train']))\n",
        "# Display the image and mask tensor shape\n",
        "# We see the tensor size is correct bxcxhxw, where b is batch size, c is number of channels, h is height, w is width\n",
        "    wandb.watch(model)\n",
        "    _ = train_model(model,\n",
        "                      criterion,\n",
        "                      dataloaders,\n",
        "                      optimizer,\n",
        "                      bpath=exp_directory,\n",
        "                      metrics=metrics,\n",
        "                      num_epochs=epochs, \n",
        "                      needs_out=needs_out,\n",
        "                      threshold=threshold,\n",
        "                      scheduler = scheduler\n",
        "                    )\n",
        "\n",
        "      # Save the trained model\n",
        "    torch.save(model, exp_directory / f'{model_name}_weights.pt')"
      ]
    },
    {
      "cell_type": "markdown",
      "metadata": {
        "id": "aPSc2383owWs"
      },
      "source": [
        "# Models"
      ]
    },
    {
      "cell_type": "code",
      "execution_count": 23,
      "metadata": {
        "id": "-l8-q8ZID_In"
      },
      "outputs": [],
      "source": [
        "import torch\n",
        "from sklearn.metrics import f1_score, roc_auc_score, jaccard_score\n",
        "from torch.utils import data\n",
        "import time\n"
      ]
    },
    {
      "cell_type": "markdown",
      "metadata": {
        "id": "yaccB2f9nPiE"
      },
      "source": [
        "## AttUnet"
      ]
    },
    {
      "cell_type": "code",
      "execution_count": 24,
      "metadata": {
        "id": "XnjGUdYOnRL-"
      },
      "outputs": [],
      "source": [
        "import torch.nn as nn\n",
        "import torch.nn.functional as F\n",
        "import torch.utils.data\n",
        "import torch\n",
        "\n",
        "\n",
        "class conv_block(nn.Module):\n",
        "    \"\"\"\n",
        "    Convolution Block \n",
        "    \"\"\"\n",
        "    def __init__(self, in_ch, out_ch):\n",
        "        super(conv_block, self).__init__()\n",
        "        \n",
        "        self.conv = nn.Sequential(\n",
        "            nn.Conv2d(in_ch, out_ch, kernel_size=3, stride=1, padding=1, bias=True),\n",
        "            nn.BatchNorm2d(out_ch),\n",
        "            nn.ReLU(inplace=True),\n",
        "            nn.Conv2d(out_ch, out_ch, kernel_size=3, stride=1, padding=1, bias=True),\n",
        "            nn.BatchNorm2d(out_ch),\n",
        "            nn.ReLU(inplace=True))\n",
        "\n",
        "    def forward(self, x):\n",
        "\n",
        "        x = self.conv(x)\n",
        "        return x\n",
        "\n",
        "\n",
        "class up_conv(nn.Module):\n",
        "    \"\"\"\n",
        "    Up Convolution Block\n",
        "    \"\"\"\n",
        "    def __init__(self, in_ch, out_ch):\n",
        "        super(up_conv, self).__init__()\n",
        "        self.up = nn.Sequential(\n",
        "            nn.Upsample(scale_factor=2),\n",
        "            nn.Conv2d(in_ch, out_ch, kernel_size=3, stride=1, padding=1, bias=True),\n",
        "            nn.BatchNorm2d(out_ch),\n",
        "            nn.ReLU(inplace=True)\n",
        "        )\n",
        "\n",
        "    def forward(self, x):\n",
        "        x = self.up(x)\n",
        "        return x\n",
        "        \n",
        "class Attention_block(nn.Module):\n",
        "    \"\"\"\n",
        "    Attention Block\n",
        "    \"\"\"\n",
        "\n",
        "    def __init__(self, F_g, F_l, F_int):\n",
        "        super(Attention_block, self).__init__()\n",
        "\n",
        "        self.W_g = nn.Sequential(\n",
        "            nn.Conv2d(F_l, F_int, kernel_size=1, stride=1, padding=0, bias=True),\n",
        "            nn.BatchNorm2d(F_int)\n",
        "        )\n",
        "\n",
        "        self.W_x = nn.Sequential(\n",
        "            nn.Conv2d(F_g, F_int, kernel_size=1, stride=1, padding=0, bias=True),\n",
        "            nn.BatchNorm2d(F_int)\n",
        "        )\n",
        "\n",
        "        self.psi = nn.Sequential(\n",
        "            nn.Conv2d(F_int, 1, kernel_size=1, stride=1, padding=0, bias=True),\n",
        "            nn.BatchNorm2d(1),\n",
        "            nn.Sigmoid()\n",
        "        )\n",
        "\n",
        "        self.relu = nn.ReLU(inplace=True)\n",
        "\n",
        "    def forward(self, g, x):\n",
        "        g1 = self.W_g(g)\n",
        "        x1 = self.W_x(x)\n",
        "        psi = self.relu(g1 + x1)\n",
        "        psi = self.psi(psi)\n",
        "        out = x * psi\n",
        "        return out\n",
        "\n",
        "class AttU_Net(nn.Module):\n",
        "    \"\"\"\n",
        "    Attention Unet implementation\n",
        "    Paper: https://arxiv.org/abs/1804.03999\n",
        "    \"\"\"\n",
        "    def __init__(self, img_ch=3, output_ch=1):\n",
        "        super(AttU_Net, self).__init__()\n",
        "\n",
        "        n1 = 64\n",
        "        filters = [n1, n1 * 2, n1 * 4, n1 * 8, n1 * 16]\n",
        "\n",
        "        self.Maxpool1 = nn.MaxPool2d(kernel_size=2, stride=2)\n",
        "        self.Maxpool2 = nn.MaxPool2d(kernel_size=2, stride=2)\n",
        "        self.Maxpool3 = nn.MaxPool2d(kernel_size=2, stride=2)\n",
        "        self.Maxpool4 = nn.MaxPool2d(kernel_size=2, stride=2)\n",
        "\n",
        "        self.Conv1 = conv_block(img_ch, filters[0])\n",
        "        self.Conv2 = conv_block(filters[0], filters[1])\n",
        "        self.Conv3 = conv_block(filters[1], filters[2])\n",
        "        self.Conv4 = conv_block(filters[2], filters[3])\n",
        "        self.Conv5 = conv_block(filters[3], filters[4])\n",
        "\n",
        "        self.Up5 = up_conv(filters[4], filters[3])\n",
        "        self.Att5 = Attention_block(F_g=filters[3], F_l=filters[3], F_int=filters[2])\n",
        "        self.Up_conv5 = conv_block(filters[4], filters[3])\n",
        "\n",
        "        self.Up4 = up_conv(filters[3], filters[2])\n",
        "        self.Att4 = Attention_block(F_g=filters[2], F_l=filters[2], F_int=filters[1])\n",
        "        self.Up_conv4 = conv_block(filters[3], filters[2])\n",
        "\n",
        "        self.Up3 = up_conv(filters[2], filters[1])\n",
        "        self.Att3 = Attention_block(F_g=filters[1], F_l=filters[1], F_int=filters[0])\n",
        "        self.Up_conv3 = conv_block(filters[2], filters[1])\n",
        "\n",
        "        self.Up2 = up_conv(filters[1], filters[0])\n",
        "        self.Att2 = Attention_block(F_g=filters[0], F_l=filters[0], F_int=32)\n",
        "        self.Up_conv2 = conv_block(filters[1], filters[0])\n",
        "\n",
        "        self.Conv = nn.Conv2d(filters[0], output_ch, kernel_size=1, stride=1, padding=0)\n",
        "\n",
        "        self.active = torch.nn.Sigmoid()\n",
        "\n",
        "\n",
        "    def forward(self, x):\n",
        "\n",
        "        e1 = self.Conv1(x)\n",
        "\n",
        "        e2 = self.Maxpool1(e1)\n",
        "        e2 = self.Conv2(e2)\n",
        "\n",
        "        e3 = self.Maxpool2(e2)\n",
        "        e3 = self.Conv3(e3)\n",
        "\n",
        "        e4 = self.Maxpool3(e3)\n",
        "        e4 = self.Conv4(e4)\n",
        "\n",
        "        e5 = self.Maxpool4(e4)\n",
        "        e5 = self.Conv5(e5)\n",
        "\n",
        "        #print(x5.shape)\n",
        "        d5 = self.Up5(e5)\n",
        "        #print(d5.shape)\n",
        "        x4 = self.Att5(g=d5, x=e4)\n",
        "        d5 = torch.cat((x4, d5), dim=1)\n",
        "        d5 = self.Up_conv5(d5)\n",
        "\n",
        "        d4 = self.Up4(d5)\n",
        "        x3 = self.Att4(g=d4, x=e3)\n",
        "        d4 = torch.cat((x3, d4), dim=1)\n",
        "        d4 = self.Up_conv4(d4)\n",
        "\n",
        "        d3 = self.Up3(d4)\n",
        "        x2 = self.Att3(g=d3, x=e2)\n",
        "        d3 = torch.cat((x2, d3), dim=1)\n",
        "        d3 = self.Up_conv3(d3)\n",
        "\n",
        "        d2 = self.Up2(d3)\n",
        "        x1 = self.Att2(g=d2, x=e1)\n",
        "        d2 = torch.cat((x1, d2), dim=1)\n",
        "        d2 = self.Up_conv2(d2)\n",
        "\n",
        "        out = self.Conv(d2)\n",
        "\n",
        "        out = self.active(out)\n",
        "\n",
        "        return out"
      ]
    },
    {
      "cell_type": "code",
      "execution_count": 25,
      "metadata": {
        "id": "nFMSixZ0nnnz"
      },
      "outputs": [],
      "source": [
        "def createUnetAtt():\n",
        "    model = AttU_Net(img_ch=1)\n",
        "    model.train()\n",
        "    return model"
      ]
    },
    {
      "cell_type": "code",
      "source": [
        "attunet = createUnetAtt()"
      ],
      "metadata": {
        "id": "s77fQu21raNe"
      },
      "execution_count": 26,
      "outputs": []
    },
    {
      "cell_type": "markdown",
      "source": [],
      "metadata": {
        "id": "vsBAZbKKQsMj"
      }
    },
    {
      "cell_type": "markdown",
      "metadata": {
        "id": "x_DkdXswqorB"
      },
      "source": [
        "## TransUnet"
      ]
    },
    {
      "cell_type": "code",
      "execution_count": 27,
      "metadata": {
        "colab": {
          "base_uri": "https://localhost:8080/"
        },
        "id": "xyC9gV8EqyZR",
        "outputId": "0033c063-38c2-406d-fbbe-54a569b5ef17"
      },
      "outputs": [
        {
          "output_type": "stream",
          "name": "stdout",
          "text": [
            "Looking in indexes: https://pypi.org/simple, https://us-python.pkg.dev/colab-wheels/public/simple/\n",
            "Collecting einops\n",
            "  Downloading einops-0.6.0-py3-none-any.whl (41 kB)\n",
            "\u001b[?25l     \u001b[90m━━━━━━━━━━━━━━━━━━━━━━━━━━━━━━━━━━━━━━━━\u001b[0m \u001b[32m0.0/41.6 KB\u001b[0m \u001b[31m?\u001b[0m eta \u001b[36m-:--:--\u001b[0m\r\u001b[2K     \u001b[90m━━━━━━━━━━━━━━━━━━━━━━━━━━━━━━━━━━━━━━━━\u001b[0m \u001b[32m41.6/41.6 KB\u001b[0m \u001b[31m1.9 MB/s\u001b[0m eta \u001b[36m0:00:00\u001b[0m\n",
            "\u001b[?25hInstalling collected packages: einops\n",
            "Successfully installed einops-0.6.0\n"
          ]
        }
      ],
      "source": [
        "pip install einops"
      ]
    },
    {
      "cell_type": "code",
      "execution_count": 28,
      "metadata": {
        "id": "e6PwtedtrAFB",
        "colab": {
          "base_uri": "https://localhost:8080/"
        },
        "outputId": "a4519303-4a8f-49c9-fa07-04142f62fd23"
      },
      "outputs": [
        {
          "output_type": "stream",
          "name": "stdout",
          "text": [
            "66882673\n",
            "torch.Size([1, 1, 128, 128])\n"
          ]
        }
      ],
      "source": [
        "import torch\n",
        "import torch.nn as nn\n",
        "import numpy as np\n",
        "from einops import rearrange, repeat\n",
        "\n",
        "\n",
        "class MultiHeadAttention(nn.Module):\n",
        "    def __init__(self, embedding_dim, head_num):\n",
        "        super().__init__()\n",
        "\n",
        "        self.head_num = head_num\n",
        "        self.dk = (embedding_dim // head_num) ** (1 / 2)\n",
        "\n",
        "        self.qkv_layer = nn.Linear(embedding_dim, embedding_dim * 3, bias=False)\n",
        "        self.out_attention = nn.Linear(embedding_dim, embedding_dim, bias=False)\n",
        "\n",
        "    def forward(self, x, mask=None):\n",
        "        qkv = self.qkv_layer(x)\n",
        "\n",
        "        query, key, value = tuple(rearrange(qkv, 'b t (d k h ) -> k b h t d ', k=3, h=self.head_num))\n",
        "        energy = torch.einsum(\"... i d , ... j d -> ... i j\", query, key) * self.dk\n",
        "\n",
        "        if mask is not None:\n",
        "            energy = energy.masked_fill(mask, -np.inf)\n",
        "\n",
        "        attention = torch.softmax(energy, dim=-1)\n",
        "\n",
        "        x = torch.einsum(\"... i j , ... j d -> ... i d\", attention, value)\n",
        "\n",
        "        x = rearrange(x, \"b h t d -> b t (h d)\")\n",
        "        x = self.out_attention(x)\n",
        "\n",
        "        return x\n",
        "\n",
        "\n",
        "class MLP(nn.Module):\n",
        "    def __init__(self, embedding_dim, mlp_dim):\n",
        "        super().__init__()\n",
        "\n",
        "        self.mlp_layers = nn.Sequential(\n",
        "            nn.Linear(embedding_dim, mlp_dim),\n",
        "            nn.GELU(),\n",
        "            nn.Dropout(0.1),\n",
        "            nn.Linear(mlp_dim, embedding_dim),\n",
        "            nn.Dropout(0.1)\n",
        "        )\n",
        "\n",
        "    def forward(self, x):\n",
        "        x = self.mlp_layers(x)\n",
        "\n",
        "        return x\n",
        "\n",
        "\n",
        "class TransformerEncoderBlock(nn.Module):\n",
        "    def __init__(self, embedding_dim, head_num, mlp_dim):\n",
        "        super().__init__()\n",
        "\n",
        "        self.multi_head_attention = MultiHeadAttention(embedding_dim, head_num)\n",
        "        self.mlp = MLP(embedding_dim, mlp_dim)\n",
        "\n",
        "        self.layer_norm1 = nn.LayerNorm(embedding_dim)\n",
        "        self.layer_norm2 = nn.LayerNorm(embedding_dim)\n",
        "\n",
        "        self.dropout = nn.Dropout(0.1)\n",
        "\n",
        "    def forward(self, x):\n",
        "        _x = self.multi_head_attention(x)\n",
        "        _x = self.dropout(_x)\n",
        "        x = x + _x\n",
        "        x = self.layer_norm1(x)\n",
        "\n",
        "        _x = self.mlp(x)\n",
        "        x = x + _x\n",
        "        x = self.layer_norm2(x)\n",
        "\n",
        "        return x\n",
        "\n",
        "\n",
        "class TransformerEncoder(nn.Module):\n",
        "    def __init__(self, embedding_dim, head_num, mlp_dim, block_num=12):\n",
        "        super().__init__()\n",
        "\n",
        "        self.layer_blocks = nn.ModuleList(\n",
        "            [TransformerEncoderBlock(embedding_dim, head_num, mlp_dim) for _ in range(block_num)])\n",
        "\n",
        "    def forward(self, x):\n",
        "        for layer_block in self.layer_blocks:\n",
        "            x = layer_block(x)\n",
        "\n",
        "        return x\n",
        "\n",
        "\n",
        "class ViT(nn.Module):\n",
        "    def __init__(self, img_dim, in_channels, embedding_dim, head_num, mlp_dim,\n",
        "                 block_num, patch_dim, classification=True, num_classes=1):\n",
        "        super().__init__()\n",
        "\n",
        "        self.patch_dim = patch_dim\n",
        "        self.classification = classification\n",
        "        self.num_tokens = (img_dim // patch_dim) ** 2\n",
        "        self.token_dim = in_channels * (patch_dim ** 2)\n",
        "\n",
        "        self.projection = nn.Linear(self.token_dim, embedding_dim)\n",
        "        self.embedding = nn.Parameter(torch.rand(self.num_tokens + 1, embedding_dim))\n",
        "\n",
        "        self.cls_token = nn.Parameter(torch.randn(1, 1, embedding_dim))\n",
        "\n",
        "        self.dropout = nn.Dropout(0.1)\n",
        "\n",
        "        self.transformer = TransformerEncoder(embedding_dim, head_num, mlp_dim, block_num)\n",
        "\n",
        "        if self.classification:\n",
        "            self.mlp_head = nn.Linear(embedding_dim, num_classes)\n",
        "\n",
        "    def forward(self, x):\n",
        "        img_patches = rearrange(x,\n",
        "                                'b c (patch_x x) (patch_y y) -> b (x y) (patch_x patch_y c)',\n",
        "                                patch_x=self.patch_dim, patch_y=self.patch_dim)\n",
        "\n",
        "        batch_size, tokens, _ = img_patches.shape\n",
        "\n",
        "        project = self.projection(img_patches)\n",
        "        token = repeat(self.cls_token, 'b ... -> (b batch_size) ...',\n",
        "                       batch_size=batch_size)\n",
        "\n",
        "        patches = torch.cat([token, project], dim=1)\n",
        "        patches += self.embedding[:tokens + 1, :]\n",
        "\n",
        "        x = self.dropout(patches)\n",
        "        x = self.transformer(x)\n",
        "        x = self.mlp_head(x[:, 0, :]) if self.classification else x[:, 1:, :]\n",
        "\n",
        "        return x\n",
        "\n",
        "\n",
        "import torch\n",
        "import torch.nn as nn\n",
        "from einops import rearrange\n",
        "\n",
        "\n",
        "class EncoderBottleneck(nn.Module):\n",
        "    def __init__(self, in_channels, out_channels, stride=1, base_width=64):\n",
        "        super().__init__()\n",
        "\n",
        "        self.downsample = nn.Sequential(\n",
        "            nn.Conv2d(in_channels, out_channels, kernel_size=1, stride=stride, bias=False),\n",
        "            nn.BatchNorm2d(out_channels)\n",
        "        )\n",
        "\n",
        "        width = int(out_channels * (base_width / 64))\n",
        "\n",
        "        self.conv1 = nn.Conv2d(in_channels, width, kernel_size=1, stride=1, bias=False)\n",
        "        self.norm1 = nn.BatchNorm2d(width)\n",
        "\n",
        "        self.conv2 = nn.Conv2d(width, width, kernel_size=3, stride=2, groups=1, padding=1, dilation=1, bias=False)\n",
        "        self.norm2 = nn.BatchNorm2d(width)\n",
        "        # self.conv2 = nn.Conv2d(out_channels * 8, out_channels * 4, kernel_size=3, stride=1, padding=1)\n",
        "        # self.norm2 = nn.BatchNorm2d(out_channels * 4)   \n",
        "\n",
        "        self.conv3 = nn.Conv2d(width, out_channels, kernel_size=1, stride=1, bias=False)\n",
        "        self.norm3 = nn.BatchNorm2d(out_channels)\n",
        "\n",
        "        self.relu = nn.ReLU(inplace=True)\n",
        "\n",
        "    def forward(self, x):\n",
        "        x_down = self.downsample(x)\n",
        "\n",
        "        x = self.conv1(x)\n",
        "        x = self.norm1(x)\n",
        "        x = self.relu(x)\n",
        "\n",
        "        x = self.conv2(x)\n",
        "        x = self.norm2(x)\n",
        "        x = self.relu(x)\n",
        "\n",
        "        x = self.conv3(x)\n",
        "        x = self.norm3(x)\n",
        "        x = x + x_down\n",
        "        x = self.relu(x)\n",
        "\n",
        "        return x\n",
        "\n",
        "\n",
        "class DecoderBottleneck(nn.Module):\n",
        "    def __init__(self, in_channels, out_channels, scale_factor=2):\n",
        "        super().__init__()\n",
        "\n",
        "        self.upsample = nn.Upsample(scale_factor=scale_factor, mode='bilinear', align_corners=True)\n",
        "        self.layer = nn.Sequential(\n",
        "            nn.Conv2d(in_channels, out_channels, kernel_size=3, stride=1, padding=1),\n",
        "            nn.BatchNorm2d(out_channels),\n",
        "            nn.ReLU(inplace=True),\n",
        "            nn.Conv2d(out_channels, out_channels, kernel_size=3, stride=1, padding=1),\n",
        "            nn.BatchNorm2d(out_channels),\n",
        "            nn.ReLU(inplace=True)\n",
        "        )\n",
        "\n",
        "    def forward(self, x, x_concat=None):\n",
        "        x = self.upsample(x)\n",
        "\n",
        "        if x_concat is not None:\n",
        "            x = torch.cat([x_concat, x], dim=1)\n",
        "\n",
        "        x = self.layer(x)\n",
        "        return x\n",
        "\n",
        "class EncoderTrans(nn.Module):\n",
        "      def __init__(self, img_dim, in_channels, out_channels, head_num, mlp_dim, block_num, patch_dim):\n",
        "          super().__init__()\n",
        "\n",
        "          self.conv1 = nn.Conv2d(in_channels, out_channels, kernel_size=7, stride=2, padding=3, bias=False)\n",
        "          self.norm1 = nn.BatchNorm2d(out_channels)\n",
        "          self.relu = nn.ReLU(inplace=True)\n",
        "\n",
        "          self.encoder1 = EncoderBottleneck(out_channels, out_channels * 2, stride=2)\n",
        "          self.encoder2 = EncoderBottleneck(out_channels * 2, out_channels * 4, stride=2)\n",
        "          self.encoder3 = EncoderBottleneck(out_channels * 4, out_channels * 8, stride=2)\n",
        "\n",
        "          self.vit_img_dim = img_dim // patch_dim\n",
        "          self.vit = ViT(self.vit_img_dim, out_channels * 8, out_channels * 8,\n",
        "                        head_num, mlp_dim, block_num, patch_dim=1, classification=False)\n",
        "\n",
        "          self.conv2 = nn.Conv2d(out_channels * 8, 512, kernel_size=3, stride=1, padding=1)\n",
        "          self.norm2 = nn.BatchNorm2d(512)\n",
        "\n",
        "      def forward(self, x):\n",
        "          x = self.conv1(x)\n",
        "          x = self.norm1(x)\n",
        "          x1 = self.relu(x)\n",
        "\n",
        "          x2 = self.encoder1(x1)\n",
        "          x3 = self.encoder2(x2)\n",
        "          x = self.encoder3(x3)\n",
        "\n",
        "          x = self.vit(x)\n",
        "          x = rearrange(x, \"b (x y) c -> b c x y\", x=self.vit_img_dim, y=self.vit_img_dim)\n",
        "\n",
        "          x = self.conv2(x)\n",
        "          x = self.norm2(x)\n",
        "          x = self.relu(x)\n",
        "\n",
        "          return x, x1, x2, x3\n",
        "\n",
        "\n",
        "class DecoderTrans(nn.Module):\n",
        "    def __init__(self, out_channels, class_num):\n",
        "        super().__init__()\n",
        "\n",
        "        self.decoder1 = DecoderBottleneck(out_channels * 8, out_channels * 2)\n",
        "        self.decoder2 = DecoderBottleneck(out_channels * 4, out_channels)\n",
        "        self.decoder3 = DecoderBottleneck(out_channels * 2, int(out_channels * 1 / 2))\n",
        "        self.decoder4 = DecoderBottleneck(int(out_channels * 1 / 2), int(out_channels * 1 / 8))\n",
        "\n",
        "        self.conv1 = nn.Conv2d(int(out_channels * 1 / 8), class_num, kernel_size=1)\n",
        "\n",
        "        self.active = torch.nn.Sigmoid()\n",
        "\n",
        "    def forward(self, x, x1, x2, x3):\n",
        "        x = self.decoder1(x, x3)\n",
        "        x = self.decoder2(x, x2)\n",
        "        x = self.decoder3(x, x1)\n",
        "        x = self.decoder4(x)\n",
        "        x = self.conv1(x)\n",
        "        x = self.active(x)\n",
        "\n",
        "        return x\n",
        "\n",
        "class TransUNet(nn.Module):\n",
        "    def __init__(self, img_dim, in_channels, out_channels, head_num, mlp_dim, block_num, patch_dim, class_num):\n",
        "        super().__init__()\n",
        "\n",
        "        self.encoder = EncoderTrans(img_dim, in_channels, out_channels,\n",
        "                                    head_num, mlp_dim, block_num, patch_dim)\n",
        "\n",
        "        self.decoder = DecoderTrans(out_channels, class_num)\n",
        "\n",
        "    def forward(self, x):\n",
        "        x, x1, x2, x3 = self.encoder(x)\n",
        "        x = self.decoder(x, x1, x2, x3)\n",
        "\n",
        "        return x\n",
        "\n",
        "    \n",
        "\n",
        "\n",
        "if __name__ == '__main__':\n",
        "    import torch\n",
        "\n",
        "    transunet = TransUNet(img_dim=128,\n",
        "                          in_channels=3,\n",
        "                          out_channels=128,\n",
        "                          head_num=4,\n",
        "                          mlp_dim=512,\n",
        "                          block_num=8,\n",
        "                          patch_dim=16,\n",
        "                          class_num=1)\n",
        "\n",
        "    print(sum(p.numel() for p in transunet.parameters()))\n",
        "    print(transunet(torch.randn(1, 3, 128, 128)).shape)"
      ]
    },
    {
      "cell_type": "code",
      "execution_count": 29,
      "metadata": {
        "id": "hPF2RrxDrLvT"
      },
      "outputs": [],
      "source": [
        "def createTransUnet():\n",
        "    # model = TransUNet(img_dim=512,\n",
        "    #                     in_channels=3,\n",
        "    #                     out_channels=128,\n",
        "    #                     head_num=4,\n",
        "    #                     mlp_dim=512,\n",
        "    #                     block_num=8,\n",
        "    #                     patch_dim=16,\n",
        "    #                     class_num=1)\n",
        "    model = TransUNet(img_dim=256,\n",
        "                    in_channels=1,\n",
        "                    out_channels=128,\n",
        "                    head_num=4,\n",
        "                    mlp_dim=512,\n",
        "                    block_num=8,\n",
        "                    patch_dim=16,\n",
        "                    class_num=1)\n",
        "    model.train()\n",
        "    return model"
      ]
    },
    {
      "cell_type": "code",
      "execution_count": 30,
      "metadata": {
        "id": "jP54pcfTrYDN"
      },
      "outputs": [],
      "source": [
        "#https://github.com/mkara44/transunet_pytorch/tree/929e07b35a9769a7deffc42031322fe722545190"
      ]
    },
    {
      "cell_type": "markdown",
      "source": [
        "## DS-TransUnet"
      ],
      "metadata": {
        "id": "KXecd9AkCLgh"
      }
    },
    {
      "cell_type": "code",
      "source": [
        "pip install timm"
      ],
      "metadata": {
        "colab": {
          "base_uri": "https://localhost:8080/"
        },
        "id": "hWuzcwfAhoGW",
        "outputId": "8932296e-e5d5-4aa6-d2db-5749c9a5d5fb"
      },
      "execution_count": 31,
      "outputs": [
        {
          "output_type": "stream",
          "name": "stdout",
          "text": [
            "Looking in indexes: https://pypi.org/simple, https://us-python.pkg.dev/colab-wheels/public/simple/\n",
            "Requirement already satisfied: timm in /usr/local/lib/python3.9/dist-packages (0.6.12)\n",
            "Requirement already satisfied: huggingface-hub in /usr/local/lib/python3.9/dist-packages (from timm) (0.13.2)\n",
            "Requirement already satisfied: torchvision in /usr/local/lib/python3.9/dist-packages (from timm) (0.14.1+cu116)\n",
            "Requirement already satisfied: torch>=1.7 in /usr/local/lib/python3.9/dist-packages (from timm) (1.13.1+cu116)\n",
            "Requirement already satisfied: pyyaml in /usr/local/lib/python3.9/dist-packages (from timm) (6.0)\n",
            "Requirement already satisfied: typing-extensions in /usr/local/lib/python3.9/dist-packages (from torch>=1.7->timm) (4.5.0)\n",
            "Requirement already satisfied: tqdm>=4.42.1 in /usr/local/lib/python3.9/dist-packages (from huggingface-hub->timm) (4.65.0)\n",
            "Requirement already satisfied: packaging>=20.9 in /usr/local/lib/python3.9/dist-packages (from huggingface-hub->timm) (23.0)\n",
            "Requirement already satisfied: requests in /usr/local/lib/python3.9/dist-packages (from huggingface-hub->timm) (2.25.1)\n",
            "Requirement already satisfied: filelock in /usr/local/lib/python3.9/dist-packages (from huggingface-hub->timm) (3.9.0)\n",
            "Requirement already satisfied: numpy in /usr/local/lib/python3.9/dist-packages (from torchvision->timm) (1.22.4)\n",
            "Requirement already satisfied: pillow!=8.3.*,>=5.3.0 in /usr/local/lib/python3.9/dist-packages (from torchvision->timm) (8.4.0)\n",
            "Requirement already satisfied: urllib3<1.27,>=1.21.1 in /usr/local/lib/python3.9/dist-packages (from requests->huggingface-hub->timm) (1.26.15)\n",
            "Requirement already satisfied: idna<3,>=2.5 in /usr/local/lib/python3.9/dist-packages (from requests->huggingface-hub->timm) (2.10)\n",
            "Requirement already satisfied: chardet<5,>=3.0.2 in /usr/local/lib/python3.9/dist-packages (from requests->huggingface-hub->timm) (4.0.0)\n",
            "Requirement already satisfied: certifi>=2017.4.17 in /usr/local/lib/python3.9/dist-packages (from requests->huggingface-hub->timm) (2022.12.7)\n"
          ]
        }
      ]
    },
    {
      "cell_type": "code",
      "source": [
        "import torch\n",
        "from torch import nn, einsum\n",
        "import torch.nn.functional as F\n",
        "\n",
        "from einops import rearrange, repeat\n",
        "from einops.layers.torch import Rearrange\n",
        "\n",
        "\n",
        "class Residual(nn.Module):\n",
        "    def __init__(self, fn):\n",
        "        super().__init__()\n",
        "        self.fn = fn\n",
        "\n",
        "    def forward(self, x, **kwargs):\n",
        "        return self.fn(x, **kwargs) + x\n",
        "\n",
        "\n",
        "class PreNorm(nn.Module):\n",
        "    def __init__(self, dim, fn):\n",
        "        super().__init__()\n",
        "        self.norm = nn.LayerNorm(dim)\n",
        "        self.fn = fn\n",
        "\n",
        "    def forward(self, x, **kwargs):\n",
        "        return self.fn(self.norm(x), **kwargs)\n",
        "\n",
        "\n",
        "class FeedForward(nn.Module):\n",
        "    def __init__(self, dim, hidden_dim, dropout=0.):\n",
        "        super().__init__()\n",
        "        self.net = nn.Sequential(\n",
        "            nn.Linear(dim, hidden_dim),\n",
        "            nn.GELU(),\n",
        "            nn.Dropout(dropout),\n",
        "            nn.Linear(hidden_dim, dim),\n",
        "            nn.Dropout(dropout)\n",
        "        )\n",
        "\n",
        "    def forward(self, x):\n",
        "        return self.net(x)\n",
        "\n",
        "\n",
        "class Attention(nn.Module):\n",
        "    def __init__(self, dim, heads=8, dim_head=64, dropout=0.):\n",
        "        super().__init__()\n",
        "        inner_dim = dim_head * heads\n",
        "        project_out = not (heads == 1 and dim_head == dim)\n",
        "\n",
        "        self.heads = heads\n",
        "        self.scale = dim_head ** -0.5\n",
        "\n",
        "        self.to_qkv = nn.Linear(dim, inner_dim * 3, bias=False)\n",
        "\n",
        "        self.to_out = nn.Sequential(\n",
        "            nn.Linear(inner_dim, dim),\n",
        "            nn.Dropout(dropout)\n",
        "        ) if project_out else nn.Identity()\n",
        "\n",
        "    def forward(self, x):\n",
        "        b, n, _, h = *x.shape, self.heads\n",
        "        qkv = self.to_qkv(x).chunk(3, dim=-1)\n",
        "        q, k, v = map(lambda t: rearrange(t, 'b n (h d) -> b h n d', h=h), qkv)\n",
        "\n",
        "        dots = einsum('b h i d, b h j d -> b h i j', q, k) * self.scale\n",
        "\n",
        "        attn = dots.softmax(dim=-1)\n",
        "\n",
        "        out = einsum('b h i j, b h j d -> b h i d', attn, v)\n",
        "        out = rearrange(out, 'b h n d -> b n (h d)')\n",
        "        out = self.to_out(out)\n",
        "        return out\n",
        "\n",
        "\n",
        "class CrossAttention(nn.Module):\n",
        "    def __init__(self, dim, heads=8, dim_head=64, dropout=0.):\n",
        "        super().__init__()\n",
        "        inner_dim = dim_head * heads\n",
        "        project_out = not (heads == 1 and dim_head == dim)\n",
        "\n",
        "        self.heads = heads\n",
        "        self.scale = dim_head ** -0.5\n",
        "\n",
        "        self.to_k = nn.Linear(dim, inner_dim, bias=False)\n",
        "        self.to_v = nn.Linear(dim, inner_dim, bias=False)\n",
        "        self.to_q = nn.Linear(dim, inner_dim, bias=False)\n",
        "\n",
        "        self.to_out = nn.Sequential(\n",
        "            nn.Linear(inner_dim, dim),\n",
        "            nn.Dropout(dropout)\n",
        "        ) if project_out else nn.Identity()\n",
        "\n",
        "    def forward(self, x_qkv):\n",
        "        b, n, _, h = *x_qkv.shape, self.heads\n",
        "\n",
        "        k = self.to_k(x_qkv)\n",
        "        k = rearrange(k, 'b n (h d) -> b h n d', h=h)\n",
        "\n",
        "        v = self.to_v(x_qkv)\n",
        "        v = rearrange(v, 'b n (h d) -> b h n d', h=h)\n",
        "\n",
        "        q = self.to_q(x_qkv[:, 0].unsqueeze(1))\n",
        "        q = rearrange(q, 'b n (h d) -> b h n d', h=h)\n",
        "\n",
        "        dots = einsum('b h i d, b h j d -> b h i j', q, k) * self.scale\n",
        "\n",
        "        attn = dots.softmax(dim=-1)\n",
        "\n",
        "        out = einsum('b h i j, b h j d -> b h i d', attn, v)\n",
        "        out = rearrange(out, 'b h n d -> b n (h d)')\n",
        "        out = self.to_out(out)\n",
        "        return out\n",
        "\n",
        "\n",
        "import torch\n",
        "import torch.nn as nn\n",
        "import torch.nn.functional as F\n",
        "import torch.utils.checkpoint as checkpoint\n",
        "import numpy as np\n",
        "from timm.models.layers import DropPath, to_2tuple, trunc_normal_\n",
        "from torch.autograd import Variable\n",
        "\n",
        "# from utils.checkpoint import load_checkpoint\n",
        "# from mmseg.utils import get_root_logger\n",
        "\n",
        "# from utils.module import Attention, PreNorm, FeedForward, CrossAttention\n",
        "\n",
        "groups = 32\n",
        "\n",
        "\n",
        "class Mlp(nn.Module):\n",
        "    \"\"\" Multilayer perceptron.\"\"\"\n",
        "\n",
        "    def __init__(self, in_features, hidden_features=None, out_features=None, act_layer=nn.GELU, drop=0.):\n",
        "        super().__init__()\n",
        "        out_features = out_features or in_features\n",
        "        hidden_features = hidden_features or in_features\n",
        "        self.fc1 = nn.Linear(in_features, hidden_features).cuda()\n",
        "        self.act = act_layer()\n",
        "        self.fc2 = nn.Linear(hidden_features, out_features).cuda()\n",
        "        self.drop = nn.Dropout(drop)\n",
        "\n",
        "    def forward(self, x):\n",
        "        x = self.fc1(x)\n",
        "        x = self.act(x)\n",
        "        x = self.drop(x)\n",
        "        x = self.fc2(x)\n",
        "        x = self.drop(x)\n",
        "        return x\n",
        "\n",
        "\n",
        "def window_partition(x, window_size):\n",
        "    \"\"\"\n",
        "    Args:\n",
        "        x: (B, H, W, C)\n",
        "        window_size (int): window size\n",
        "    Returns:\n",
        "        windows: (num_windows*B, window_size, window_size, C)\n",
        "    \"\"\"\n",
        "    B, H, W, C = x.shape\n",
        "    x = x.view(B, H // window_size, window_size, W // window_size, window_size, C)\n",
        "    windows = x.permute(0, 1, 3, 2, 4, 5).contiguous().view(-1, window_size, window_size, C)\n",
        "    return windows\n",
        "\n",
        "\n",
        "def window_reverse(windows, window_size, H, W):\n",
        "    \"\"\"\n",
        "    Args:\n",
        "        windows: (num_windows*B, window_size, window_size, C)\n",
        "        window_size (int): Window size\n",
        "        H (int): Height of image\n",
        "        W (int): Width of image\n",
        "    Returns:\n",
        "        x: (B, H, W, C)\n",
        "    \"\"\"\n",
        "    B = int(windows.shape[0] / (H * W / window_size / window_size))\n",
        "    x = windows.view(B, H // window_size, W // window_size, window_size, window_size, -1)\n",
        "    x = x.permute(0, 1, 3, 2, 4, 5).contiguous().view(B, H, W, -1)\n",
        "    return x\n",
        "\n",
        "\n",
        "class WindowAttention(nn.Module):\n",
        "    \"\"\" Window based multi-head self attention (W-MSA) module with relative position bias.\n",
        "    It supports both of shifted and non-shifted window.\n",
        "    Args:\n",
        "        dim (int): Number of input channels.\n",
        "        window_size (tuple[int]): The height and width of the window.\n",
        "        num_heads (int): Number of attention heads.\n",
        "        qkv_bias (bool, optional):  If True, add a learnable bias to query, key, value. Default: True\n",
        "        qk_scale (float | None, optional): Override default qk scale of head_dim ** -0.5 if set\n",
        "        attn_drop (float, optional): Dropout ratio of attention weight. Default: 0.0\n",
        "        proj_drop (float, optional): Dropout ratio of output. Default: 0.0\n",
        "    \"\"\"\n",
        "\n",
        "    def __init__(self, dim, window_size, num_heads, qkv_bias=True, qk_scale=None, attn_drop=0., proj_drop=0.):\n",
        "\n",
        "        super().__init__()\n",
        "        self.dim = dim\n",
        "        self.window_size = window_size  # Wh, Ww\n",
        "        self.num_heads = num_heads\n",
        "        head_dim = dim // num_heads\n",
        "        self.scale = qk_scale or head_dim ** -0.5\n",
        "\n",
        "        # define a parameter table of relative position bias\n",
        "        self.relative_position_bias_table = nn.Parameter(\n",
        "            torch.zeros((2 * window_size[0] - 1) * (2 * window_size[1] - 1), num_heads))  # 2*Wh-1 * 2*Ww-1, nH\n",
        "\n",
        "        # get pair-wise relative position index for each token inside the window\n",
        "        coords_h = torch.arange(self.window_size[0])\n",
        "        coords_w = torch.arange(self.window_size[1])\n",
        "        coords = torch.stack(torch.meshgrid([coords_h, coords_w]))  # 2, Wh, Ww\n",
        "        coords_flatten = torch.flatten(coords, 1)  # 2, Wh*Ww\n",
        "        relative_coords = coords_flatten[:, :, None] - coords_flatten[:, None, :]  # 2, Wh*Ww, Wh*Ww\n",
        "        relative_coords = relative_coords.permute(1, 2, 0).contiguous()  # Wh*Ww, Wh*Ww, 2\n",
        "        relative_coords[:, :, 0] += self.window_size[0] - 1  # shift to start from 0\n",
        "        relative_coords[:, :, 1] += self.window_size[1] - 1\n",
        "        relative_coords[:, :, 0] *= 2 * self.window_size[1] - 1\n",
        "        relative_position_index = relative_coords.sum(-1)  # Wh*Ww, Wh*Ww\n",
        "        self.register_buffer(\"relative_position_index\", relative_position_index)\n",
        "\n",
        "        self.qkv = nn.Linear(dim, dim * 3, bias=qkv_bias)\n",
        "        self.attn_drop = nn.Dropout(attn_drop)\n",
        "        self.proj = nn.Linear(dim, dim)\n",
        "        self.proj_drop = nn.Dropout(proj_drop)\n",
        "\n",
        "        trunc_normal_(self.relative_position_bias_table, std=.02)\n",
        "        self.softmax = nn.Softmax(dim=-1)\n",
        "\n",
        "    def forward(self, x, mask=None):\n",
        "        \"\"\" Forward function.\n",
        "        Args:\n",
        "            x: input features with shape of (num_windows*B, N, C)\n",
        "            mask: (0/-inf) mask with shape of (num_windows, Wh*Ww, Wh*Ww) or None\n",
        "        \"\"\"\n",
        "        B_, N, C = x.shape\n",
        "        qkv = self.qkv(x).reshape(B_, N, 3, self.num_heads, C // self.num_heads).permute(2, 0, 3, 1, 4)\n",
        "        q, k, v = qkv[0], qkv[1], qkv[2]  # make torchscript happy (cannot use tensor as tuple)\n",
        "\n",
        "        q = q * self.scale\n",
        "        attn = (q @ k.transpose(-2, -1))\n",
        "\n",
        "        relative_position_bias = self.relative_position_bias_table[self.relative_position_index.view(-1)].view(\n",
        "            self.window_size[0] * self.window_size[1], self.window_size[0] * self.window_size[1], -1)  # Wh*Ww,Wh*Ww,nH\n",
        "        relative_position_bias = relative_position_bias.permute(2, 0, 1).contiguous()  # nH, Wh*Ww, Wh*Ww\n",
        "        attn = attn + relative_position_bias.unsqueeze(0)\n",
        "\n",
        "        if mask is not None:\n",
        "            nW = mask.shape[0]\n",
        "            attn = attn.view(B_ // nW, nW, self.num_heads, N, N) + mask.unsqueeze(1).unsqueeze(0)\n",
        "            attn = attn.view(-1, self.num_heads, N, N)\n",
        "            attn = self.softmax(attn)\n",
        "        else:\n",
        "            attn = self.softmax(attn)\n",
        "\n",
        "        attn = self.attn_drop(attn)\n",
        "\n",
        "        x = (attn @ v).transpose(1, 2).reshape(B_, N, C)\n",
        "        x = self.proj(x)\n",
        "        x = self.proj_drop(x)\n",
        "        return x\n",
        "\n",
        "\n",
        "class SwinTransformerBlock(nn.Module):\n",
        "    \"\"\" Swin Transformer Block.\n",
        "    Args:\n",
        "        dim (int): Number of input channels.\n",
        "        num_heads (int): Number of attention heads.\n",
        "        window_size (int): Window size.\n",
        "        shift_size (int): Shift size for SW-MSA.\n",
        "        mlp_ratio (float): Ratio of mlp hidden dim to embedding dim.\n",
        "        qkv_bias (bool, optional): If True, add a learnable bias to query, key, value. Default: True\n",
        "        qk_scale (float | None, optional): Override default qk scale of head_dim ** -0.5 if set.\n",
        "        drop (float, optional): Dropout rate. Default: 0.0\n",
        "        attn_drop (float, optional): Attention dropout rate. Default: 0.0\n",
        "        drop_path (float, optional): Stochastic depth rate. Default: 0.0\n",
        "        act_layer (nn.Module, optional): Activation layer. Default: nn.GELU\n",
        "        norm_layer (nn.Module, optional): Normalization layer.  Default: nn.LayerNorm\n",
        "    \"\"\"\n",
        "\n",
        "    def __init__(self, dim, num_heads, window_size=7, shift_size=0,\n",
        "                 mlp_ratio=4., qkv_bias=True, qk_scale=None, drop=0., attn_drop=0., drop_path=0.,\n",
        "                 act_layer=nn.GELU, norm_layer=nn.LayerNorm):\n",
        "        super().__init__()\n",
        "        self.dim = dim\n",
        "        self.num_heads = num_heads\n",
        "        self.window_size = window_size\n",
        "        self.shift_size = shift_size\n",
        "        self.mlp_ratio = mlp_ratio\n",
        "        assert 0 <= self.shift_size < self.window_size, \"shift_size must in 0-window_size\"\n",
        "\n",
        "        self.norm1 = norm_layer(dim)\n",
        "        self.attn = WindowAttention(\n",
        "            dim, window_size=to_2tuple(self.window_size), num_heads=num_heads,\n",
        "            qkv_bias=qkv_bias, qk_scale=qk_scale, attn_drop=attn_drop, proj_drop=drop)\n",
        "\n",
        "        self.drop_path = DropPath(drop_path) if drop_path > 0. else nn.Identity()\n",
        "        self.norm2 = norm_layer(dim)\n",
        "        mlp_hidden_dim = int(dim * mlp_ratio)\n",
        "        self.mlp = Mlp(in_features=dim, hidden_features=mlp_hidden_dim, act_layer=act_layer, drop=drop)\n",
        "\n",
        "        self.H = None\n",
        "        self.W = None\n",
        "\n",
        "    def forward(self, x, mask_matrix):\n",
        "        \"\"\" Forward function.\n",
        "        Args:\n",
        "            x: Input feature, tensor size (B, H*W, C).\n",
        "            H, W: Spatial resolution of the input feature.\n",
        "            mask_matrix: Attention mask for cyclic shift.\n",
        "        \"\"\"\n",
        "        B, L, C = x.shape\n",
        "        H, W = self.H, self.W\n",
        "        assert L == H * W, \"input feature has wrong size\"\n",
        "\n",
        "        shortcut = x\n",
        "        x = self.norm1(x)\n",
        "        x = x.view(B, H, W, C)\n",
        "\n",
        "        # pad feature maps to multiples of window size\n",
        "        pad_l = pad_t = 0\n",
        "        pad_r = (self.window_size - W % self.window_size) % self.window_size\n",
        "        pad_b = (self.window_size - H % self.window_size) % self.window_size\n",
        "        x = F.pad(x, (0, 0, pad_l, pad_r, pad_t, pad_b))\n",
        "        _, Hp, Wp, _ = x.shape\n",
        "\n",
        "        # cyclic shift\n",
        "        if self.shift_size > 0:\n",
        "            shifted_x = torch.roll(x, shifts=(-self.shift_size, -self.shift_size), dims=(1, 2))\n",
        "            attn_mask = mask_matrix\n",
        "        else:\n",
        "            shifted_x = x\n",
        "            attn_mask = None\n",
        "\n",
        "        # partition windows\n",
        "        x_windows = window_partition(shifted_x, self.window_size)  # nW*B, window_size, window_size, C\n",
        "        x_windows = x_windows.view(-1, self.window_size * self.window_size, C)  # nW*B, window_size*window_size, C\n",
        "\n",
        "        # W-MSA/SW-MSA\n",
        "        attn_windows = self.attn(x_windows, mask=attn_mask)  # nW*B, window_size*window_size, C\n",
        "\n",
        "        # merge windows\n",
        "        attn_windows = attn_windows.view(-1, self.window_size, self.window_size, C)\n",
        "        shifted_x = window_reverse(attn_windows, self.window_size, Hp, Wp)  # B H' W' C\n",
        "\n",
        "        # reverse cyclic shift\n",
        "        if self.shift_size > 0:\n",
        "            x = torch.roll(shifted_x, shifts=(self.shift_size, self.shift_size), dims=(1, 2))\n",
        "        else:\n",
        "            x = shifted_x\n",
        "\n",
        "        if pad_r > 0 or pad_b > 0:\n",
        "            x = x[:, :H, :W, :].contiguous()\n",
        "\n",
        "        x = x.view(B, H * W, C)\n",
        "\n",
        "        # FFN\n",
        "        x = shortcut + self.drop_path(x)\n",
        "        x = x + self.drop_path(self.mlp(self.norm2(x)))\n",
        "\n",
        "        return x\n",
        "\n",
        "\n",
        "class PatchRecover(nn.Module):\n",
        "    \"\"\" Patch Merging Layer\n",
        "    Args:\n",
        "        dim (int): Number of input channels.\n",
        "        norm_layer (nn.Module, optional): Normalization layer.  Default: nn.LayerNorm\n",
        "    \"\"\"\n",
        "\n",
        "    def __init__(self, dim, norm_layer=nn.LayerNorm):\n",
        "        super().__init__()\n",
        "        self.dim = dim\n",
        "        self.up = nn.Sequential(\n",
        "            nn.Upsample(scale_factor=2),\n",
        "            nn.Conv2d(dim, dim // 2, kernel_size=3, stride=1, padding=1, bias=True),\n",
        "            nn.GroupNorm(num_channels=dim // 2, num_groups=groups),\n",
        "            nn.ReLU(inplace=True)\n",
        "        )\n",
        "\n",
        "    def forward(self, x, H, W):\n",
        "        \"\"\" Forward function.\n",
        "        Args:\n",
        "            x: Input feature, tensor size (B, H*W, C).\n",
        "            H, W: Spatial resolution of the input feature.\n",
        "        \"\"\"\n",
        "        B, L, C = x.shape\n",
        "        assert L == H * W, \"input feature has wrong size\"\n",
        "\n",
        "        x = x.permute(0, 1, 2)  # B ,C, L\n",
        "        x = x.reshape(B, C, H, W)\n",
        "        x = self.up(x)  # B, C//2, H, W\n",
        "\n",
        "        x = x.reshape(B, C // 2, -1)\n",
        "        x = x.permute(0, 2, 1)\n",
        "\n",
        "        # x = Variable(torch.randn(B, H * 2, W * 2, C // 2))\n",
        "\n",
        "        return x\n",
        "\n",
        "\n",
        "class PatchMerging(nn.Module):\n",
        "    \"\"\" Patch Merging Layer\n",
        "    Args:\n",
        "        dim (int): Number of input channels.\n",
        "        norm_layer (nn.Module, optional): Normalization layer.  Default: nn.LayerNorm\n",
        "    \"\"\"\n",
        "\n",
        "    def __init__(self, dim, norm_layer=nn.LayerNorm):\n",
        "        super().__init__()\n",
        "        self.dim = dim\n",
        "        self.reduction = nn.Linear(4 * dim, 2 * dim, bias=False)\n",
        "        self.norm = norm_layer(4 * dim)\n",
        "\n",
        "    def forward(self, x, H, W):\n",
        "        \"\"\" Forward function.\n",
        "        Args:\n",
        "            x: Input feature, tensor size (B, H*W, C).\n",
        "            H, W: Spatial resolution of the input feature.\n",
        "        \"\"\"\n",
        "        B, L, C = x.shape\n",
        "        assert L == H * W, \"input feature has wrong size\"\n",
        "\n",
        "        x = x.view(B, H, W, C)\n",
        "\n",
        "        # padding\n",
        "        pad_input = (H % 2 == 1) or (W % 2 == 1)\n",
        "        if pad_input:\n",
        "            x = F.pad(x, (0, 0, 0, W % 2, 0, H % 2))\n",
        "\n",
        "        x0 = x[:, 0::2, 0::2, :]  # B H/2 W/2 C\n",
        "        x1 = x[:, 1::2, 0::2, :]  # B H/2 W/2 C\n",
        "        x2 = x[:, 0::2, 1::2, :]  # B H/2 W/2 C\n",
        "        x3 = x[:, 1::2, 1::2, :]  # B H/2 W/2 C\n",
        "        x = torch.cat([x0, x1, x2, x3], -1)  # B H/2 W/2 4*C\n",
        "        x = x.view(B, -1, 4 * C)  # B H/2*W/2 4*C\n",
        "\n",
        "        x = self.norm(x)\n",
        "        x = self.reduction(x)\n",
        "\n",
        "        return x\n",
        "\n",
        "\n",
        "class BasicLayer(nn.Module):\n",
        "    \"\"\" A basic Swin Transformer layer for one stage.\n",
        "    Args:\n",
        "        dim (int): Number of feature channels\n",
        "        depth (int): Depths of this stage.\n",
        "        num_heads (int): Number of attention head.\n",
        "        window_size (int): Local window size. Default: 7.\n",
        "        mlp_ratio (float): Ratio of mlp hidden dim to embedding dim. Default: 4.\n",
        "        qkv_bias (bool, optional): If True, add a learnable bias to query, key, value. Default: True\n",
        "        qk_scale (float | None, optional): Override default qk scale of head_dim ** -0.5 if set.\n",
        "        drop (float, optional): Dropout rate. Default: 0.0\n",
        "        attn_drop (float, optional): Attention dropout rate. Default: 0.0\n",
        "        drop_path (float | tuple[float], optional): Stochastic depth rate. Default: 0.0\n",
        "        norm_layer (nn.Module, optional): Normalization layer. Default: nn.LayerNorm\n",
        "        downsample (nn.Module | None, optional): Downsample layer at the end of the layer. Default: None\n",
        "        use_checkpoint (bool): Whether to use checkpointing to save memory. Default: False.\n",
        "    \"\"\"\n",
        "\n",
        "    def __init__(self,\n",
        "                 dim,\n",
        "                 depth,\n",
        "                 num_heads,\n",
        "                 window_size=7,\n",
        "                 mlp_ratio=4.,\n",
        "                 qkv_bias=True,\n",
        "                 qk_scale=None,\n",
        "                 drop=0.,\n",
        "                 attn_drop=0.,\n",
        "                 drop_path=0.,\n",
        "                 norm_layer=nn.LayerNorm,\n",
        "                 downsample=None,\n",
        "                 use_checkpoint=False,\n",
        "                 up=True):\n",
        "        super().__init__()\n",
        "        self.window_size = window_size\n",
        "        self.shift_size = window_size // 2\n",
        "        self.depth = depth\n",
        "        self.use_checkpoint = use_checkpoint\n",
        "        self.up = up\n",
        "\n",
        "        # build blocks\n",
        "        self.blocks = nn.ModuleList([\n",
        "            SwinTransformerBlock(\n",
        "                dim=dim,\n",
        "                num_heads=num_heads,\n",
        "                window_size=window_size,\n",
        "                shift_size=0 if (i % 2 == 0) else window_size // 2,\n",
        "                mlp_ratio=mlp_ratio,\n",
        "                qkv_bias=qkv_bias,\n",
        "                qk_scale=qk_scale,\n",
        "                drop=drop,\n",
        "                attn_drop=attn_drop,\n",
        "                drop_path=drop_path[i] if isinstance(drop_path, list) else drop_path,\n",
        "                norm_layer=norm_layer)\n",
        "            for i in range(depth)])\n",
        "\n",
        "        # patch merging layer\n",
        "        if downsample is not None:\n",
        "            self.downsample = downsample(dim=dim, norm_layer=norm_layer)\n",
        "        else:\n",
        "            self.downsample = None\n",
        "\n",
        "    def forward(self, x, H, W):\n",
        "        \"\"\" Forward function.\n",
        "        Args:\n",
        "            x: Input feature, tensor size (B, H*W, C).\n",
        "            H, W: Spatial resolution of the input feature.\n",
        "        \"\"\"\n",
        "\n",
        "        # calculate attention mask for SW-MSA\n",
        "        Hp = int(np.ceil(H / self.window_size)) * self.window_size\n",
        "        Wp = int(np.ceil(W / self.window_size)) * self.window_size\n",
        "        img_mask = torch.zeros((1, Hp, Wp, 1), device=x.device)  # 1 Hp Wp 1\n",
        "        h_slices = (slice(0, -self.window_size),\n",
        "                    slice(-self.window_size, -self.shift_size),\n",
        "                    slice(-self.shift_size, None))\n",
        "        w_slices = (slice(0, -self.window_size),\n",
        "                    slice(-self.window_size, -self.shift_size),\n",
        "                    slice(-self.shift_size, None))\n",
        "        cnt = 0\n",
        "        for h in h_slices:\n",
        "            for w in w_slices:\n",
        "                img_mask[:, h, w, :] = cnt\n",
        "                cnt += 1\n",
        "\n",
        "        mask_windows = window_partition(img_mask, self.window_size)  # nW, window_size, window_size, 1\n",
        "        mask_windows = mask_windows.view(-1, self.window_size * self.window_size)\n",
        "        attn_mask = mask_windows.unsqueeze(1) - mask_windows.unsqueeze(2)\n",
        "        attn_mask = attn_mask.masked_fill(attn_mask != 0, float(-100.0)).masked_fill(attn_mask == 0, float(0.0))\n",
        "\n",
        "        for blk in self.blocks:\n",
        "            blk.H, blk.W = H, W\n",
        "            if self.use_checkpoint:\n",
        "                x = checkpoint.checkpoint(blk, x, attn_mask)\n",
        "            else:\n",
        "                x = blk(x, attn_mask)\n",
        "        if self.downsample is not None:\n",
        "            x_down = self.downsample(x, H, W)\n",
        "            if self.up:\n",
        "                Wh, Ww = (H + 1) // 2, (W + 1) // 2\n",
        "            else:\n",
        "                Wh, Ww = H * 2, W * 2\n",
        "            return x, H, W, x_down, Wh, Ww\n",
        "        else:\n",
        "            return x, H, W, x, H, W\n",
        "\n",
        "\n",
        "class PatchEmbed(nn.Module):\n",
        "\n",
        "    def __init__(self, patch_size=4, in_chans=3, embed_dim=96, norm_layer=None):\n",
        "        super().__init__()\n",
        "        patch_size = to_2tuple(patch_size)\n",
        "        self.patch_size = patch_size\n",
        "\n",
        "        self.in_chans = in_chans\n",
        "        self.embed_dim = embed_dim\n",
        "\n",
        "        self.proj = nn.Conv2d(in_chans, embed_dim, kernel_size=patch_size, stride=patch_size)\n",
        "        if norm_layer is not None:\n",
        "            self.norm = norm_layer(embed_dim)\n",
        "        else:\n",
        "            self.norm = None\n",
        "\n",
        "    def forward(self, x):\n",
        "        \"\"\"Forward function.\"\"\"\n",
        "        # padding\n",
        "        _, _, H, W = x.size()\n",
        "        if W % self.patch_size[1] != 0:\n",
        "            x = F.pad(x, (0, self.patch_size[1] - W % self.patch_size[1]))\n",
        "        if H % self.patch_size[0] != 0:\n",
        "            x = F.pad(x, (0, 0, 0, self.patch_size[0] - H % self.patch_size[0]))\n",
        "\n",
        "        x = self.proj(x)  # B C Wh Ww\n",
        "        if self.norm is not None:\n",
        "            Wh, Ww = x.size(2), x.size(3)\n",
        "            x = x.flatten(2).transpose(1, 2)\n",
        "            x = self.norm(x)\n",
        "            x = x.transpose(1, 2).view(-1, self.embed_dim, Wh, Ww)\n",
        "\n",
        "        return x\n",
        "\n",
        "\n",
        "class MultiEmbed(nn.Module):\n",
        "\n",
        "    def __init__(self, patch_size=4, in_chans=3, embed_dim=96, norm_layer=None):\n",
        "        super().__init__()\n",
        "        patch_size = to_2tuple(patch_size)\n",
        "        self.patch_size = patch_size\n",
        "\n",
        "        self.in_chans = in_chans\n",
        "        self.embed_dim = embed_dim\n",
        "\n",
        "        self.proj = nn.Conv2d(in_chans, embed_dim, kernel_size=1)\n",
        "        self.bn = nn.BatchNorm2d(embed_dim)\n",
        "        self.maxPool = nn.MaxPool2d(kernel_size=patch_size, stride=patch_size)\n",
        "        if norm_layer is not None:\n",
        "            self.norm = norm_layer(embed_dim)\n",
        "        else:\n",
        "            self.norm = None\n",
        "\n",
        "    def forward(self, x):\n",
        "        \"\"\"Forward function.\"\"\"\n",
        "        # padding\n",
        "        _, _, H, W = x.size()\n",
        "        if W % self.patch_size[1] != 0:\n",
        "            x = F.pad(x, (0, self.patch_size[1] - W % self.patch_size[1]))\n",
        "        if H % self.patch_size[0] != 0:\n",
        "            x = F.pad(x, (0, 0, 0, self.patch_size[0] - H % self.patch_size[0]))\n",
        "\n",
        "        x = self.proj(x)  # B C Wh Ww\n",
        "        x = self.bn(x)\n",
        "        x = self.maxPool(x)\n",
        "        if self.norm is not None:\n",
        "            Wh, Ww = x.size(2), x.size(3)\n",
        "            x = x.flatten(2).transpose(1, 2)\n",
        "            x = self.norm(x)\n",
        "            x = x.transpose(1, 2).view(-1, self.embed_dim, Wh, Ww)\n",
        "\n",
        "        return x\n",
        "\n",
        "\n",
        "class SwinTransformer(nn.Module):\n",
        "    \"\"\" Swin Transformer backbone.\n",
        "        A PyTorch impl of : `Swin Transformer: Hierarchical Vision Transformer using Shifted Windows`  -\n",
        "          https://arxiv.org/pdf/2103.14030\n",
        "    Args:\n",
        "        pretrain_img_size (int): Input image size for training the pretrained model,\n",
        "            used in absolute postion embedding. Default 224.\n",
        "        patch_size (int | tuple(int)): Patch size. Default: 4.\n",
        "        in_chans (int): Number of input image channels. Default: 3.\n",
        "        embed_dim (int): Number of linear projection output channels. Default: 96.\n",
        "        depths (tuple[int]): Depths of each Swin Transformer stage.\n",
        "        num_heads (tuple[int]): Number of attention head of each stage.\n",
        "        window_size (int): Window size. Default: 7.\n",
        "        mlp_ratio (float): Ratio of mlp hidden dim to embedding dim. Default: 4.\n",
        "        qkv_bias (bool): If True, add a learnable bias to query, key, value. Default: True\n",
        "        qk_scale (float): Override default qk scale of head_dim ** -0.5 if set.\n",
        "        drop_rate (float): Dropout rate.\n",
        "        attn_drop_rate (float): Attention dropout rate. Default: 0.\n",
        "        drop_path_rate (float): Stochastic depth rate. Default: 0.2.\n",
        "        norm_layer (nn.Module): Normalization layer. Default: nn.LayerNorm.\n",
        "        ape (bool): If True, add absolute position embedding to the patch embedding. Default: False.\n",
        "        patch_norm (bool): If True, add normalization after patch embedding. Default: True.\n",
        "        out_indices (Sequence[int]): Output from which stages.\n",
        "        frozen_stages (int): Stages to be frozen (stop grad and set eval mode).\n",
        "            -1 means not freezing any parameters.\n",
        "        use_checkpoint (bool): Whether to use checkpointing to save memory. Default: False.\n",
        "    \"\"\"\n",
        "\n",
        "    def __init__(self,\n",
        "                 pretrain_img_size=224,\n",
        "                 patch_size=4,\n",
        "                 in_chans=3,\n",
        "                 embed_dim=128,\n",
        "                 depths=[2, 2, 18, 2],\n",
        "                 num_heads=[4, 8, 16, 32],\n",
        "                 window_size=7,\n",
        "                 mlp_ratio=4.,\n",
        "                 qkv_bias=True,\n",
        "                 qk_scale=None,\n",
        "                 drop_rate=0.,\n",
        "                 attn_drop_rate=0.,\n",
        "                 drop_path_rate=0.5,\n",
        "                 norm_layer=nn.LayerNorm,\n",
        "                 ape=False,\n",
        "                 patch_norm=True,\n",
        "                 out_indices=(0, 1, 2, 3),\n",
        "                 frozen_stages=-1,\n",
        "                 use_checkpoint=False):\n",
        "        super().__init__()\n",
        "\n",
        "        self.pretrain_img_size = pretrain_img_size\n",
        "        self.num_layers = len(depths)\n",
        "        self.embed_dim = embed_dim\n",
        "        self.ape = ape\n",
        "        self.patch_norm = patch_norm\n",
        "        self.out_indices = out_indices\n",
        "        self.frozen_stages = frozen_stages\n",
        "\n",
        "        # split image into non-overlapping patches\n",
        "        self.patch_embed = PatchEmbed(\n",
        "            patch_size=patch_size, in_chans=in_chans, embed_dim=embed_dim,\n",
        "            norm_layer=norm_layer if self.patch_norm else None)\n",
        "\n",
        "        # absolute position embedding\n",
        "        if self.ape:\n",
        "            pretrain_img_size = to_2tuple(pretrain_img_size)\n",
        "            patch_size = to_2tuple(patch_size)\n",
        "            patches_resolution = [pretrain_img_size[0] // patch_size[0], pretrain_img_size[1] // patch_size[1]]\n",
        "\n",
        "            self.absolute_pos_embed = nn.Parameter(\n",
        "                torch.zeros(1, embed_dim, patches_resolution[0], patches_resolution[1]))\n",
        "            trunc_normal_(self.absolute_pos_embed, std=.02)\n",
        "\n",
        "        self.pos_drop = nn.Dropout(p=drop_rate)\n",
        "\n",
        "        # stochastic depth\n",
        "        dpr = [x.item() for x in torch.linspace(0, drop_path_rate, sum(depths))]  # stochastic depth decay rule\n",
        "\n",
        "        # build layers\n",
        "        self.layers = nn.ModuleList()\n",
        "        for i_layer in range(self.num_layers):\n",
        "            layer = BasicLayer(\n",
        "                dim=int(embed_dim * 2 ** i_layer),\n",
        "                depth=depths[i_layer],\n",
        "                num_heads=num_heads[i_layer],\n",
        "                window_size=window_size,\n",
        "                mlp_ratio=mlp_ratio,\n",
        "                qkv_bias=qkv_bias,\n",
        "                qk_scale=qk_scale,\n",
        "                drop=drop_rate,\n",
        "                attn_drop=attn_drop_rate,\n",
        "                drop_path=dpr[sum(depths[:i_layer]):sum(depths[:i_layer + 1])],\n",
        "                norm_layer=norm_layer,\n",
        "                downsample=PatchMerging if (i_layer < self.num_layers - 1) else None,\n",
        "                use_checkpoint=use_checkpoint)\n",
        "            self.layers.append(layer)\n",
        "\n",
        "        num_features = [int(embed_dim * 2 ** i) for i in range(self.num_layers)]\n",
        "        self.num_features = num_features\n",
        "\n",
        "        # add a norm layer for each output\n",
        "        for i_layer in out_indices:\n",
        "            layer = norm_layer(num_features[i_layer])\n",
        "            layer_name = f'norm{i_layer}'\n",
        "            self.add_module(layer_name, layer)\n",
        "\n",
        "        self._freeze_stages()\n",
        "\n",
        "    def _freeze_stages(self):\n",
        "        if self.frozen_stages >= 0:\n",
        "            self.patch_embed.eval()\n",
        "            for param in self.patch_embed.parameters():\n",
        "                param.requires_grad = False\n",
        "\n",
        "        if self.frozen_stages >= 1 and self.ape:\n",
        "            self.absolute_pos_embed.requires_grad = False\n",
        "\n",
        "        if self.frozen_stages >= 2:\n",
        "            self.pos_drop.eval()\n",
        "            for i in range(0, self.frozen_stages - 1):\n",
        "                m = self.layers[i]\n",
        "                m.eval()\n",
        "                for param in m.parameters():\n",
        "                    param.requires_grad = False\n",
        "\n",
        "    def init_weights(self, pretrained=None):\n",
        "        \"\"\"Initialize the weights in backbone.\n",
        "        Args:\n",
        "            pretrained (str, optional): Path to pre-trained weights.\n",
        "                Defaults to None.\n",
        "        \"\"\"\n",
        "\n",
        "        def _init_weights(m):\n",
        "            if isinstance(m, nn.Linear):\n",
        "                trunc_normal_(m.weight, std=.02)\n",
        "                if isinstance(m, nn.Linear) and m.bias is not None:\n",
        "                    nn.init.constant_(m.bias, 0)\n",
        "            elif isinstance(m, nn.LayerNorm):\n",
        "                nn.init.constant_(m.bias, 0)\n",
        "                nn.init.constant_(m.weight, 1.0)\n",
        "\n",
        "            # if isinstance(pretrained, str):\n",
        "            #     self.apply(_init_weights)\n",
        "            #     logger = get_root_logger()\n",
        "            #     load_checkpoint(self, pretrained, strict=False, logger=logger)\n",
        "            # elif pretrained is None:\n",
        "            self.apply(_init_weights)\n",
        "        # else:\n",
        "        # raise TypeError('pretrained must be a str or None')\n",
        "\n",
        "    def forward(self, x):\n",
        "        \"\"\"Forward function.\"\"\"\n",
        "        x = self.patch_embed(x)\n",
        "\n",
        "        Wh, Ww = x.size(2), x.size(3)\n",
        "        if self.ape:\n",
        "            # interpolate the position embedding to the corresponding size\n",
        "            absolute_pos_embed = F.interpolate(self.absolute_pos_embed, size=(Wh, Ww), mode='bicubic')\n",
        "            x = (x + absolute_pos_embed).flatten(2).transpose(1, 2)  # B Wh*Ww C\n",
        "        else:\n",
        "            x = x.flatten(2).transpose(1, 2)\n",
        "        x = self.pos_drop(x)\n",
        "\n",
        "        outs = []\n",
        "        for i in range(self.num_layers):\n",
        "            layer = self.layers[i]\n",
        "            x_out, H, W, x, Wh, Ww = layer(x, Wh, Ww)\n",
        "\n",
        "            if i in self.out_indices:\n",
        "                norm_layer = getattr(self, f'norm{i}')\n",
        "                x_out = norm_layer(x_out)\n",
        "\n",
        "                out = x_out.view(-1, H, W, self.num_features[i]).permute(0, 3, 1, 2).contiguous()\n",
        "                outs.append(out)\n",
        "\n",
        "        return outs\n",
        "\n",
        "    def train(self, mode=True):\n",
        "        \"\"\"Convert the model into training mode while keep layers freezed.\"\"\"\n",
        "        super(SwinTransformer, self).train(mode)\n",
        "        self._freeze_stages()\n",
        "\n",
        "\n",
        "class up_conv(nn.Module):\n",
        "    \"\"\"\n",
        "    Up Convolution Block\n",
        "    \"\"\"\n",
        "\n",
        "    def __init__(self, in_ch, out_ch):\n",
        "        super(up_conv, self).__init__()\n",
        "        self.up = nn.Sequential(\n",
        "            nn.Upsample(scale_factor=2),\n",
        "            nn.Conv2d(in_ch, out_ch, kernel_size=3, stride=1, padding=1, bias=True),\n",
        "            nn.GroupNorm(num_channels=out_ch, num_groups=groups),\n",
        "            nn.ReLU(inplace=True)\n",
        "        )\n",
        "\n",
        "    def forward(self, x):\n",
        "        x = self.up(x)\n",
        "        return x\n",
        "\n",
        "\n",
        "class conv_block_ds(nn.Module):\n",
        "    \"\"\"\n",
        "    Convolution Block\n",
        "    \"\"\"\n",
        "\n",
        "    def __init__(self, in_ch, out_ch):\n",
        "        super(conv_block_ds, self).__init__()\n",
        "        self.conv = nn.Sequential(\n",
        "            nn.MaxPool2d(kernel_size=2, stride=2),\n",
        "            nn.Conv2d(in_ch, out_ch, kernel_size=3, stride=1, padding=1, bias=True),\n",
        "            nn.GroupNorm(num_channels=out_ch, num_groups=groups),\n",
        "            nn.ReLU(inplace=True),\n",
        "            nn.Conv2d(out_ch, out_ch, kernel_size=3, stride=1, padding=1, bias=True),\n",
        "            nn.GroupNorm(num_channels=out_ch, num_groups=groups),\n",
        "            nn.ReLU(inplace=True))\n",
        "\n",
        "    def forward(self, x):\n",
        "        x = self.conv(x)\n",
        "        return x\n",
        "\n",
        "\n",
        "class Conv_block(nn.Module):\n",
        "    \"\"\"\n",
        "    Convolution Block\n",
        "    \"\"\"\n",
        "\n",
        "    def __init__(self, in_ch, out_ch):\n",
        "        super(Conv_block, self).__init__()\n",
        "        self.conv = nn.Sequential(\n",
        "            nn.Conv2d(in_ch, out_ch, kernel_size=3, stride=1, padding=1, bias=True),\n",
        "            nn.GroupNorm(num_channels=out_ch, num_groups=groups),\n",
        "            nn.ReLU(inplace=True),\n",
        "            nn.Conv2d(out_ch, out_ch, kernel_size=3, stride=1, padding=1, bias=True),\n",
        "            nn.GroupNorm(num_channels=out_ch, num_groups=groups),\n",
        "            nn.ReLU(inplace=True))\n",
        "\n",
        "    def forward(self, x):\n",
        "        x = self.conv(x)\n",
        "        return x\n",
        "\n",
        "\n",
        "class SwinUp(nn.Module):\n",
        "    def __init__(self, dim):\n",
        "        super(SwinUp, self).__init__()\n",
        "        self.up = nn.Linear(dim, dim * 2).cuda()\n",
        "        self.norm = nn.LayerNorm(dim)\n",
        "\n",
        "    def forward(self, x, H, W):\n",
        "        B, L, C = x.shape\n",
        "        assert L == H * W, \"input feature has wrong size\"\n",
        "\n",
        "        x = self.norm(x)\n",
        "        x = self.up(x)\n",
        "        x = x.reshape(B, H, W, 2 * C)\n",
        "\n",
        "        x0 = x[:, :, :, 0:C // 2]\n",
        "        x1 = x[:, :, :, C // 2:C]\n",
        "        x2 = x[:, :, :, C:C + C // 2]\n",
        "        x3 = x[:, :, :, C + C // 2:C * 2]\n",
        "\n",
        "        x0 = torch.cat((x0, x1), dim=1)\n",
        "        x3 = torch.cat((x2, x3), dim=1)\n",
        "        x = torch.cat((x0, x3), dim=2)\n",
        "\n",
        "        # x = Variable(torch.randn(B, H * 2, W * 2, C // 2))\n",
        "\n",
        "        x = x.reshape(B, -1, C // 2)\n",
        "        return x\n",
        "\n",
        "\n",
        "class SwinDecoder(nn.Module):\n",
        "\n",
        "    def __init__(self,\n",
        "                 embed_dim,\n",
        "                 patch_size=4,\n",
        "                 depths=2,\n",
        "                 num_heads=6,\n",
        "                 window_size=7,\n",
        "                 mlp_ratio=4.,\n",
        "                 qkv_bias=True,\n",
        "                 qk_scale=None,\n",
        "                 drop_rate=0.,\n",
        "                 attn_drop_rate=0.,\n",
        "                 drop_path_rate=0.2,\n",
        "                 norm_layer=nn.LayerNorm,\n",
        "                 patch_norm=True,\n",
        "                 use_checkpoint=False):\n",
        "        super(SwinDecoder, self).__init__()\n",
        "\n",
        "        self.patch_norm = patch_norm\n",
        "\n",
        "        # split image into non-overlapping patches\n",
        "\n",
        "        self.pos_drop = nn.Dropout(p=drop_rate)\n",
        "\n",
        "        # stochastic depth\n",
        "        dpr = [x.item() for x in torch.linspace(0, drop_path_rate, depths)]  # stochastic depth decay rule\n",
        "\n",
        "        # build layers\n",
        "        self.layer = BasicLayer(\n",
        "            dim=embed_dim // 2,\n",
        "            depth=depths,\n",
        "            num_heads=num_heads,\n",
        "            window_size=window_size,\n",
        "            mlp_ratio=mlp_ratio,\n",
        "            qkv_bias=qkv_bias,\n",
        "            qk_scale=qk_scale,\n",
        "            drop=drop_rate,\n",
        "            attn_drop=attn_drop_rate,\n",
        "            drop_path=dpr,\n",
        "            norm_layer=norm_layer,\n",
        "            downsample=None,\n",
        "            use_checkpoint=use_checkpoint)\n",
        "\n",
        "        self.up = up_conv(embed_dim, embed_dim // 2)\n",
        "        self.conv_relu = nn.Sequential(\n",
        "            nn.Conv2d(embed_dim // 2, embed_dim // 4, kernel_size=1, stride=1, padding=0),\n",
        "            nn.ReLU()\n",
        "        )\n",
        "\n",
        "    def forward(self, x):\n",
        "        \"\"\"Forward function.\"\"\"\n",
        "\n",
        "        # print(x.shape)\n",
        "        # for i in range(len(e_o)):\n",
        "        #    layer = self.layers[i]\n",
        "        #    x_out, H, W, x, Wh, Ww = layer(x, Wh, Ww)\n",
        "        # return x\n",
        "\n",
        "        identity = x\n",
        "        B, C, H, W = x.shape\n",
        "        x = self.up(x)  # B , C//2, 2H, 2W\n",
        "        x = x.reshape(B, C // 2, H * W * 4)\n",
        "        x = x.permute(0, 2, 1)\n",
        "\n",
        "        x_out, H, W, x, Wh, Ww = self.layer(x, H * 2, W * 2)\n",
        "\n",
        "        x = x.permute(0, 2, 1)\n",
        "        x = x.reshape(B, C // 2, H, W)\n",
        "        # B, C//4 2H, 2W\n",
        "        x = self.conv_relu(x)\n",
        "\n",
        "        return x\n",
        "\n",
        "class Decoder(nn.Module):\n",
        "    def __init__(self, in_channels, middle_channels, out_channels):\n",
        "        super().__init__()\n",
        "        self.up = up_conv(in_channels, out_channels)\n",
        "        # self.up = nn.ConvTranspose2d(in_channels, out_channels, kernel_size=2, stride=2)\n",
        "        self.conv_relu = nn.Sequential(\n",
        "            nn.Conv2d(middle_channels, out_channels, kernel_size=3, padding=1),\n",
        "            # coorAtt(out_channels),\n",
        "            nn.ReLU(inplace=True)\n",
        "        )\n",
        "\n",
        "    def forward(self, x1, x2):\n",
        "        x1 = self.up(x1)\n",
        "        # x2 = self.att_block(x1, x2)\n",
        "        x1 = torch.cat((x2, x1), dim=1)\n",
        "        x1 = self.conv_relu(x1)\n",
        "        return x1\n",
        "\n",
        "\n",
        "class Swin_Decoder(nn.Module):\n",
        "    def __init__(self, in_channels, depths, num_heads):\n",
        "        super(Swin_Decoder, self).__init__()\n",
        "        self.up = SwinDecoder(in_channels, depths=depths, num_heads=num_heads)\n",
        "        # self.up1 = nn.Upsample(scale_factor=2)\n",
        "        # self.up2 = nn.Conv2d(in_channels, in_channels//2, kernel_size=3, stride=1, padding=1, bias=True)\n",
        "        self.conv_relu = nn.Sequential(\n",
        "            nn.Conv2d(in_channels // 2, in_channels // 2, kernel_size=3, padding=1),\n",
        "            nn.ReLU(inplace=True)\n",
        "        )\n",
        "        self.conv2 = nn.Sequential(\n",
        "            nn.Conv2d(in_channels // 2, in_channels // 4, kernel_size=1, stride=1, padding=0),\n",
        "            nn.ReLU()\n",
        "        )\n",
        "\n",
        "    def forward(self, x1, x2):\n",
        "        x1 = self.up(x1)\n",
        "        # x1 = self.up2(x1)\n",
        "        # x2 = self.att_block(x1, x2)\n",
        "        x2 = self.conv2(x2)\n",
        "        x1 = torch.cat((x2, x1), dim=1)\n",
        "        out = self.conv_relu(x1)\n",
        "        return out\n",
        "\n",
        "\n",
        "class Transformer(nn.Module):\n",
        "    def __init__(self, dim, depth, heads, dim_head, mlp_dim, dropout=0.):\n",
        "        super().__init__()\n",
        "        self.layers = nn.ModuleList([])\n",
        "        for _ in range(depth):\n",
        "            self.layers.append(nn.ModuleList([\n",
        "                PreNorm(dim, Attention(dim, heads=heads, dim_head=dim_head, dropout=dropout)),\n",
        "                PreNorm(dim, FeedForward(dim, mlp_dim, dropout=dropout))\n",
        "            ]))\n",
        "\n",
        "    def forward(self, x):\n",
        "        for attn, ff in self.layers:\n",
        "            x = attn(x) + x\n",
        "            x = ff(x) + x\n",
        "        return x\n",
        "\n",
        "\n",
        "class Cross_Att(nn.Module):\n",
        "    def __init__(self, dim_s, dim_l):\n",
        "        super().__init__()\n",
        "        self.transformer_s = Transformer(dim=dim_s, depth=1, heads=3, dim_head=32, mlp_dim=128)\n",
        "        self.transformer_l = Transformer(dim=dim_l, depth=1, heads=1, dim_head=64, mlp_dim=256)\n",
        "        self.norm_s = nn.LayerNorm(dim_s)\n",
        "        self.norm_l = nn.LayerNorm(dim_l)\n",
        "        self.avgpool = nn.AdaptiveAvgPool1d(1)\n",
        "        self.linear_s = nn.Linear(dim_s, dim_l)\n",
        "        self.linear_l = nn.Linear(dim_l, dim_s)\n",
        "\n",
        "    def forward(self, e, r):\n",
        "        b_e, c_e, h_e, w_e = e.shape\n",
        "        e = e.reshape(b_e, c_e, -1).permute(0, 2, 1)\n",
        "        b_r, c_r, h_r, w_r = r.shape\n",
        "        r = r.reshape(b_r, c_r, -1).permute(0, 2, 1)\n",
        "        e_t = torch.flatten(self.avgpool(self.norm_l(e).transpose(1, 2)), 1)\n",
        "        r_t = torch.flatten(self.avgpool(self.norm_s(r).transpose(1, 2)), 1)\n",
        "        e_t = self.linear_l(e_t).unsqueeze(1)\n",
        "        r_t = self.linear_s(r_t).unsqueeze(1)\n",
        "        r = self.transformer_s(torch.cat([e_t, r], dim=1))[:, 1:, :]\n",
        "        e = self.transformer_l(torch.cat([r_t, e], dim=1))[:, 1:, :]\n",
        "        e = e.permute(0, 2, 1).reshape(b_e, c_e, h_e, w_e)\n",
        "        r = r.permute(0, 2, 1).reshape(b_r, c_r, h_r, w_r)\n",
        "        return e, r\n",
        "\n",
        "\n",
        "class DSTransUNet(nn.Module):\n",
        "    def __init__(self, dim, n_class, in_ch=1):\n",
        "        super().__init__()\n",
        "        self.encoder = SwinTransformer(depths=[2, 2, 18, 2], num_heads=[4, 8, 16, 32], drop_path_rate=0.5,\n",
        "                                       embed_dim=128, in_chans=1)\n",
        "        self.encoder2 = SwinTransformer(depths=[2, 2, 6, 2], num_heads=[3, 6, 12, 24], drop_path_rate=0.2, patch_size=8,\n",
        "                                        embed_dim=96, in_chans=1)\n",
        "        self.encoder.init_weights('checkpoints/swin_base_patch4_window7_224_22k.pth')\n",
        "        self.encoder2.init_weights('checkpoints/swin_tiny_patch4_window7_224.pth')\n",
        "        self.layer1 = Swin_Decoder(8 * dim, 2, 8)\n",
        "        self.layer2 = Swin_Decoder(4 * dim, 2, 4)\n",
        "        self.layer3 = Swin_Decoder(2 * dim, 2, 2)\n",
        "        self.layer4 = Decoder(dim, dim, dim // 2)\n",
        "        self.layer5 = Decoder(dim // 2, dim // 2, dim // 4)\n",
        "        self.down1 = nn.Conv2d(in_ch, dim // 4, kernel_size=1, stride=1, padding=0)\n",
        "        self.down2 = conv_block_ds(dim // 4, dim // 2)\n",
        "        self.final = nn.Conv2d(dim // 4, n_class, kernel_size=1, stride=1, padding=0)\n",
        "\n",
        "        self.loss1 = nn.Sequential(\n",
        "            nn.Conv2d(dim * 8, n_class, kernel_size=1, stride=1, padding=0),\n",
        "            nn.ReLU(),\n",
        "            nn.Upsample(scale_factor=32)\n",
        "        )\n",
        "\n",
        "        self.loss2 = nn.Sequential(\n",
        "            nn.Conv2d(dim, n_class, kernel_size=1, stride=1, padding=0),\n",
        "            nn.ReLU(),\n",
        "            nn.Upsample(scale_factor=4)\n",
        "        )\n",
        "        dim_s = 96\n",
        "        dim_l = 128\n",
        "        self.m1 = nn.Upsample(scale_factor=2)\n",
        "        self.m2 = nn.Upsample(scale_factor=4)\n",
        "        tb = dim_s + dim_l\n",
        "        self.change1 = Conv_block(tb, dim)\n",
        "        self.change2 = Conv_block(tb * 2, dim * 2)\n",
        "        self.change3 = Conv_block(tb * 4, dim * 4)\n",
        "        self.change4 = Conv_block(tb * 8, dim * 8)\n",
        "        self.cross_att_1 = Cross_Att(dim_s * 1, dim_l * 1)\n",
        "        self.cross_att_2 = Cross_Att(dim_s * 2, dim_l * 2)\n",
        "        self.cross_att_3 = Cross_Att(dim_s * 4, dim_l * 4)\n",
        "        self.cross_att_4 = Cross_Att(dim_s * 8, dim_l * 8)\n",
        "        self.active = torch.nn.Sigmoid()\n",
        "\n",
        "    def forward(self, x):\n",
        "        out = self.encoder(x)\n",
        "        out2 = self.encoder2(x)\n",
        "        e1, e2, e3, e4 = out[0], out[1], out[2], out[3]\n",
        "        r1, r2, r3, r4 = out2[0], out2[1], out2[2], out2[3]\n",
        "        e1, r1 = self.cross_att_1(e1, r1)\n",
        "        e2, r2 = self.cross_att_2(e2, r2)\n",
        "        e3, r3 = self.cross_att_3(e3, r3)\n",
        "        e4, r4 = self.cross_att_4(e4, r4)\n",
        "        e1 = torch.cat([e1, self.m1(r1)], 1)\n",
        "        e2 = torch.cat([e2, self.m1(r2)], 1)\n",
        "        e3 = torch.cat([e3, self.m1(r3)], 1)\n",
        "        e4 = torch.cat([e4, self.m1(r4)], 1)\n",
        "        e1 = self.change1(e1)\n",
        "        e2 = self.change2(e2)\n",
        "        e3 = self.change3(e3)\n",
        "        e4 = self.change4(e4)\n",
        "        loss1 = self.loss1(e4)\n",
        "        ds1 = self.down1(x)\n",
        "        ds2 = self.down2(ds1)\n",
        "        d1 = self.layer1(e4, e3)\n",
        "        d2 = self.layer2(d1, e2)\n",
        "        d3 = self.layer3(d2, e1)\n",
        "        loss2 = self.loss2(d3)\n",
        "        d4 = self.layer4(d3, ds2)\n",
        "        d5 = self.layer5(d4, ds1)\n",
        "        o = self.final(d5)\n",
        "        o = self.active(o)\n",
        "\n",
        "        return o\n",
        "\n"
      ],
      "metadata": {
        "id": "kPjzix5ACP3a"
      },
      "execution_count": 32,
      "outputs": []
    },
    {
      "cell_type": "code",
      "source": [
        "def createDSTransUnet():\n",
        "  model = DSTransUNet(256, 1, 1).cuda()\n",
        "  model.train()\n",
        "  return model"
      ],
      "metadata": {
        "id": "ZX_cLP8PLHSu"
      },
      "execution_count": 33,
      "outputs": []
    },
    {
      "cell_type": "markdown",
      "metadata": {
        "id": "5yxojXiEoQ6t"
      },
      "source": [
        "## Unet"
      ]
    },
    {
      "cell_type": "code",
      "execution_count": 30,
      "metadata": {
        "id": "A88ikND_oSoT"
      },
      "outputs": [],
      "source": [
        "def createUnet(inputchannels=1, outputchannels=1):\n",
        "  model = smp.Unet(\n",
        "      # encoder_name=\"resnet152\",        # choose encoder, e.g. mobilenet_v2 or efficientnet-b7\n",
        "      # encoder_weights=\"imagenet\",     # use `imagenet` pre-trained weights for encoder initialization\n",
        "      in_channels=inputchannels,                  # model input channels (1 for gray-scale images, 3 for RGB, etc.)\n",
        "      activation = 'sigmoid',\n",
        "      classes=outputchannels,                      # model output channels (number of classes in your dataset)\n",
        "  )\n",
        "  model.train()\n",
        "  return model"
      ]
    },
    {
      "cell_type": "markdown",
      "metadata": {
        "id": "BWEqgp4hyNcD"
      },
      "source": [
        "## Unet++"
      ]
    },
    {
      "cell_type": "code",
      "execution_count": 31,
      "metadata": {
        "colab": {
          "base_uri": "https://localhost:8080/"
        },
        "id": "CMB32gsRybSn",
        "outputId": "38107a07-5163-4319-f8d4-7933cc2bf7d0"
      },
      "outputs": [
        {
          "output_type": "stream",
          "name": "stdout",
          "text": [
            "Looking in indexes: https://pypi.org/simple, https://us-python.pkg.dev/colab-wheels/public/simple/\n",
            "Collecting segmentation-models-pytorch\n",
            "  Downloading segmentation_models_pytorch-0.3.2-py3-none-any.whl (106 kB)\n",
            "\u001b[2K     \u001b[90m━━━━━━━━━━━━━━━━━━━━━━━━━━━━━━━━━━━━━━━\u001b[0m \u001b[32m106.7/106.7 KB\u001b[0m \u001b[31m3.8 MB/s\u001b[0m eta \u001b[36m0:00:00\u001b[0m\n",
            "\u001b[?25hRequirement already satisfied: torchvision>=0.5.0 in /usr/local/lib/python3.9/dist-packages (from segmentation-models-pytorch) (0.14.1+cu116)\n",
            "Requirement already satisfied: tqdm in /usr/local/lib/python3.9/dist-packages (from segmentation-models-pytorch) (4.65.0)\n",
            "Collecting timm==0.6.12\n",
            "  Downloading timm-0.6.12-py3-none-any.whl (549 kB)\n",
            "\u001b[2K     \u001b[90m━━━━━━━━━━━━━━━━━━━━━━━━━━━━━━━━━━━━━━\u001b[0m \u001b[32m549.1/549.1 KB\u001b[0m \u001b[31m17.5 MB/s\u001b[0m eta \u001b[36m0:00:00\u001b[0m\n",
            "\u001b[?25hCollecting efficientnet-pytorch==0.7.1\n",
            "  Downloading efficientnet_pytorch-0.7.1.tar.gz (21 kB)\n",
            "  Preparing metadata (setup.py) ... \u001b[?25l\u001b[?25hdone\n",
            "Collecting pretrainedmodels==0.7.4\n",
            "  Downloading pretrainedmodels-0.7.4.tar.gz (58 kB)\n",
            "\u001b[2K     \u001b[90m━━━━━━━━━━━━━━━━━━━━━━━━━━━━━━━━━━━━━━━━\u001b[0m \u001b[32m58.8/58.8 KB\u001b[0m \u001b[31m8.4 MB/s\u001b[0m eta \u001b[36m0:00:00\u001b[0m\n",
            "\u001b[?25h  Preparing metadata (setup.py) ... \u001b[?25l\u001b[?25hdone\n",
            "Requirement already satisfied: pillow in /usr/local/lib/python3.9/dist-packages (from segmentation-models-pytorch) (8.4.0)\n",
            "Requirement already satisfied: torch in /usr/local/lib/python3.9/dist-packages (from efficientnet-pytorch==0.7.1->segmentation-models-pytorch) (1.13.1+cu116)\n",
            "Collecting munch\n",
            "  Downloading munch-2.5.0-py2.py3-none-any.whl (10 kB)\n",
            "Collecting huggingface-hub\n",
            "  Downloading huggingface_hub-0.13.2-py3-none-any.whl (199 kB)\n",
            "\u001b[2K     \u001b[90m━━━━━━━━━━━━━━━━━━━━━━━━━━━━━━━━━━━━━━\u001b[0m \u001b[32m199.2/199.2 KB\u001b[0m \u001b[31m23.4 MB/s\u001b[0m eta \u001b[36m0:00:00\u001b[0m\n",
            "\u001b[?25hRequirement already satisfied: pyyaml in /usr/local/lib/python3.9/dist-packages (from timm==0.6.12->segmentation-models-pytorch) (6.0)\n",
            "Requirement already satisfied: requests in /usr/local/lib/python3.9/dist-packages (from torchvision>=0.5.0->segmentation-models-pytorch) (2.25.1)\n",
            "Requirement already satisfied: typing-extensions in /usr/local/lib/python3.9/dist-packages (from torchvision>=0.5.0->segmentation-models-pytorch) (4.5.0)\n",
            "Requirement already satisfied: numpy in /usr/local/lib/python3.9/dist-packages (from torchvision>=0.5.0->segmentation-models-pytorch) (1.22.4)\n",
            "Requirement already satisfied: filelock in /usr/local/lib/python3.9/dist-packages (from huggingface-hub->timm==0.6.12->segmentation-models-pytorch) (3.9.0)\n",
            "Requirement already satisfied: packaging>=20.9 in /usr/local/lib/python3.9/dist-packages (from huggingface-hub->timm==0.6.12->segmentation-models-pytorch) (23.0)\n",
            "Requirement already satisfied: six in /usr/local/lib/python3.9/dist-packages (from munch->pretrainedmodels==0.7.4->segmentation-models-pytorch) (1.15.0)\n",
            "Requirement already satisfied: idna<3,>=2.5 in /usr/local/lib/python3.9/dist-packages (from requests->torchvision>=0.5.0->segmentation-models-pytorch) (2.10)\n",
            "Requirement already satisfied: chardet<5,>=3.0.2 in /usr/local/lib/python3.9/dist-packages (from requests->torchvision>=0.5.0->segmentation-models-pytorch) (4.0.0)\n",
            "Requirement already satisfied: urllib3<1.27,>=1.21.1 in /usr/local/lib/python3.9/dist-packages (from requests->torchvision>=0.5.0->segmentation-models-pytorch) (1.26.15)\n",
            "Requirement already satisfied: certifi>=2017.4.17 in /usr/local/lib/python3.9/dist-packages (from requests->torchvision>=0.5.0->segmentation-models-pytorch) (2022.12.7)\n",
            "Building wheels for collected packages: efficientnet-pytorch, pretrainedmodels\n",
            "  Building wheel for efficientnet-pytorch (setup.py) ... \u001b[?25l\u001b[?25hdone\n",
            "  Created wheel for efficientnet-pytorch: filename=efficientnet_pytorch-0.7.1-py3-none-any.whl size=16445 sha256=9e354cf24e0020481c87e663bb02352f705dd18c11d04da7552f1d7c8618cba9\n",
            "  Stored in directory: /root/.cache/pip/wheels/29/16/24/752e89d88d333af39a288421e64d613b5f652918e39ef1f8e3\n",
            "  Building wheel for pretrainedmodels (setup.py) ... \u001b[?25l\u001b[?25hdone\n",
            "  Created wheel for pretrainedmodels: filename=pretrainedmodels-0.7.4-py3-none-any.whl size=60963 sha256=5175c8a35adeb941c4706e92a57fbff878475f8a5f807a56c5eef05032b56648\n",
            "  Stored in directory: /root/.cache/pip/wheels/d1/3b/4e/2f3015f1ab76f34be28e04c4bcee27e8cabfa70d2eadf8bc3b\n",
            "Successfully built efficientnet-pytorch pretrainedmodels\n",
            "Installing collected packages: munch, huggingface-hub, efficientnet-pytorch, timm, pretrainedmodels, segmentation-models-pytorch\n",
            "Successfully installed efficientnet-pytorch-0.7.1 huggingface-hub-0.13.2 munch-2.5.0 pretrainedmodels-0.7.4 segmentation-models-pytorch-0.3.2 timm-0.6.12\n"
          ]
        }
      ],
      "source": [
        "pip install segmentation-models-pytorch"
      ]
    },
    {
      "cell_type": "code",
      "execution_count": 32,
      "metadata": {
        "id": "7XLzvMAO1Kae"
      },
      "outputs": [],
      "source": [
        "import segmentation_models_pytorch as smp"
      ]
    },
    {
      "cell_type": "code",
      "execution_count": 33,
      "metadata": {
        "id": "ZUolbdjuyROI"
      },
      "outputs": [],
      "source": [
        "def createUnetPlusPlus(inputchannels=1, outputchannels=1):\n",
        "  model = smp.UnetPlusPlus(#'resnet152',\n",
        "                          #  encoder_weights=\"imagenet\", \n",
        "                           in_channels=inputchannels, \n",
        "                           activation = 'sigmoid',\n",
        "                           classes=1)\n",
        "  model.train()\n",
        "  return model"
      ]
    },
    {
      "cell_type": "code",
      "source": [
        "unetplusplus = createUnetPlusPlus()"
      ],
      "metadata": {
        "id": "ieJ0yM6nsXAJ"
      },
      "execution_count": 38,
      "outputs": []
    },
    {
      "cell_type": "markdown",
      "metadata": {
        "id": "hoIzLb32n5vM"
      },
      "source": [
        "# Train"
      ]
    },
    {
      "cell_type": "code",
      "execution_count": 34,
      "metadata": {
        "id": "QfkZI3z600IP"
      },
      "outputs": [],
      "source": [
        "def createModel(model_name):\n",
        "  needs_out = False\n",
        "  if model_name=='unet':\n",
        "    model = createUnet()\n",
        "  elif model_name=='unetplusplus':\n",
        "    model = createUnetPlusPlus()\n",
        "  elif model_name=='attunet':\n",
        "    model = createUnetAtt()\n",
        "  elif model_name=='transunet':\n",
        "    model = createTransUnet()\n",
        "  elif model_name=='dstransunet':\n",
        "    model = createDSTransUnet()\n",
        "  else:\n",
        "    raise ValueError('no such model')\n",
        "  return model, needs_out"
      ]
    },
    {
      "cell_type": "code",
      "execution_count": 35,
      "metadata": {
        "id": "56VewwwtZpa_"
      },
      "outputs": [],
      "source": [
        "path_to_dataset = '/content/drive/MyDrive/datasets/masks'"
      ]
    },
    {
      "cell_type": "code",
      "execution_count": 40,
      "metadata": {
        "id": "8g1JrvWQqyNk"
      },
      "outputs": [],
      "source": [
        "model_names = [  \n",
        "    'unet', \n",
        "    \"unetplusplus\", \n",
        "    'attunet', \n",
        "    'transunet', \n",
        "    # 'dstransunet'\n",
        "    ]\n"
      ]
    },
    {
      "cell_type": "code",
      "execution_count": 37,
      "metadata": {
        "id": "ogMe0mXjkHYN"
      },
      "outputs": [],
      "source": [
        "ready = []"
      ]
    },
    {
      "cell_type": "code",
      "execution_count": null,
      "metadata": {
        "colab": {
          "base_uri": "https://localhost:8080/",
          "height": 1000
        },
        "id": "i-QBH4Xgr6m4",
        "outputId": "7808bfd6-2119-46e6-b12c-158a4921b5a2"
      },
      "outputs": [
        {
          "output_type": "stream",
          "name": "stdout",
          "text": [
            "unet\n"
          ]
        },
        {
          "output_type": "display_data",
          "data": {
            "text/plain": [
              "<IPython.core.display.HTML object>"
            ],
            "text/html": [
              "Tracking run with wandb version 0.14.0"
            ]
          },
          "metadata": {}
        },
        {
          "output_type": "display_data",
          "data": {
            "text/plain": [
              "<IPython.core.display.HTML object>"
            ],
            "text/html": [
              "Run data is saved locally in <code>/content/wandb/run-20230315_080230-9u0yzrn9</code>"
            ]
          },
          "metadata": {}
        },
        {
          "output_type": "display_data",
          "data": {
            "text/plain": [
              "<IPython.core.display.HTML object>"
            ],
            "text/html": [
              "Syncing run <strong><a href='https://wandb.ai/s70c3/froth/runs/9u0yzrn9' target=\"_blank\">stellar-thunder-13</a></strong> to <a href='https://wandb.ai/s70c3/froth' target=\"_blank\">Weights & Biases</a> (<a href='https://wandb.me/run' target=\"_blank\">docs</a>)<br/>"
            ]
          },
          "metadata": {}
        },
        {
          "output_type": "display_data",
          "data": {
            "text/plain": [
              "<IPython.core.display.HTML object>"
            ],
            "text/html": [
              " View project at <a href='https://wandb.ai/s70c3/froth' target=\"_blank\">https://wandb.ai/s70c3/froth</a>"
            ]
          },
          "metadata": {}
        },
        {
          "output_type": "display_data",
          "data": {
            "text/plain": [
              "<IPython.core.display.HTML object>"
            ],
            "text/html": [
              " View run at <a href='https://wandb.ai/s70c3/froth/runs/9u0yzrn9' target=\"_blank\">https://wandb.ai/s70c3/froth/runs/9u0yzrn9</a>"
            ]
          },
          "metadata": {}
        },
        {
          "output_type": "stream",
          "name": "stdout",
          "text": [
            "Epoch 1/100\n",
            "----------\n"
          ]
        },
        {
          "output_type": "stream",
          "name": "stderr",
          "text": [
            "100%|██████████| 58/58 [00:35<00:00,  1.63it/s]\n",
            "100%|██████████| 15/15 [00:07<00:00,  1.97it/s]"
          ]
        },
        {
          "output_type": "stream",
          "name": "stdout",
          "text": [
            "{'epoch': 1, 'Train_loss': 0.5981523990631104, 'Test_loss': 0.5157356858253479, '_timestamp': 0.0, '_runtime': 0.0, 'Train_f1_score': 0.4653385932044741, 'Train_iou': 0.3132722899998805, 'Test_f1_score': 0.08869075572477406, 'Test_iou': 0.047327452505078756}\n",
            "Epoch 2/100\n",
            "----------\n"
          ]
        },
        {
          "output_type": "stream",
          "name": "stderr",
          "text": [
            "\n",
            "100%|██████████| 58/58 [00:16<00:00,  3.47it/s]\n",
            "100%|██████████| 15/15 [00:04<00:00,  3.55it/s]\n"
          ]
        },
        {
          "output_type": "stream",
          "name": "stdout",
          "text": [
            "{'epoch': 2, 'Train_loss': 0.45869171619415283, 'Test_loss': 0.4199395477771759, '_timestamp': 0.0, '_runtime': 0.0, 'Train_f1_score': 0.5890138312121334, 'Train_iou': 0.4250605914263587, 'Test_f1_score': 0.30997936380941704, 'Test_iou': 0.18700978735050255}\n",
            "Epoch 3/100\n",
            "----------\n"
          ]
        },
        {
          "output_type": "stream",
          "name": "stderr",
          "text": [
            "100%|██████████| 58/58 [00:17<00:00,  3.30it/s]\n",
            "100%|██████████| 15/15 [00:03<00:00,  4.99it/s]"
          ]
        },
        {
          "output_type": "stream",
          "name": "stdout",
          "text": [
            "{'epoch': 3, 'Train_loss': 0.42718252539634705, 'Test_loss': 0.5080935955047607, '_timestamp': 0.0, '_runtime': 0.0, 'Train_f1_score': 0.6269880569790931, 'Train_iou': 0.4656072859149368, 'Test_f1_score': 0.4128256065558358, 'Test_iou': 0.2657360539977724}\n",
            "Epoch 4/100\n",
            "----------\n"
          ]
        },
        {
          "output_type": "stream",
          "name": "stderr",
          "text": [
            "\n",
            "100%|██████████| 58/58 [00:16<00:00,  3.44it/s]\n",
            "100%|██████████| 15/15 [00:03<00:00,  4.88it/s]"
          ]
        },
        {
          "output_type": "stream",
          "name": "stdout",
          "text": [
            "{'epoch': 4, 'Train_loss': 0.39486774802207947, 'Test_loss': 0.44609010219573975, '_timestamp': 0.0, '_runtime': 0.0, 'Train_f1_score': 0.6068046258510955, 'Train_iou': 0.4459206602655256, 'Test_f1_score': 0.3809124914636157, 'Test_iou': 0.24082463858048167}\n",
            "Epoch 5/100\n",
            "----------\n"
          ]
        },
        {
          "output_type": "stream",
          "name": "stderr",
          "text": [
            "\n",
            "100%|██████████| 58/58 [00:17<00:00,  3.31it/s]\n",
            "100%|██████████| 15/15 [00:05<00:00,  3.00it/s]"
          ]
        },
        {
          "output_type": "stream",
          "name": "stdout",
          "text": [
            "{'epoch': 5, 'Train_loss': 0.7605531215667725, 'Test_loss': 0.46630099415779114, '_timestamp': 0.0, '_runtime': 0.0, 'Train_f1_score': 0.6507528853182903, 'Train_iou': 0.4909013547238614, 'Test_f1_score': 0.27813603079457583, 'Test_iou': 0.16375613803816003}\n",
            "Epoch 6/100\n",
            "----------\n"
          ]
        },
        {
          "output_type": "stream",
          "name": "stderr",
          "text": [
            "\n",
            "100%|██████████| 58/58 [00:17<00:00,  3.33it/s]\n",
            "100%|██████████| 15/15 [00:03<00:00,  4.59it/s]"
          ]
        },
        {
          "output_type": "stream",
          "name": "stdout",
          "text": [
            "{'epoch': 6, 'Train_loss': 0.4294218420982361, 'Test_loss': 0.36368149518966675, '_timestamp': 0.0, '_runtime': 0.0, 'Train_f1_score': 0.6587751597086238, 'Train_iou': 0.4993908875552004, 'Test_f1_score': 0.3896890964001757, 'Test_iou': 0.24991332308649733}\n",
            "Epoch 7/100\n",
            "----------\n"
          ]
        },
        {
          "output_type": "stream",
          "name": "stderr",
          "text": [
            "\n",
            "100%|██████████| 58/58 [00:17<00:00,  3.35it/s]\n",
            "100%|██████████| 15/15 [00:03<00:00,  4.61it/s]"
          ]
        },
        {
          "output_type": "stream",
          "name": "stdout",
          "text": [
            "{'epoch': 7, 'Train_loss': 0.3887675404548645, 'Test_loss': 0.42845767736434937, '_timestamp': 0.0, '_runtime': 0.0, 'Train_f1_score': 0.649887543920915, 'Train_iou': 0.49006344756720854, 'Test_f1_score': 0.44819460219506513, 'Test_iou': 0.2954785878838121}\n",
            "Epoch 8/100\n",
            "----------\n"
          ]
        },
        {
          "output_type": "stream",
          "name": "stderr",
          "text": [
            "\n",
            "100%|██████████| 58/58 [00:18<00:00,  3.22it/s]\n",
            "100%|██████████| 15/15 [00:03<00:00,  4.12it/s]"
          ]
        },
        {
          "output_type": "stream",
          "name": "stdout",
          "text": [
            "{'epoch': 8, 'Train_loss': 0.4523835778236389, 'Test_loss': 0.34485357999801636, '_timestamp': 0.0, '_runtime': 0.0, 'Train_f1_score': 0.6686281280520998, 'Train_iou': 0.5099884559088386, 'Test_f1_score': 0.34413395941351377, 'Test_iou': 0.21303351039793111}\n",
            "Epoch 9/100\n",
            "----------\n"
          ]
        },
        {
          "output_type": "stream",
          "name": "stderr",
          "text": [
            "\n",
            "100%|██████████| 58/58 [00:17<00:00,  3.39it/s]\n",
            "100%|██████████| 15/15 [00:03<00:00,  4.95it/s]"
          ]
        },
        {
          "output_type": "stream",
          "name": "stdout",
          "text": [
            "{'epoch': 9, 'Train_loss': 0.39717933535575867, 'Test_loss': 0.34053993225097656, '_timestamp': 0.0, '_runtime': 0.0, 'Train_f1_score': 0.6633531486751774, 'Train_iou': 0.5060436810406348, 'Test_f1_score': 0.410289658771602, 'Test_iou': 0.26346742324003863}\n",
            "Epoch 10/100\n",
            "----------\n"
          ]
        },
        {
          "output_type": "stream",
          "name": "stderr",
          "text": [
            "\n",
            "100%|██████████| 58/58 [00:16<00:00,  3.43it/s]\n",
            "100%|██████████| 15/15 [00:03<00:00,  3.75it/s]\n"
          ]
        },
        {
          "output_type": "stream",
          "name": "stdout",
          "text": [
            "{'epoch': 10, 'Train_loss': 0.5033212900161743, 'Test_loss': 0.33490651845932007, '_timestamp': 0.0, '_runtime': 0.0, 'Train_f1_score': 0.6555770994076596, 'Train_iou': 0.49691642201586245, 'Test_f1_score': 0.44517781046237376, 'Test_iou': 0.2930226832731579}\n",
            "Epoch 11/100\n",
            "----------\n"
          ]
        },
        {
          "output_type": "stream",
          "name": "stderr",
          "text": [
            "100%|██████████| 58/58 [00:17<00:00,  3.28it/s]\n",
            "100%|██████████| 15/15 [00:02<00:00,  5.08it/s]"
          ]
        },
        {
          "output_type": "stream",
          "name": "stdout",
          "text": [
            "{'epoch': 11, 'Train_loss': 0.4156985878944397, 'Test_loss': 0.3123571276664734, '_timestamp': 0.0, '_runtime': 0.0, 'Train_f1_score': 0.6784846287473213, 'Train_iou': 0.521518957695606, 'Test_f1_score': 0.40514072053986844, 'Test_iou': 0.25982249967295445}\n",
            "Epoch 12/100\n",
            "----------\n"
          ]
        },
        {
          "output_type": "stream",
          "name": "stderr",
          "text": [
            "\n",
            "100%|██████████| 58/58 [00:16<00:00,  3.45it/s]\n",
            "100%|██████████| 15/15 [00:03<00:00,  4.93it/s]"
          ]
        },
        {
          "output_type": "stream",
          "name": "stdout",
          "text": [
            "{'epoch': 12, 'Train_loss': 0.3549879193305969, 'Test_loss': 0.3599524199962616, '_timestamp': 0.0, '_runtime': 0.0, 'Train_f1_score': 0.6633939831631055, 'Train_iou': 0.5069156139292259, 'Test_f1_score': 0.42842720215068764, 'Test_iou': 0.27848544429656913}\n",
            "Epoch 13/100\n",
            "----------\n"
          ]
        },
        {
          "output_type": "stream",
          "name": "stderr",
          "text": [
            "\n",
            "100%|██████████| 58/58 [00:16<00:00,  3.46it/s]\n",
            "100%|██████████| 15/15 [00:04<00:00,  3.34it/s]"
          ]
        },
        {
          "output_type": "stream",
          "name": "stdout",
          "text": [
            "{'epoch': 13, 'Train_loss': 0.3967006802558899, 'Test_loss': 0.4848361015319824, '_timestamp': 0.0, '_runtime': 0.0, 'Train_f1_score': 0.6733601098612824, 'Train_iou': 0.515892463364708, 'Test_f1_score': 0.37973997307462476, 'Test_iou': 0.23897654528857873}\n",
            "Epoch 14/100\n",
            "----------\n"
          ]
        },
        {
          "output_type": "stream",
          "name": "stderr",
          "text": [
            "\n",
            "100%|██████████| 58/58 [00:17<00:00,  3.36it/s]\n",
            "100%|██████████| 15/15 [00:02<00:00,  5.06it/s]"
          ]
        },
        {
          "output_type": "stream",
          "name": "stdout",
          "text": [
            "{'epoch': 14, 'Train_loss': 0.40199393033981323, 'Test_loss': 0.28080523014068604, '_timestamp': 0.0, '_runtime': 0.0, 'Train_f1_score': 0.6772893548916861, 'Train_iou': 0.5212131875853759, 'Test_f1_score': 0.39066491835796013, 'Test_iou': 0.24781367050259384}\n",
            "Epoch 15/100\n",
            "----------\n"
          ]
        },
        {
          "output_type": "stream",
          "name": "stderr",
          "text": [
            "\n",
            "100%|██████████| 58/58 [00:16<00:00,  3.41it/s]\n",
            "100%|██████████| 15/15 [00:02<00:00,  5.05it/s]"
          ]
        },
        {
          "output_type": "stream",
          "name": "stdout",
          "text": [
            "{'epoch': 15, 'Train_loss': 0.4151459336280823, 'Test_loss': 0.5222371816635132, '_timestamp': 0.0, '_runtime': 0.0, 'Train_f1_score': 0.6678213413568428, 'Train_iou': 0.5118783178614471, 'Test_f1_score': 0.4257177336495675, 'Test_iou': 0.27623998719469}\n",
            "Epoch 16/100\n",
            "----------\n"
          ]
        },
        {
          "output_type": "stream",
          "name": "stderr",
          "text": [
            "\n",
            "100%|██████████| 58/58 [00:16<00:00,  3.42it/s]\n",
            "100%|██████████| 15/15 [00:05<00:00,  2.97it/s]"
          ]
        },
        {
          "output_type": "stream",
          "name": "stdout",
          "text": [
            "{'epoch': 16, 'Train_loss': 0.44459038972854614, 'Test_loss': 0.31904470920562744, '_timestamp': 0.0, '_runtime': 0.0, 'Train_f1_score': 0.6808475439471838, 'Train_iou': 0.5248257624034186, 'Test_f1_score': 0.3638760472761828, 'Test_iou': 0.22748600375133188}\n",
            "Epoch 17/100\n",
            "----------\n"
          ]
        },
        {
          "output_type": "stream",
          "name": "stderr",
          "text": [
            "\n",
            "100%|██████████| 58/58 [00:16<00:00,  3.48it/s]\n",
            "100%|██████████| 15/15 [00:03<00:00,  4.93it/s]"
          ]
        },
        {
          "output_type": "stream",
          "name": "stdout",
          "text": [
            "{'epoch': 17, 'Train_loss': 0.4430656433105469, 'Test_loss': 0.30007392168045044, '_timestamp': 0.0, '_runtime': 0.0, 'Train_f1_score': 0.6887797218050379, 'Train_iou': 0.5355703612814151, 'Test_f1_score': 0.375271338681119, 'Test_iou': 0.23519936681583886}\n",
            "Epoch 18/100\n",
            "----------\n"
          ]
        },
        {
          "output_type": "stream",
          "name": "stderr",
          "text": [
            "\n",
            "100%|██████████| 58/58 [00:16<00:00,  3.43it/s]\n",
            "100%|██████████| 15/15 [00:02<00:00,  5.04it/s]"
          ]
        },
        {
          "output_type": "stream",
          "name": "stdout",
          "text": [
            "{'epoch': 18, 'Train_loss': 0.3473416268825531, 'Test_loss': 0.48036736249923706, '_timestamp': 0.0, '_runtime': 0.0, 'Train_f1_score': 0.6838362866027832, 'Train_iou': 0.5298051524255242, 'Test_f1_score': 0.3374560218876168, 'Test_iou': 0.2069760865362541}\n",
            "Epoch 19/100\n",
            "----------\n"
          ]
        },
        {
          "output_type": "stream",
          "name": "stderr",
          "text": [
            "\n",
            "100%|██████████| 58/58 [00:17<00:00,  3.35it/s]\n",
            "100%|██████████| 15/15 [00:04<00:00,  3.34it/s]"
          ]
        },
        {
          "output_type": "stream",
          "name": "stdout",
          "text": [
            "{'epoch': 19, 'Train_loss': 0.44389113783836365, 'Test_loss': 0.33094513416290283, '_timestamp': 0.0, '_runtime': 0.0, 'Train_f1_score': 0.6942209014404107, 'Train_iou': 0.5414060540678575, 'Test_f1_score': 0.3946973947890744, 'Test_iou': 0.2508250648026945}\n",
            "Epoch 20/100\n",
            "----------\n"
          ]
        },
        {
          "output_type": "stream",
          "name": "stderr",
          "text": [
            "\n",
            "100%|██████████| 58/58 [00:16<00:00,  3.43it/s]\n",
            "100%|██████████| 15/15 [00:03<00:00,  4.93it/s]"
          ]
        },
        {
          "output_type": "stream",
          "name": "stdout",
          "text": [
            "{'epoch': 20, 'Train_loss': 0.39110785722732544, 'Test_loss': 0.41092783212661743, '_timestamp': 0.0, '_runtime': 0.0, 'Train_f1_score': 0.6930411485640723, 'Train_iou': 0.5402236991706274, 'Test_f1_score': 0.3871857710177905, 'Test_iou': 0.2454707658294729}\n",
            "Epoch 21/100\n",
            "----------\n"
          ]
        },
        {
          "output_type": "stream",
          "name": "stderr",
          "text": [
            "\n",
            "100%|██████████| 58/58 [00:16<00:00,  3.46it/s]\n",
            "100%|██████████| 15/15 [00:03<00:00,  4.71it/s]"
          ]
        },
        {
          "output_type": "stream",
          "name": "stdout",
          "text": [
            "{'epoch': 21, 'Train_loss': 0.8541816473007202, 'Test_loss': 0.3752904534339905, '_timestamp': 0.0, '_runtime': 0.0, 'Train_f1_score': 0.6939787883832855, 'Train_iou': 0.5418515812643144, 'Test_f1_score': 0.4559179129157199, 'Test_iou': 0.3019001776333796}\n",
            "Epoch 22/100\n",
            "----------\n"
          ]
        },
        {
          "output_type": "stream",
          "name": "stderr",
          "text": [
            "\n",
            "100%|██████████| 58/58 [00:17<00:00,  3.27it/s]\n",
            "100%|██████████| 15/15 [00:03<00:00,  3.84it/s]"
          ]
        },
        {
          "output_type": "stream",
          "name": "stdout",
          "text": [
            "{'epoch': 22, 'Train_loss': 0.3419276177883148, 'Test_loss': 0.39135804772377014, '_timestamp': 0.0, '_runtime': 0.0, 'Train_f1_score': 0.6966267947808872, 'Train_iou': 0.5457750598404147, 'Test_f1_score': 0.479593375841194, 'Test_iou': 0.3227189907942296}\n",
            "Epoch 23/100\n",
            "----------\n"
          ]
        },
        {
          "output_type": "stream",
          "name": "stderr",
          "text": [
            "\n",
            "100%|██████████| 58/58 [00:16<00:00,  3.46it/s]\n",
            "100%|██████████| 15/15 [00:03<00:00,  4.97it/s]"
          ]
        },
        {
          "output_type": "stream",
          "name": "stdout",
          "text": [
            "{'epoch': 23, 'Train_loss': 0.46991151571273804, 'Test_loss': 0.34883642196655273, '_timestamp': 0.0, '_runtime': 0.0, 'Train_f1_score': 0.6825759682304577, 'Train_iou': 0.5318255893287925, 'Test_f1_score': 0.39013239357095564, 'Test_iou': 0.24725115886215893}\n",
            "Epoch 24/100\n",
            "----------\n"
          ]
        },
        {
          "output_type": "stream",
          "name": "stderr",
          "text": [
            "\n",
            "100%|██████████| 58/58 [00:16<00:00,  3.48it/s]\n",
            "100%|██████████| 15/15 [00:03<00:00,  4.29it/s]"
          ]
        },
        {
          "output_type": "stream",
          "name": "stdout",
          "text": [
            "{'epoch': 24, 'Train_loss': 0.3513984680175781, 'Test_loss': 0.38334161043167114, '_timestamp': 0.0, '_runtime': 0.0, 'Train_f1_score': 0.6816730374961949, 'Train_iou': 0.5277916753322716, 'Test_f1_score': 0.3525029394097926, 'Test_iou': 0.21823858858673467}\n",
            "Epoch 25/100\n",
            "----------\n"
          ]
        },
        {
          "output_type": "stream",
          "name": "stderr",
          "text": [
            "\n",
            "100%|██████████| 58/58 [00:16<00:00,  3.42it/s]\n",
            "100%|██████████| 15/15 [00:03<00:00,  4.12it/s]"
          ]
        },
        {
          "output_type": "stream",
          "name": "stdout",
          "text": [
            "{'epoch': 25, 'Train_loss': 0.3281313180923462, 'Test_loss': 0.3336053490638733, '_timestamp': 0.0, '_runtime': 0.0, 'Train_f1_score': 0.6954953960381118, 'Train_iou': 0.5453656868985838, 'Test_f1_score': 0.4425165108130541, 'Test_iou': 0.2900893989267985}\n",
            "Epoch 26/100\n",
            "----------\n"
          ]
        },
        {
          "output_type": "stream",
          "name": "stderr",
          "text": [
            "\n",
            "100%|██████████| 58/58 [00:16<00:00,  3.49it/s]\n",
            "100%|██████████| 15/15 [00:03<00:00,  4.99it/s]"
          ]
        },
        {
          "output_type": "stream",
          "name": "stdout",
          "text": [
            "{'epoch': 26, 'Train_loss': 0.42334043979644775, 'Test_loss': 0.3198053240776062, '_timestamp': 0.0, '_runtime': 0.0, 'Train_f1_score': 0.7106246215669484, 'Train_iou': 0.5601773555984204, 'Test_f1_score': 0.42805542451854317, 'Test_iou': 0.2785293580494911}\n",
            "Epoch 27/100\n",
            "----------\n"
          ]
        },
        {
          "output_type": "stream",
          "name": "stderr",
          "text": [
            "\n",
            "100%|██████████| 58/58 [00:16<00:00,  3.53it/s]\n",
            "100%|██████████| 15/15 [00:03<00:00,  4.22it/s]"
          ]
        },
        {
          "output_type": "stream",
          "name": "stdout",
          "text": [
            "{'epoch': 27, 'Train_loss': 0.3396521210670471, 'Test_loss': 0.35871371626853943, '_timestamp': 0.0, '_runtime': 0.0, 'Train_f1_score': 0.7109939959856688, 'Train_iou': 0.5632925313501108, 'Test_f1_score': 0.4440566500972398, 'Test_iou': 0.29130281921286205}\n",
            "Epoch 28/100\n",
            "----------\n"
          ]
        },
        {
          "output_type": "stream",
          "name": "stderr",
          "text": [
            "\n",
            "100%|██████████| 58/58 [00:17<00:00,  3.32it/s]\n",
            "100%|██████████| 15/15 [00:03<00:00,  4.49it/s]"
          ]
        },
        {
          "output_type": "stream",
          "name": "stdout",
          "text": [
            "{'epoch': 28, 'Train_loss': 0.4282824397087097, 'Test_loss': 0.3196190297603607, '_timestamp': 0.0, '_runtime': 0.0, 'Train_f1_score': 0.7128970228388278, 'Train_iou': 0.564430407667195, 'Test_f1_score': 0.46478902809869704, 'Test_iou': 0.3093612969659686}\n",
            "Epoch 29/100\n",
            "----------\n"
          ]
        },
        {
          "output_type": "stream",
          "name": "stderr",
          "text": [
            "\n",
            "100%|██████████| 58/58 [00:16<00:00,  3.51it/s]\n",
            "100%|██████████| 15/15 [00:02<00:00,  5.07it/s]"
          ]
        },
        {
          "output_type": "stream",
          "name": "stdout",
          "text": [
            "{'epoch': 29, 'Train_loss': 0.31660404801368713, 'Test_loss': 0.32120752334594727, '_timestamp': 0.0, '_runtime': 0.0, 'Train_f1_score': 0.720222840293022, 'Train_iou': 0.5739227042363966, 'Test_f1_score': 0.4994021512714455, 'Test_iou': 0.3412003989330854}\n",
            "Epoch 30/100\n",
            "----------\n"
          ]
        },
        {
          "output_type": "stream",
          "name": "stderr",
          "text": [
            "\n",
            "100%|██████████| 58/58 [00:16<00:00,  3.49it/s]\n",
            "100%|██████████| 15/15 [00:03<00:00,  3.98it/s]\n"
          ]
        },
        {
          "output_type": "stream",
          "name": "stdout",
          "text": [
            "{'epoch': 30, 'Train_loss': 0.3318140506744385, 'Test_loss': 0.28590863943099976, '_timestamp': 0.0, '_runtime': 0.0, 'Train_f1_score': 0.714344582105609, 'Train_iou': 0.566967407504705, 'Test_f1_score': 0.46040117151385035, 'Test_iou': 0.3058589118238442}\n",
            "Epoch 31/100\n",
            "----------\n"
          ]
        },
        {
          "output_type": "stream",
          "name": "stderr",
          "text": [
            "100%|██████████| 58/58 [00:17<00:00,  3.41it/s]\n",
            "100%|██████████| 15/15 [00:03<00:00,  4.40it/s]"
          ]
        },
        {
          "output_type": "stream",
          "name": "stdout",
          "text": [
            "{'epoch': 31, 'Train_loss': 0.41368889808654785, 'Test_loss': 0.2825976014137268, '_timestamp': 0.0, '_runtime': 0.0, 'Train_f1_score': 0.7238355316443964, 'Train_iou': 0.5769208902365666, 'Test_f1_score': 0.44887540792231284, 'Test_iou': 0.29614944831523715}\n",
            "Epoch 32/100\n",
            "----------\n"
          ]
        },
        {
          "output_type": "stream",
          "name": "stderr",
          "text": [
            "\n",
            "100%|██████████| 58/58 [00:16<00:00,  3.50it/s]\n",
            "100%|██████████| 15/15 [00:02<00:00,  5.09it/s]"
          ]
        },
        {
          "output_type": "stream",
          "name": "stdout",
          "text": [
            "{'epoch': 32, 'Train_loss': 0.3792842626571655, 'Test_loss': 0.4603439271450043, '_timestamp': 0.0, '_runtime': 0.0, 'Train_f1_score': 0.7228176633538164, 'Train_iou': 0.5765832975193925, 'Test_f1_score': 0.43917652441052, 'Test_iou': 0.28854867824630487}\n",
            "Epoch 33/100\n",
            "----------\n"
          ]
        },
        {
          "output_type": "stream",
          "name": "stderr",
          "text": [
            "\n",
            "100%|██████████| 58/58 [00:16<00:00,  3.51it/s]\n",
            "100%|██████████| 15/15 [00:03<00:00,  4.10it/s]\n"
          ]
        },
        {
          "output_type": "stream",
          "name": "stdout",
          "text": [
            "{'epoch': 33, 'Train_loss': 0.3272503614425659, 'Test_loss': 0.3033335208892822, '_timestamp': 0.0, '_runtime': 0.0, 'Train_f1_score': 0.724300289354947, 'Train_iou': 0.5777404393630411, 'Test_f1_score': 0.46411623898313675, 'Test_iou': 0.3093289504288739}\n",
            "Epoch 34/100\n",
            "----------\n"
          ]
        },
        {
          "output_type": "stream",
          "name": "stderr",
          "text": [
            "100%|██████████| 58/58 [00:17<00:00,  3.32it/s]\n",
            "100%|██████████| 15/15 [00:03<00:00,  4.71it/s]"
          ]
        },
        {
          "output_type": "stream",
          "name": "stdout",
          "text": [
            "{'epoch': 34, 'Train_loss': 0.322349488735199, 'Test_loss': 0.4148574471473694, '_timestamp': 0.0, '_runtime': 0.0, 'Train_f1_score': 0.7201378986863434, 'Train_iou': 0.5739688510659118, 'Test_f1_score': 0.4717761925710526, 'Test_iou': 0.3156869753961478}\n",
            "Epoch 35/100\n",
            "----------\n"
          ]
        },
        {
          "output_type": "stream",
          "name": "stderr",
          "text": [
            "\n",
            "100%|██████████| 58/58 [00:16<00:00,  3.48it/s]\n",
            "100%|██████████| 15/15 [00:02<00:00,  5.18it/s]"
          ]
        },
        {
          "output_type": "stream",
          "name": "stdout",
          "text": [
            "{'epoch': 35, 'Train_loss': 0.42796576023101807, 'Test_loss': 0.3155513107776642, '_timestamp': 0.0, '_runtime': 0.0, 'Train_f1_score': 0.7137280084179695, 'Train_iou': 0.5681484358539467, 'Test_f1_score': 0.4028022977318865, 'Test_iou': 0.25738771701998353}\n",
            "Epoch 36/100\n",
            "----------\n"
          ]
        },
        {
          "output_type": "stream",
          "name": "stderr",
          "text": [
            "\n",
            "100%|██████████| 58/58 [00:16<00:00,  3.53it/s]\n",
            "100%|██████████| 15/15 [00:03<00:00,  3.95it/s]\n"
          ]
        },
        {
          "output_type": "stream",
          "name": "stdout",
          "text": [
            "{'epoch': 36, 'Train_loss': 0.4727514684200287, 'Test_loss': 0.31229838728904724, '_timestamp': 0.0, '_runtime': 0.0, 'Train_f1_score': 0.7181765815951935, 'Train_iou': 0.5719618385465304, 'Test_f1_score': 0.4525197068224193, 'Test_iou': 0.2984891650591288}\n",
            "Epoch 37/100\n",
            "----------\n"
          ]
        },
        {
          "output_type": "stream",
          "name": "stderr",
          "text": [
            "100%|██████████| 58/58 [00:17<00:00,  3.38it/s]\n",
            "100%|██████████| 15/15 [00:03<00:00,  4.78it/s]"
          ]
        },
        {
          "output_type": "stream",
          "name": "stdout",
          "text": [
            "{'epoch': 37, 'Train_loss': 0.429513543844223, 'Test_loss': 0.35802948474884033, '_timestamp': 0.0, '_runtime': 0.0, 'Train_f1_score': 0.7196824456321826, 'Train_iou': 0.5716657912249062, 'Test_f1_score': 0.4856118606872542, 'Test_iou': 0.3280505067797237}\n",
            "Epoch 38/100\n",
            "----------\n"
          ]
        },
        {
          "output_type": "stream",
          "name": "stderr",
          "text": [
            "\n",
            "100%|██████████| 58/58 [00:16<00:00,  3.50it/s]\n",
            "100%|██████████| 15/15 [00:02<00:00,  5.06it/s]"
          ]
        },
        {
          "output_type": "stream",
          "name": "stdout",
          "text": [
            "{'epoch': 38, 'Train_loss': 0.2989382743835449, 'Test_loss': 0.34471559524536133, '_timestamp': 0.0, '_runtime': 0.0, 'Train_f1_score': 0.7057089196787745, 'Train_iou': 0.5596120655861894, 'Test_f1_score': 0.48814457100223285, 'Test_iou': 0.3310624560604718}\n",
            "Epoch 39/100\n",
            "----------\n"
          ]
        },
        {
          "output_type": "stream",
          "name": "stderr",
          "text": [
            "\n",
            "100%|██████████| 58/58 [00:16<00:00,  3.54it/s]\n",
            "100%|██████████| 15/15 [00:03<00:00,  4.04it/s]"
          ]
        },
        {
          "output_type": "stream",
          "name": "stdout",
          "text": [
            "{'epoch': 39, 'Train_loss': 0.41443943977355957, 'Test_loss': 0.22922322154045105, '_timestamp': 0.0, '_runtime': 0.0, 'Train_f1_score': 0.7125452091852026, 'Train_iou': 0.5645403903481496, 'Test_f1_score': 0.518032025433325, 'Test_iou': 0.35822154238171655}\n",
            "Epoch 40/100\n",
            "----------\n"
          ]
        },
        {
          "output_type": "stream",
          "name": "stderr",
          "text": [
            "\n",
            "100%|██████████| 58/58 [00:17<00:00,  3.36it/s]\n",
            "100%|██████████| 15/15 [00:03<00:00,  4.64it/s]"
          ]
        },
        {
          "output_type": "stream",
          "name": "stdout",
          "text": [
            "{'epoch': 40, 'Train_loss': 0.48493561148643494, 'Test_loss': 0.30029258131980896, '_timestamp': 0.0, '_runtime': 0.0, 'Train_f1_score': 0.7238957136639806, 'Train_iou': 0.5777557567547906, 'Test_f1_score': 0.47966547564397, 'Test_iou': 0.32302738419192795}\n",
            "Epoch 41/100\n",
            "----------\n"
          ]
        },
        {
          "output_type": "stream",
          "name": "stderr",
          "text": [
            "\n",
            "100%|██████████| 58/58 [00:16<00:00,  3.49it/s]\n",
            "100%|██████████| 15/15 [00:02<00:00,  5.02it/s]"
          ]
        },
        {
          "output_type": "stream",
          "name": "stdout",
          "text": [
            "{'epoch': 41, 'Train_loss': 0.45126304030418396, 'Test_loss': 0.2999228239059448, '_timestamp': 0.0, '_runtime': 0.0, 'Train_f1_score': 0.7042607418415537, 'Train_iou': 0.5554977061686531, 'Test_f1_score': 0.46002103709514947, 'Test_iou': 0.3064403764222796}\n",
            "Epoch 42/100\n",
            "----------\n"
          ]
        },
        {
          "output_type": "stream",
          "name": "stderr",
          "text": [
            "\n",
            "100%|██████████| 58/58 [00:16<00:00,  3.52it/s]\n",
            "100%|██████████| 15/15 [00:03<00:00,  3.81it/s]"
          ]
        },
        {
          "output_type": "stream",
          "name": "stdout",
          "text": [
            "{'epoch': 42, 'Train_loss': 0.3415888249874115, 'Test_loss': 0.3880702257156372, '_timestamp': 0.0, '_runtime': 0.0, 'Train_f1_score': 0.7192968076256573, 'Train_iou': 0.5722819329449729, 'Test_f1_score': 0.5220356803231603, 'Test_iou': 0.3621308449232392}\n",
            "Epoch 43/100\n",
            "----------\n"
          ]
        },
        {
          "output_type": "stream",
          "name": "stderr",
          "text": [
            "\n",
            "100%|██████████| 58/58 [00:17<00:00,  3.35it/s]\n",
            "100%|██████████| 15/15 [00:02<00:00,  5.11it/s]"
          ]
        },
        {
          "output_type": "stream",
          "name": "stdout",
          "text": [
            "{'epoch': 43, 'Train_loss': 0.3368765115737915, 'Test_loss': 0.2813906669616699, '_timestamp': 0.0, '_runtime': 0.0, 'Train_f1_score': 0.7196269183239782, 'Train_iou': 0.5720820166505233, 'Test_f1_score': 0.45896776863287303, 'Test_iou': 0.3054422866830604}\n",
            "Epoch 44/100\n",
            "----------\n"
          ]
        },
        {
          "output_type": "stream",
          "name": "stderr",
          "text": [
            "\n",
            "100%|██████████| 58/58 [00:16<00:00,  3.51it/s]\n",
            "100%|██████████| 15/15 [00:02<00:00,  5.05it/s]"
          ]
        },
        {
          "output_type": "stream",
          "name": "stdout",
          "text": [
            "{'epoch': 44, 'Train_loss': 0.33825406432151794, 'Test_loss': 0.3938106596469879, '_timestamp': 0.0, '_runtime': 0.0, 'Train_f1_score': 0.7260675486344496, 'Train_iou': 0.5797454467584421, 'Test_f1_score': 0.48141535731861024, 'Test_iou': 0.3247502370182323}\n",
            "Epoch 45/100\n",
            "----------\n"
          ]
        },
        {
          "output_type": "stream",
          "name": "stderr",
          "text": [
            "\n",
            "100%|██████████| 58/58 [00:16<00:00,  3.51it/s]\n",
            "100%|██████████| 15/15 [00:04<00:00,  3.59it/s]\n"
          ]
        },
        {
          "output_type": "stream",
          "name": "stdout",
          "text": [
            "{'epoch': 45, 'Train_loss': 0.3666350543498993, 'Test_loss': 0.2780241072177887, '_timestamp': 0.0, '_runtime': 0.0, 'Train_f1_score': 0.7110601971345921, 'Train_iou': 0.5647152106882446, 'Test_f1_score': 0.4238472300582491, 'Test_iou': 0.2743200336172119}\n",
            "Epoch 46/100\n",
            "----------\n"
          ]
        },
        {
          "output_type": "stream",
          "name": "stderr",
          "text": [
            "100%|██████████| 58/58 [00:17<00:00,  3.40it/s]\n",
            "100%|██████████| 15/15 [00:03<00:00,  4.89it/s]"
          ]
        },
        {
          "output_type": "stream",
          "name": "stdout",
          "text": [
            "{'epoch': 46, 'Train_loss': 0.2863442897796631, 'Test_loss': 0.22709383070468903, '_timestamp': 0.0, '_runtime': 0.0, 'Train_f1_score': 0.7296744294252078, 'Train_iou': 0.5865241118195543, 'Test_f1_score': 0.4947087627018426, 'Test_iou': 0.33629260838159714}\n",
            "Epoch 47/100\n",
            "----------\n"
          ]
        },
        {
          "output_type": "stream",
          "name": "stderr",
          "text": [
            "\n",
            "100%|██████████| 58/58 [00:16<00:00,  3.54it/s]\n",
            "100%|██████████| 15/15 [00:02<00:00,  5.05it/s]"
          ]
        },
        {
          "output_type": "stream",
          "name": "stdout",
          "text": [
            "{'epoch': 47, 'Train_loss': 0.4150635898113251, 'Test_loss': 0.18353472650051117, '_timestamp': 0.0, '_runtime': 0.0, 'Train_f1_score': 0.7391279663103952, 'Train_iou': 0.597313022807794, 'Test_f1_score': 0.4853227331523823, 'Test_iou': 0.3282294342290386}\n",
            "Epoch 48/100\n",
            "----------\n"
          ]
        },
        {
          "output_type": "stream",
          "name": "stderr",
          "text": [
            "\n",
            "100%|██████████| 58/58 [00:16<00:00,  3.50it/s]\n",
            "100%|██████████| 15/15 [00:03<00:00,  3.88it/s]\n"
          ]
        },
        {
          "output_type": "stream",
          "name": "stdout",
          "text": [
            "{'epoch': 48, 'Train_loss': 0.3426697254180908, 'Test_loss': 0.3917504847049713, '_timestamp': 0.0, '_runtime': 0.0, 'Train_f1_score': 0.7165130400142301, 'Train_iou': 0.5719407310675567, 'Test_f1_score': 0.46951913716662186, 'Test_iou': 0.31374967722864266}\n",
            "Epoch 49/100\n",
            "----------\n"
          ]
        },
        {
          "output_type": "stream",
          "name": "stderr",
          "text": [
            "100%|██████████| 58/58 [00:17<00:00,  3.38it/s]\n",
            "100%|██████████| 15/15 [00:03<00:00,  4.82it/s]"
          ]
        },
        {
          "output_type": "stream",
          "name": "stdout",
          "text": [
            "{'epoch': 49, 'Train_loss': 0.33464106917381287, 'Test_loss': 0.3157843053340912, '_timestamp': 0.0, '_runtime': 0.0, 'Train_f1_score': 0.732368703250835, 'Train_iou': 0.5907726566878633, 'Test_f1_score': 0.48797228758577227, 'Test_iou': 0.33023877891874664}\n",
            "Epoch 50/100\n",
            "----------\n"
          ]
        },
        {
          "output_type": "stream",
          "name": "stderr",
          "text": [
            "\n",
            "100%|██████████| 58/58 [00:16<00:00,  3.52it/s]\n",
            "100%|██████████| 15/15 [00:02<00:00,  5.11it/s]"
          ]
        },
        {
          "output_type": "stream",
          "name": "stdout",
          "text": [
            "{'epoch': 50, 'Train_loss': 0.3135771155357361, 'Test_loss': 0.30330318212509155, '_timestamp': 0.0, '_runtime': 0.0, 'Train_f1_score': 0.7317985449106803, 'Train_iou': 0.5898530846434401, 'Test_f1_score': 0.5017988309215301, 'Test_iou': 0.3432901193657638}\n",
            "Epoch 51/100\n",
            "----------\n"
          ]
        },
        {
          "output_type": "stream",
          "name": "stderr",
          "text": [
            "\n",
            "100%|██████████| 58/58 [00:16<00:00,  3.49it/s]\n",
            "100%|██████████| 15/15 [00:03<00:00,  4.03it/s]"
          ]
        },
        {
          "output_type": "stream",
          "name": "stdout",
          "text": [
            "{'epoch': 51, 'Train_loss': 0.3145005702972412, 'Test_loss': 0.23751160502433777, '_timestamp': 0.0, '_runtime': 0.0, 'Train_f1_score': 0.7194676441699466, 'Train_iou': 0.5768161305525908, 'Test_f1_score': 0.4856472731201217, 'Test_iou': 0.3290107454121718}\n",
            "Epoch 52/100\n",
            "----------\n"
          ]
        },
        {
          "output_type": "stream",
          "name": "stderr",
          "text": [
            "\n",
            "100%|██████████| 58/58 [00:17<00:00,  3.38it/s]\n",
            "100%|██████████| 15/15 [00:03<00:00,  4.54it/s]"
          ]
        },
        {
          "output_type": "stream",
          "name": "stdout",
          "text": [
            "{'epoch': 52, 'Train_loss': 0.3343794345855713, 'Test_loss': 0.23991388082504272, '_timestamp': 0.0, '_runtime': 0.0, 'Train_f1_score': 0.7430015419616018, 'Train_iou': 0.6017531634808986, 'Test_f1_score': 0.480099930779366, 'Test_iou': 0.3243234515844378}\n",
            "Epoch 53/100\n",
            "----------\n"
          ]
        },
        {
          "output_type": "stream",
          "name": "stderr",
          "text": [
            "\n",
            "100%|██████████| 58/58 [00:16<00:00,  3.52it/s]\n",
            "100%|██████████| 15/15 [00:02<00:00,  5.07it/s]"
          ]
        },
        {
          "output_type": "stream",
          "name": "stdout",
          "text": [
            "{'epoch': 53, 'Train_loss': 0.30654019117355347, 'Test_loss': 0.2569531202316284, '_timestamp': 0.0, '_runtime': 0.0, 'Train_f1_score': 0.7331151920582788, 'Train_iou': 0.5930214206162578, 'Test_f1_score': 0.44924883098311735, 'Test_iou': 0.2977190148593224}\n",
            "Epoch 54/100\n",
            "----------\n"
          ]
        },
        {
          "output_type": "stream",
          "name": "stderr",
          "text": [
            "\n",
            "100%|██████████| 58/58 [00:16<00:00,  3.49it/s]\n",
            "100%|██████████| 15/15 [00:03<00:00,  4.20it/s]\n"
          ]
        },
        {
          "output_type": "stream",
          "name": "stdout",
          "text": [
            "{'epoch': 54, 'Train_loss': 0.5556394457817078, 'Test_loss': 0.36561521887779236, '_timestamp': 0.0, '_runtime': 0.0, 'Train_f1_score': 0.739021515520047, 'Train_iou': 0.5973790313752478, 'Test_f1_score': 0.4614877127597483, 'Test_iou': 0.30718075646963844}\n",
            "Epoch 55/100\n",
            "----------\n"
          ]
        },
        {
          "output_type": "stream",
          "name": "stderr",
          "text": [
            "100%|██████████| 58/58 [00:17<00:00,  3.36it/s]\n",
            "100%|██████████| 15/15 [00:03<00:00,  4.46it/s]"
          ]
        },
        {
          "output_type": "stream",
          "name": "stdout",
          "text": [
            "{'epoch': 55, 'Train_loss': 0.3258987367153168, 'Test_loss': 0.4062840938568115, '_timestamp': 0.0, '_runtime': 0.0, 'Train_f1_score': 0.7324105052081462, 'Train_iou': 0.5893876622303957, 'Test_f1_score': 0.4664959662880398, 'Test_iou': 0.3111149162531385}\n",
            "Epoch 56/100\n",
            "----------\n"
          ]
        },
        {
          "output_type": "stream",
          "name": "stderr",
          "text": [
            "\n",
            "100%|██████████| 58/58 [00:16<00:00,  3.51it/s]\n",
            "100%|██████████| 15/15 [00:02<00:00,  5.06it/s]"
          ]
        },
        {
          "output_type": "stream",
          "name": "stdout",
          "text": [
            "{'epoch': 56, 'Train_loss': 0.35254788398742676, 'Test_loss': 0.3382236659526825, '_timestamp': 0.0, '_runtime': 0.0, 'Train_f1_score': 0.7321701966203704, 'Train_iou': 0.5930262280795494, 'Test_f1_score': 0.5181188660298446, 'Test_iou': 0.3589586065112473}\n",
            "Epoch 57/100\n",
            "----------\n"
          ]
        },
        {
          "output_type": "stream",
          "name": "stderr",
          "text": [
            "\n",
            "100%|██████████| 58/58 [00:16<00:00,  3.51it/s]\n",
            "100%|██████████| 15/15 [00:03<00:00,  3.99it/s]"
          ]
        },
        {
          "output_type": "stream",
          "name": "stdout",
          "text": [
            "{'epoch': 57, 'Train_loss': 0.30642467737197876, 'Test_loss': 0.39321911334991455, '_timestamp': 0.0, '_runtime': 0.0, 'Train_f1_score': 0.7365153555871108, 'Train_iou': 0.5956807367263504, 'Test_f1_score': 0.493621327093277, 'Test_iou': 0.3353643523310976}\n",
            "Epoch 58/100\n",
            "----------\n"
          ]
        },
        {
          "output_type": "stream",
          "name": "stderr",
          "text": [
            "\n",
            "100%|██████████| 58/58 [00:17<00:00,  3.40it/s]\n",
            "100%|██████████| 15/15 [00:03<00:00,  4.33it/s]"
          ]
        },
        {
          "output_type": "stream",
          "name": "stdout",
          "text": [
            "{'epoch': 58, 'Train_loss': 0.29663562774658203, 'Test_loss': 0.3637908101081848, '_timestamp': 0.0, '_runtime': 0.0, 'Train_f1_score': 0.7310005174817691, 'Train_iou': 0.5887742718661375, 'Test_f1_score': 0.46461833782122486, 'Test_iou': 0.31000790262209355}\n",
            "Epoch 59/100\n",
            "----------\n"
          ]
        },
        {
          "output_type": "stream",
          "name": "stderr",
          "text": [
            "\n",
            "100%|██████████| 58/58 [00:16<00:00,  3.48it/s]\n",
            "100%|██████████| 15/15 [00:02<00:00,  5.11it/s]"
          ]
        },
        {
          "output_type": "stream",
          "name": "stdout",
          "text": [
            "{'epoch': 59, 'Train_loss': 0.2751927673816681, 'Test_loss': 0.3688678443431854, '_timestamp': 0.0, '_runtime': 0.0, 'Train_f1_score': 0.7086749291889948, 'Train_iou': 0.565134855695938, 'Test_f1_score': 0.3922576723124117, 'Test_iou': 0.24844148030143764}\n",
            "Epoch 60/100\n",
            "----------\n"
          ]
        },
        {
          "output_type": "stream",
          "name": "stderr",
          "text": [
            "\n",
            "100%|██████████| 58/58 [00:16<00:00,  3.54it/s]\n",
            "100%|██████████| 15/15 [00:03<00:00,  3.96it/s]\n"
          ]
        },
        {
          "output_type": "stream",
          "name": "stdout",
          "text": [
            "{'epoch': 60, 'Train_loss': 0.3154604732990265, 'Test_loss': 0.2760377526283264, '_timestamp': 0.0, '_runtime': 0.0, 'Train_f1_score': 0.726123984144544, 'Train_iou': 0.58348704812955, 'Test_f1_score': 0.4915003598104626, 'Test_iou': 0.33409533780604755}\n",
            "Epoch 61/100\n",
            "----------\n"
          ]
        },
        {
          "output_type": "stream",
          "name": "stderr",
          "text": [
            "100%|██████████| 58/58 [00:17<00:00,  3.34it/s]\n",
            "100%|██████████| 15/15 [00:03<00:00,  4.82it/s]"
          ]
        },
        {
          "output_type": "stream",
          "name": "stdout",
          "text": [
            "{'epoch': 61, 'Train_loss': 0.33053717017173767, 'Test_loss': 0.3818323612213135, '_timestamp': 0.0, '_runtime': 0.0, 'Train_f1_score': 0.7175461325154668, 'Train_iou': 0.5748060399554048, 'Test_f1_score': 0.39979614290337556, 'Test_iou': 0.2555898203218039}\n",
            "Epoch 62/100\n",
            "----------\n"
          ]
        },
        {
          "output_type": "stream",
          "name": "stderr",
          "text": [
            "\n",
            "100%|██████████| 58/58 [00:16<00:00,  3.50it/s]\n",
            "100%|██████████| 15/15 [00:02<00:00,  5.18it/s]"
          ]
        },
        {
          "output_type": "stream",
          "name": "stdout",
          "text": [
            "{'epoch': 62, 'Train_loss': 0.3444206714630127, 'Test_loss': 0.3389132618904114, '_timestamp': 0.0, '_runtime': 0.0, 'Train_f1_score': 0.7271028748819952, 'Train_iou': 0.5826546443462493, 'Test_f1_score': 0.5125925980708576, 'Test_iou': 0.35404335064158077}\n",
            "Epoch 63/100\n",
            "----------\n"
          ]
        },
        {
          "output_type": "stream",
          "name": "stderr",
          "text": [
            "\n",
            "100%|██████████| 58/58 [00:16<00:00,  3.53it/s]\n",
            "100%|██████████| 15/15 [00:04<00:00,  3.72it/s]"
          ]
        },
        {
          "output_type": "stream",
          "name": "stdout",
          "text": [
            "{'epoch': 63, 'Train_loss': 0.3341313302516937, 'Test_loss': 0.5669575333595276, '_timestamp': 0.0, '_runtime': 0.0, 'Train_f1_score': 0.7250878758850335, 'Train_iou': 0.582756188401303, 'Test_f1_score': 0.5031321715468173, 'Test_iou': 0.3449347958909952}\n",
            "Epoch 64/100\n",
            "----------\n"
          ]
        },
        {
          "output_type": "stream",
          "name": "stderr",
          "text": [
            "\n",
            "100%|██████████| 58/58 [00:17<00:00,  3.37it/s]\n",
            "100%|██████████| 15/15 [00:03<00:00,  4.98it/s]"
          ]
        },
        {
          "output_type": "stream",
          "name": "stdout",
          "text": [
            "{'epoch': 64, 'Train_loss': 0.3633947968482971, 'Test_loss': 0.3467276692390442, '_timestamp': 0.0, '_runtime': 0.0, 'Train_f1_score': 0.740171832983903, 'Train_iou': 0.5996270951254102, 'Test_f1_score': 0.4670035415117756, 'Test_iou': 0.3115122805104069}\n",
            "Epoch 65/100\n",
            "----------\n"
          ]
        },
        {
          "output_type": "stream",
          "name": "stderr",
          "text": [
            "\n",
            "100%|██████████| 58/58 [00:16<00:00,  3.47it/s]\n",
            "100%|██████████| 15/15 [00:03<00:00,  4.93it/s]"
          ]
        },
        {
          "output_type": "stream",
          "name": "stdout",
          "text": [
            "{'epoch': 65, 'Train_loss': 0.35688039660453796, 'Test_loss': 0.27587753534317017, '_timestamp': 0.0, '_runtime': 0.0, 'Train_f1_score': 0.7383731369907025, 'Train_iou': 0.5979738676165182, 'Test_f1_score': 0.51802642370572, 'Test_iou': 0.35936522420367145}\n",
            "Epoch 66/100\n",
            "----------\n"
          ]
        },
        {
          "output_type": "stream",
          "name": "stderr",
          "text": [
            "\n",
            "100%|██████████| 58/58 [00:16<00:00,  3.49it/s]\n",
            "100%|██████████| 15/15 [00:04<00:00,  3.63it/s]\n"
          ]
        },
        {
          "output_type": "stream",
          "name": "stdout",
          "text": [
            "{'epoch': 66, 'Train_loss': 0.29429638385772705, 'Test_loss': 0.32475364208221436, '_timestamp': 0.0, '_runtime': 0.0, 'Train_f1_score': 0.7306274027039156, 'Train_iou': 0.5886393479742696, 'Test_f1_score': 0.5031573223601276, 'Test_iou': 0.34444178254001634}\n",
            "Epoch 67/100\n",
            "----------\n"
          ]
        },
        {
          "output_type": "stream",
          "name": "stderr",
          "text": [
            "100%|██████████| 58/58 [00:17<00:00,  3.35it/s]\n",
            "100%|██████████| 15/15 [00:02<00:00,  5.06it/s]"
          ]
        },
        {
          "output_type": "stream",
          "name": "stdout",
          "text": [
            "{'epoch': 67, 'Train_loss': 0.32187163829803467, 'Test_loss': 0.24452440440654755, '_timestamp': 0.0, '_runtime': 0.0, 'Train_f1_score': 0.7395679510663971, 'Train_iou': 0.6010265460590509, 'Test_f1_score': 0.5376737535430762, 'Test_iou': 0.3778500840989541}\n",
            "Epoch 68/100\n",
            "----------\n"
          ]
        },
        {
          "output_type": "stream",
          "name": "stderr",
          "text": [
            "\n",
            "100%|██████████| 58/58 [00:16<00:00,  3.49it/s]\n",
            "100%|██████████| 15/15 [00:02<00:00,  5.17it/s]"
          ]
        },
        {
          "output_type": "stream",
          "name": "stdout",
          "text": [
            "{'epoch': 68, 'Train_loss': 0.3229435682296753, 'Test_loss': 0.31537216901779175, '_timestamp': 0.0, '_runtime': 0.0, 'Train_f1_score': 0.7436853151269327, 'Train_iou': 0.6046066627930317, 'Test_f1_score': 0.4953289038397589, 'Test_iou': 0.33743093542108005}\n",
            "Epoch 69/100\n",
            "----------\n"
          ]
        },
        {
          "output_type": "stream",
          "name": "stderr",
          "text": [
            "\n",
            "100%|██████████| 58/58 [00:16<00:00,  3.50it/s]\n",
            "100%|██████████| 15/15 [00:04<00:00,  3.49it/s]"
          ]
        },
        {
          "output_type": "stream",
          "name": "stdout",
          "text": [
            "{'epoch': 69, 'Train_loss': 0.36368250846862793, 'Test_loss': 0.3495528995990753, '_timestamp': 0.0, '_runtime': 0.0, 'Train_f1_score': 0.7330566002681025, 'Train_iou': 0.5920606659409219, 'Test_f1_score': 0.47857240945764223, 'Test_iou': 0.32195473893720294}\n",
            "Epoch 70/100\n",
            "----------\n"
          ]
        },
        {
          "output_type": "stream",
          "name": "stderr",
          "text": [
            "\n",
            "100%|██████████| 58/58 [00:17<00:00,  3.39it/s]\n",
            "100%|██████████| 15/15 [00:02<00:00,  5.20it/s]"
          ]
        },
        {
          "output_type": "stream",
          "name": "stdout",
          "text": [
            "{'epoch': 70, 'Train_loss': 0.2647794485092163, 'Test_loss': 0.20795714855194092, '_timestamp': 0.0, '_runtime': 0.0, 'Train_f1_score': 0.7456797854040259, 'Train_iou': 0.6069411458171283, 'Test_f1_score': 0.49286032056912576, 'Test_iou': 0.33544166130766695}\n",
            "Epoch 71/100\n",
            "----------\n"
          ]
        },
        {
          "output_type": "stream",
          "name": "stderr",
          "text": [
            "\n",
            "100%|██████████| 58/58 [00:16<00:00,  3.49it/s]\n",
            "100%|██████████| 15/15 [00:03<00:00,  4.98it/s]"
          ]
        },
        {
          "output_type": "stream",
          "name": "stdout",
          "text": [
            "{'epoch': 71, 'Train_loss': 0.3880113959312439, 'Test_loss': 0.31148844957351685, '_timestamp': 0.0, '_runtime': 0.0, 'Train_f1_score': 0.743310599464888, 'Train_iou': 0.6046600475531562, 'Test_f1_score': 0.4971305507428063, 'Test_iou': 0.3393049632933874}\n",
            "Epoch 72/100\n",
            "----------\n"
          ]
        },
        {
          "output_type": "stream",
          "name": "stderr",
          "text": [
            "\n",
            "100%|██████████| 58/58 [00:16<00:00,  3.50it/s]\n",
            "100%|██████████| 15/15 [00:04<00:00,  3.58it/s]\n"
          ]
        },
        {
          "output_type": "stream",
          "name": "stdout",
          "text": [
            "{'epoch': 72, 'Train_loss': 0.3355632424354553, 'Test_loss': 0.2603710889816284, '_timestamp': 0.0, '_runtime': 0.0, 'Train_f1_score': 0.742507012121712, 'Train_iou': 0.6033320393645641, 'Test_f1_score': 0.5083552179862469, 'Test_iou': 0.34945040781095044}\n",
            "Epoch 73/100\n",
            "----------\n"
          ]
        },
        {
          "output_type": "stream",
          "name": "stderr",
          "text": [
            "100%|██████████| 58/58 [00:17<00:00,  3.32it/s]\n",
            "100%|██████████| 15/15 [00:03<00:00,  4.80it/s]"
          ]
        },
        {
          "output_type": "stream",
          "name": "stdout",
          "text": [
            "{'epoch': 73, 'Train_loss': 0.30444151163101196, 'Test_loss': 0.31260350346565247, '_timestamp': 0.0, '_runtime': 0.0, 'Train_f1_score': 0.743708712676508, 'Train_iou': 0.605195555400182, 'Test_f1_score': 0.47118838247674644, 'Test_iou': 0.31564923403427814}\n",
            "Epoch 74/100\n",
            "----------\n"
          ]
        },
        {
          "output_type": "stream",
          "name": "stderr",
          "text": [
            "\n",
            "100%|██████████| 58/58 [00:16<00:00,  3.43it/s]\n",
            "100%|██████████| 15/15 [00:03<00:00,  4.99it/s]"
          ]
        },
        {
          "output_type": "stream",
          "name": "stdout",
          "text": [
            "{'epoch': 74, 'Train_loss': 0.29519036412239075, 'Test_loss': 0.2719866633415222, '_timestamp': 0.0, '_runtime': 0.0, 'Train_f1_score': 0.739776865029276, 'Train_iou': 0.6000066593145102, 'Test_f1_score': 0.5041920907733557, 'Test_iou': 0.3455815962914983}\n",
            "Epoch 75/100\n",
            "----------\n"
          ]
        },
        {
          "output_type": "stream",
          "name": "stderr",
          "text": [
            "\n",
            "100%|██████████| 58/58 [00:16<00:00,  3.48it/s]\n",
            "100%|██████████| 15/15 [00:04<00:00,  3.23it/s]\n"
          ]
        },
        {
          "output_type": "stream",
          "name": "stdout",
          "text": [
            "{'epoch': 75, 'Train_loss': 0.46968400478363037, 'Test_loss': 0.1974378526210785, '_timestamp': 0.0, '_runtime': 0.0, 'Train_f1_score': 0.7474085870557322, 'Train_iou': 0.6102384273160321, 'Test_f1_score': 0.4279560995675712, 'Test_iou': 0.2787810231716066}\n",
            "Epoch 76/100\n",
            "----------\n"
          ]
        },
        {
          "output_type": "stream",
          "name": "stderr",
          "text": [
            "100%|██████████| 58/58 [00:17<00:00,  3.38it/s]\n",
            "100%|██████████| 15/15 [00:02<00:00,  5.06it/s]"
          ]
        },
        {
          "output_type": "stream",
          "name": "stdout",
          "text": [
            "{'epoch': 76, 'Train_loss': 0.29168981313705444, 'Test_loss': 0.3749954104423523, '_timestamp': 0.0, '_runtime': 0.0, 'Train_f1_score': 0.7472655925150966, 'Train_iou': 0.6079092857759115, 'Test_f1_score': 0.5032087250316599, 'Test_iou': 0.34464400967075565}\n",
            "Epoch 77/100\n",
            "----------\n"
          ]
        },
        {
          "output_type": "stream",
          "name": "stderr",
          "text": [
            "\n",
            "100%|██████████| 58/58 [00:16<00:00,  3.47it/s]\n",
            "100%|██████████| 15/15 [00:02<00:00,  5.07it/s]"
          ]
        },
        {
          "output_type": "stream",
          "name": "stdout",
          "text": [
            "{'epoch': 77, 'Train_loss': 0.3574953079223633, 'Test_loss': 0.3314308524131775, '_timestamp': 0.0, '_runtime': 0.0, 'Train_f1_score': 0.7443231930426196, 'Train_iou': 0.6077764868132336, 'Test_f1_score': 0.5216000931375481, 'Test_iou': 0.3619570923668298}\n",
            "Epoch 78/100\n",
            "----------\n"
          ]
        },
        {
          "output_type": "stream",
          "name": "stderr",
          "text": [
            "\n",
            "100%|██████████| 58/58 [00:16<00:00,  3.44it/s]\n",
            "100%|██████████| 15/15 [00:04<00:00,  3.14it/s]\n"
          ]
        },
        {
          "output_type": "stream",
          "name": "stdout",
          "text": [
            "{'epoch': 78, 'Train_loss': 0.4858248233795166, 'Test_loss': 0.4008399546146393, '_timestamp': 0.0, '_runtime': 0.0, 'Train_f1_score': 0.7381712129718291, 'Train_iou': 0.5984507179876255, 'Test_f1_score': 0.46071828588261887, 'Test_iou': 0.30670450884052775}\n",
            "Epoch 79/100\n",
            "----------\n"
          ]
        },
        {
          "output_type": "stream",
          "name": "stderr",
          "text": [
            "100%|██████████| 58/58 [00:17<00:00,  3.38it/s]\n",
            "100%|██████████| 15/15 [00:02<00:00,  5.04it/s]"
          ]
        },
        {
          "output_type": "stream",
          "name": "stdout",
          "text": [
            "{'epoch': 79, 'Train_loss': 0.3319718837738037, 'Test_loss': 0.30197229981422424, '_timestamp': 0.0, '_runtime': 0.0, 'Train_f1_score': 0.738551467819796, 'Train_iou': 0.5972141287944964, 'Test_f1_score': 0.46455538042693445, 'Test_iou': 0.30994604208000043}\n",
            "Epoch 80/100\n",
            "----------\n"
          ]
        },
        {
          "output_type": "stream",
          "name": "stderr",
          "text": [
            "\n",
            "100%|██████████| 58/58 [00:16<00:00,  3.49it/s]\n",
            "100%|██████████| 15/15 [00:03<00:00,  4.98it/s]"
          ]
        },
        {
          "output_type": "stream",
          "name": "stdout",
          "text": [
            "{'epoch': 80, 'Train_loss': 0.3200615346431732, 'Test_loss': 0.32077518105506897, '_timestamp': 0.0, '_runtime': 0.0, 'Train_f1_score': 0.7397664079338003, 'Train_iou': 0.6004733845576229, 'Test_f1_score': 0.5176868399549053, 'Test_iou': 0.3578336794960129}\n",
            "Epoch 81/100\n",
            "----------\n"
          ]
        },
        {
          "output_type": "stream",
          "name": "stderr",
          "text": [
            "\n",
            "100%|██████████| 58/58 [00:17<00:00,  3.41it/s]\n",
            "100%|██████████| 15/15 [00:04<00:00,  3.08it/s]"
          ]
        },
        {
          "output_type": "stream",
          "name": "stdout",
          "text": [
            "{'epoch': 81, 'Train_loss': 0.35544437170028687, 'Test_loss': 0.27915138006210327, '_timestamp': 0.0, '_runtime': 0.0, 'Train_f1_score': 0.7268968748687028, 'Train_iou': 0.5858162633518038, 'Test_f1_score': 0.5240308543335671, 'Test_iou': 0.3647904851295322}\n",
            "Epoch 82/100\n",
            "----------\n"
          ]
        },
        {
          "output_type": "stream",
          "name": "stderr",
          "text": [
            "\n",
            "100%|██████████| 58/58 [00:16<00:00,  3.47it/s]\n",
            "100%|██████████| 15/15 [00:03<00:00,  4.99it/s]"
          ]
        },
        {
          "output_type": "stream",
          "name": "stdout",
          "text": [
            "{'epoch': 82, 'Train_loss': 0.2945172190666199, 'Test_loss': 0.42126965522766113, '_timestamp': 0.0, '_runtime': 0.0, 'Train_f1_score': 0.7291527871888223, 'Train_iou': 0.588021065441828, 'Test_f1_score': 0.49834353070298926, 'Test_iou': 0.3401273717435686}\n",
            "Epoch 83/100\n",
            "----------\n"
          ]
        },
        {
          "output_type": "stream",
          "name": "stderr",
          "text": [
            "\n",
            "100%|██████████| 58/58 [00:16<00:00,  3.48it/s]\n",
            "100%|██████████| 15/15 [00:02<00:00,  5.03it/s]"
          ]
        },
        {
          "output_type": "stream",
          "name": "stdout",
          "text": [
            "{'epoch': 83, 'Train_loss': 0.3373468816280365, 'Test_loss': 0.3801368474960327, '_timestamp': 0.0, '_runtime': 0.0, 'Train_f1_score': 0.7436617134426405, 'Train_iou': 0.6050287319072792, 'Test_f1_score': 0.4905497123673037, 'Test_iou': 0.33324068342148977}\n",
            "Epoch 84/100\n",
            "----------\n"
          ]
        },
        {
          "output_type": "stream",
          "name": "stderr",
          "text": [
            "\n",
            "100%|██████████| 58/58 [00:17<00:00,  3.34it/s]\n",
            "100%|██████████| 15/15 [00:04<00:00,  3.48it/s]"
          ]
        },
        {
          "output_type": "stream",
          "name": "stdout",
          "text": [
            "{'epoch': 84, 'Train_loss': 0.35575008392333984, 'Test_loss': 0.3902934789657593, '_timestamp': 0.0, '_runtime': 0.0, 'Train_f1_score': 0.7350224313986353, 'Train_iou': 0.5938250121647605, 'Test_f1_score': 0.5521568923750914, 'Test_iou': 0.391860060624056}\n",
            "Epoch 85/100\n",
            "----------\n"
          ]
        },
        {
          "output_type": "stream",
          "name": "stderr",
          "text": [
            "\n",
            "100%|██████████| 58/58 [00:16<00:00,  3.42it/s]\n",
            "100%|██████████| 15/15 [00:03<00:00,  4.99it/s]"
          ]
        },
        {
          "output_type": "stream",
          "name": "stdout",
          "text": [
            "{'epoch': 85, 'Train_loss': 0.2695695459842682, 'Test_loss': 0.3678858280181885, '_timestamp': 0.0, '_runtime': 0.0, 'Train_f1_score': 0.74948351845434, 'Train_iou': 0.6126694154673188, 'Test_f1_score': 0.4975828631472956, 'Test_iou': 0.3393853822149775}\n",
            "Epoch 86/100\n",
            "----------\n"
          ]
        },
        {
          "output_type": "stream",
          "name": "stderr",
          "text": [
            "\n",
            "100%|██████████| 58/58 [00:16<00:00,  3.44it/s]\n",
            "100%|██████████| 15/15 [00:03<00:00,  4.73it/s]\n"
          ]
        },
        {
          "output_type": "stream",
          "name": "stdout",
          "text": [
            "{'epoch': 86, 'Train_loss': 0.40577828884124756, 'Test_loss': 0.36082786321640015, '_timestamp': 0.0, '_runtime': 0.0, 'Train_f1_score': 0.7539677177562749, 'Train_iou': 0.6166372770569319, 'Test_f1_score': 0.48770936456867037, 'Test_iou': 0.330852317577882}\n",
            "Epoch 87/100\n",
            "----------\n"
          ]
        },
        {
          "output_type": "stream",
          "name": "stderr",
          "text": [
            "100%|██████████| 58/58 [00:17<00:00,  3.31it/s]\n",
            "100%|██████████| 15/15 [00:03<00:00,  3.90it/s]"
          ]
        },
        {
          "output_type": "stream",
          "name": "stdout",
          "text": [
            "{'epoch': 87, 'Train_loss': 0.3388323485851288, 'Test_loss': 0.33874058723449707, '_timestamp': 0.0, '_runtime': 0.0, 'Train_f1_score': 0.7571271754851425, 'Train_iou': 0.6222522807348942, 'Test_f1_score': 0.47766621049000874, 'Test_iou': 0.32121289076969856}\n",
            "Epoch 88/100\n",
            "----------\n"
          ]
        },
        {
          "output_type": "stream",
          "name": "stderr",
          "text": [
            "\n",
            "100%|██████████| 58/58 [00:16<00:00,  3.49it/s]\n",
            "100%|██████████| 15/15 [00:03<00:00,  4.90it/s]"
          ]
        },
        {
          "output_type": "stream",
          "name": "stdout",
          "text": [
            "{'epoch': 88, 'Train_loss': 0.32796913385391235, 'Test_loss': 0.2375689148902893, '_timestamp': 0.0, '_runtime': 0.0, 'Train_f1_score': 0.7569422433902792, 'Train_iou': 0.6199792227032459, 'Test_f1_score': 0.5335921450681504, 'Test_iou': 0.373365363322574}\n",
            "Epoch 89/100\n",
            "----------\n"
          ]
        },
        {
          "output_type": "stream",
          "name": "stderr",
          "text": [
            "\n",
            "100%|██████████| 58/58 [00:16<00:00,  3.43it/s]\n",
            "100%|██████████| 15/15 [00:03<00:00,  4.27it/s]\n"
          ]
        },
        {
          "output_type": "stream",
          "name": "stdout",
          "text": [
            "{'epoch': 89, 'Train_loss': 0.277924507856369, 'Test_loss': 0.41999655961990356, '_timestamp': 0.0, '_runtime': 0.0, 'Train_f1_score': 0.7500564639234609, 'Train_iou': 0.6139508313395945, 'Test_f1_score': 0.503391222910853, 'Test_iou': 0.34443958228697796}\n",
            "Epoch 90/100\n",
            "----------\n"
          ]
        },
        {
          "output_type": "stream",
          "name": "stderr",
          "text": [
            "100%|██████████| 58/58 [00:17<00:00,  3.30it/s]\n",
            "100%|██████████| 15/15 [00:03<00:00,  4.21it/s]"
          ]
        },
        {
          "output_type": "stream",
          "name": "stdout",
          "text": [
            "{'epoch': 90, 'Train_loss': 0.35021811723709106, 'Test_loss': 0.35263487696647644, '_timestamp': 0.0, '_runtime': 0.0, 'Train_f1_score': 0.7615105544554717, 'Train_iou': 0.6273400430484388, 'Test_f1_score': 0.49416709555483174, 'Test_iou': 0.3361016507822628}\n",
            "Epoch 91/100\n",
            "----------\n"
          ]
        },
        {
          "output_type": "stream",
          "name": "stderr",
          "text": [
            "\n",
            "100%|██████████| 58/58 [00:16<00:00,  3.46it/s]\n",
            "100%|██████████| 15/15 [00:03<00:00,  4.94it/s]"
          ]
        },
        {
          "output_type": "stream",
          "name": "stdout",
          "text": [
            "{'epoch': 91, 'Train_loss': 0.3350376784801483, 'Test_loss': 0.27989834547042847, '_timestamp': 0.0, '_runtime': 0.0, 'Train_f1_score': 0.7473504835712657, 'Train_iou': 0.6118347369815401, 'Test_f1_score': 0.5116777168993856, 'Test_iou': 0.35327514816390304}\n",
            "Epoch 92/100\n",
            "----------\n"
          ]
        },
        {
          "output_type": "stream",
          "name": "stderr",
          "text": [
            "\n",
            "100%|██████████| 58/58 [00:16<00:00,  3.45it/s]\n",
            "100%|██████████| 15/15 [00:03<00:00,  3.81it/s]\n"
          ]
        },
        {
          "output_type": "stream",
          "name": "stdout",
          "text": [
            "{'epoch': 92, 'Train_loss': 0.2885877788066864, 'Test_loss': 0.24618718028068542, '_timestamp': 0.0, '_runtime': 0.0, 'Train_f1_score': 0.7484468463053778, 'Train_iou': 0.6119071271098457, 'Test_f1_score': 0.5167229461066352, 'Test_iou': 0.3573408936684357}\n",
            "Epoch 93/100\n",
            "----------\n"
          ]
        },
        {
          "output_type": "stream",
          "name": "stderr",
          "text": [
            "100%|██████████| 58/58 [00:17<00:00,  3.29it/s]\n",
            "100%|██████████| 15/15 [00:03<00:00,  4.92it/s]"
          ]
        },
        {
          "output_type": "stream",
          "name": "stdout",
          "text": [
            "{'epoch': 93, 'Train_loss': 0.257568895816803, 'Test_loss': 0.27729332447052, '_timestamp': 0.0, '_runtime': 0.0, 'Train_f1_score': 0.7595052634886688, 'Train_iou': 0.6244232013111298, 'Test_f1_score': 0.5219289986439947, 'Test_iou': 0.36200803353730415}\n",
            "Epoch 94/100\n",
            "----------\n"
          ]
        },
        {
          "output_type": "stream",
          "name": "stderr",
          "text": [
            "\n",
            "100%|██████████| 58/58 [00:16<00:00,  3.46it/s]\n",
            "100%|██████████| 15/15 [00:03<00:00,  4.99it/s]"
          ]
        },
        {
          "output_type": "stream",
          "name": "stdout",
          "text": [
            "{'epoch': 94, 'Train_loss': 0.3295762538909912, 'Test_loss': 0.3008264899253845, '_timestamp': 0.0, '_runtime': 0.0, 'Train_f1_score': 0.7577289367839143, 'Train_iou': 0.6235840813196877, 'Test_f1_score': 0.5120679216913353, 'Test_iou': 0.3527581497198607}\n",
            "Epoch 95/100\n",
            "----------\n"
          ]
        },
        {
          "output_type": "stream",
          "name": "stderr",
          "text": [
            "\n",
            "100%|██████████| 58/58 [00:16<00:00,  3.45it/s]\n",
            "100%|██████████| 15/15 [00:04<00:00,  3.12it/s]\n"
          ]
        },
        {
          "output_type": "stream",
          "name": "stdout",
          "text": [
            "{'epoch': 95, 'Train_loss': 0.3022303879261017, 'Test_loss': 0.36174285411834717, '_timestamp': 0.0, '_runtime': 0.0, 'Train_f1_score': 0.7529886644123199, 'Train_iou': 0.6181438943467396, 'Test_f1_score': 0.5072570570475358, 'Test_iou': 0.34823328215298843}\n",
            "Epoch 96/100\n",
            "----------\n"
          ]
        },
        {
          "output_type": "stream",
          "name": "stderr",
          "text": [
            "100%|██████████| 58/58 [00:17<00:00,  3.33it/s]\n",
            "100%|██████████| 15/15 [00:02<00:00,  5.10it/s]"
          ]
        },
        {
          "output_type": "stream",
          "name": "stdout",
          "text": [
            "{'epoch': 96, 'Train_loss': 0.3066423833370209, 'Test_loss': 0.31483930349349976, '_timestamp': 0.0, '_runtime': 0.0, 'Train_f1_score': 0.7550873252480539, 'Train_iou': 0.6201402899744158, 'Test_f1_score': 0.5317015577080934, 'Test_iou': 0.3716312328126855}\n",
            "Epoch 97/100\n",
            "----------\n"
          ]
        },
        {
          "output_type": "stream",
          "name": "stderr",
          "text": [
            "\n",
            "100%|██████████| 58/58 [00:16<00:00,  3.46it/s]\n",
            "100%|██████████| 15/15 [00:02<00:00,  5.04it/s]"
          ]
        },
        {
          "output_type": "stream",
          "name": "stdout",
          "text": [
            "{'epoch': 97, 'Train_loss': 0.2651354968547821, 'Test_loss': 0.26523280143737793, '_timestamp': 0.0, '_runtime': 0.0, 'Train_f1_score': 0.7609278328030654, 'Train_iou': 0.6270779975184224, 'Test_f1_score': 0.5447740369049041, 'Test_iou': 0.38478233530404926}\n",
            "Epoch 98/100\n",
            "----------\n"
          ]
        },
        {
          "output_type": "stream",
          "name": "stderr",
          "text": [
            "\n",
            "100%|██████████| 58/58 [00:16<00:00,  3.44it/s]\n",
            "100%|██████████| 15/15 [00:04<00:00,  3.06it/s]"
          ]
        },
        {
          "output_type": "stream",
          "name": "stdout",
          "text": [
            "{'epoch': 98, 'Train_loss': 0.3365088403224945, 'Test_loss': 0.3495471477508545, '_timestamp': 0.0, '_runtime': 0.0, 'Train_f1_score': 0.7571379516045641, 'Train_iou': 0.6212656882260797, 'Test_f1_score': 0.505891277992835, 'Test_iou': 0.3478114844354925}\n",
            "Epoch 99/100\n",
            "----------\n"
          ]
        },
        {
          "output_type": "stream",
          "name": "stderr",
          "text": [
            "\n",
            "100%|██████████| 58/58 [00:16<00:00,  3.45it/s]\n",
            "100%|██████████| 15/15 [00:03<00:00,  4.99it/s]"
          ]
        },
        {
          "output_type": "stream",
          "name": "stdout",
          "text": [
            "{'epoch': 99, 'Train_loss': 0.35960492491722107, 'Test_loss': 0.21118392050266266, '_timestamp': 0.0, '_runtime': 0.0, 'Train_f1_score': 0.7531503529675093, 'Train_iou': 0.6157428778560641, 'Test_f1_score': 0.5126951178463901, 'Test_iou': 0.35331402999815026}\n",
            "Epoch 100/100\n",
            "----------\n"
          ]
        },
        {
          "output_type": "stream",
          "name": "stderr",
          "text": [
            "\n",
            "100%|██████████| 58/58 [00:16<00:00,  3.46it/s]\n",
            "100%|██████████| 15/15 [00:03<00:00,  4.98it/s]\n"
          ]
        },
        {
          "output_type": "stream",
          "name": "stdout",
          "text": [
            "{'epoch': 100, 'Train_loss': 0.28616565465927124, 'Test_loss': 0.29080507159233093, '_timestamp': 0.0, '_runtime': 0.0, 'Train_f1_score': 0.7496734097826175, 'Train_iou': 0.6144835366269635, 'Test_f1_score': 0.5411698485104105, 'Test_iou': 0.38119571929057855}\n",
            "Training complete in 34m 49s\n",
            "Lowest Loss: 0.183535\n",
            "unetplusplus\n"
          ]
        },
        {
          "output_type": "display_data",
          "data": {
            "text/plain": [
              "<IPython.core.display.HTML object>"
            ],
            "text/html": [
              "Finishing last run (ID:9u0yzrn9) before initializing another..."
            ]
          },
          "metadata": {}
        },
        {
          "output_type": "display_data",
          "data": {
            "text/plain": [
              "<IPython.core.display.HTML object>"
            ],
            "text/html": [
              "Waiting for W&B process to finish... <strong style=\"color:green\">(success).</strong>"
            ]
          },
          "metadata": {}
        }
      ],
      "source": [
        "lr = 1e-4\n",
        "loss = 'WBCE'\n",
        "th = 0.6\n",
        "opt = \"Adam\"\n",
        "for model_name in model_names:\n",
        "  print(model_name)\n",
        "  # training\n",
        "  model, needs_out = createModel(model_name)\n",
        "  update_wb(model_name=model_name, lr=lr, loss=loss, th=th, opt = opt)\n",
        "  path_to_exp = f'/content/drive/MyDrive/Froth/exp_{loss}_{lr}_{opt}'\n",
        "\n",
        "  main(path_to_dataset, path_to_exp, 100, 4, model, model_name, lr=lr, needs_out=needs_out, threshold=th)\n",
        "  ready.append(model_name)"
      ]
    },
    {
      "cell_type": "markdown",
      "metadata": {
        "id": "PGb-QsfPmERX"
      },
      "source": [
        "# Compute & visualize"
      ]
    },
    {
      "cell_type": "code",
      "execution_count": 44,
      "metadata": {
        "id": "pSar_qmWmDV7"
      },
      "outputs": [],
      "source": [
        "import torch\n",
        "import matplotlib.pyplot as plt\n",
        "import cv2\n",
        "import pandas as pd"
      ]
    },
    {
      "cell_type": "code",
      "execution_count": 45,
      "metadata": {
        "id": "0VOlKApzn61v"
      },
      "outputs": [],
      "source": [
        "def prepare_data(img_number):\n",
        "    image = Image.open(f'{path_to_dataset}/image/{img_number}.png').convert(\"L\")\n",
        "    w, h = image.size\n",
        "    image = np.array(ImageOps.autocontrast(image, cutoff=3))\n",
        "    # source = np.array(image.crop((0, 0, h, h)))\n",
        "    resized_img = cv2.resize(image.copy(), (256, 256)).reshape(1, 1, 256, 256)\n",
        "\n",
        "    target = cv2.imread(f'{path_to_dataset}/label/{img_number}.png')\n",
        "    target = cv2.cvtColor(target, cv2.COLOR_BGR2GRAY)\n",
        "    h, w = target.shape\n",
        "    # target = target[0:h, 0:h]\n",
        "    resized_target = cv2.resize(target.copy()//255, (256, 256))\n",
        "    return image, resized_img, target, resized_target"
      ]
    },
    {
      "cell_type": "code",
      "execution_count": 46,
      "metadata": {
        "id": "Wqwbgul3mPWN"
      },
      "outputs": [],
      "source": [
        "def compute_result(model, model_name, source, th=0.5):\n",
        "    with torch.no_grad():\n",
        "        a = model(torch.from_numpy(source).type(torch.cuda.FloatTensor)/255)\n",
        "    if model_name=='deeplabv3':\n",
        "      pred_raw= (a['out'].cpu().detach().numpy()[0][0]*255).astype(np.uint8)\n",
        "      pred = (a['out'].cpu().detach().numpy()[0][0]>th).astype(np.uint8)\n",
        "    else:\n",
        "       pred_raw = (a.cpu().detach().numpy()[0][0]*255).astype(np.uint8)\n",
        "       pred = (a.cpu().detach().numpy()[0][0]>th).astype(np.uint8)\n",
        "    return pred_raw, pred"
      ]
    },
    {
      "cell_type": "code",
      "execution_count": 47,
      "metadata": {
        "id": "hkqP8qzmsJ11"
      },
      "outputs": [],
      "source": [
        "def visualize(source, target, pred_raw, pred, cont):\n",
        "    plt.figure(figsize=(20,20));\n",
        "    plt.subplot(141);\n",
        "    plt.imshow(source, );\n",
        "    plt.title('Image')\n",
        "    plt.axis('off');\n",
        "    plt.subplot(142);\n",
        "    plt.imshow(target,  cmap='gray');\n",
        "    plt.title('Ground Truth')\n",
        "    plt.axis('off');\n",
        "    plt.subplot(143);\n",
        "    plt.imshow(pred, cmap='gray');\n",
        "    plt.title('Segmentation Output')\n",
        "    plt.axis('off');\n",
        "    plt.subplot(144);\n",
        "    # plt.imshow(pred_raw, cmap='gray');\n",
        "    # plt.title('Segmentation Output')\n",
        "    # plt.axis('off');\n",
        "    plt.imshow(cont);\n",
        "    plt.title('Segmentation Output')\n",
        "    plt.axis('off');"
      ]
    },
    {
      "cell_type": "markdown",
      "metadata": {
        "id": "9EY-EEqkJ8XT"
      },
      "source": [
        "# Test"
      ]
    },
    {
      "cell_type": "code",
      "execution_count": 48,
      "metadata": {
        "id": "mXRvbVPR_jxt"
      },
      "outputs": [],
      "source": [
        "ready = [ \n",
        "    # 'unetplusplus', \n",
        "         'unet',\n",
        "        #  'attunet', \n",
        "        #  'transunet', \n",
        "        #  'dstransunet'\n",
        "         ]\n",
        "# models = {\n",
        "#     'unetplusplus':unetplusplus,\n",
        "#          'unet':unet,\n",
        "#          'attunet' : attunet, \n",
        "#          'transunet' : transunet, \n",
        "#          'dstransunet':dstransunet\n",
        "# }\n",
        "ths = {\n",
        "    'unet':0.7, 'unetplusplus':0.7, 'attunet':0.7, 'transunet':0.7, 'dstransunet':0.7\n",
        "\n",
        "}\n",
        "# ready = [ 'dstransunet']"
      ]
    },
    {
      "cell_type": "code",
      "execution_count": 49,
      "metadata": {
        "id": "-wxAtuFjAtGb"
      },
      "outputs": [],
      "source": [
        "path_to_exp = \"/content/drive/MyDrive/Froth/exp_BCE_0.0001_ad_lr\"\n",
        "# path_to_exp = \"/content/drive/MyDrive/Froth/exp_DICE_0.0001\"\n",
        "path_to_exp = '/content/drive/MyDrive/Froth/exp_WBCE_0.0001_Adam'"
      ]
    },
    {
      "cell_type": "code",
      "execution_count": 50,
      "metadata": {
        "id": "otqEOwtxd6oB"
      },
      "outputs": [],
      "source": [
        "path_to_dataset = \"/content/drive/MyDrive/datasets/masks/test\""
      ]
    },
    {
      "cell_type": "code",
      "execution_count": 51,
      "metadata": {
        "id": "wyRmJYCURQPh"
      },
      "outputs": [],
      "source": [
        "import torch\n",
        "import os\n",
        "import torchvision.models as models\n",
        "from torch.profiler import profile, record_function, ProfilerActivity"
      ]
    },
    {
      "cell_type": "code",
      "source": [
        "#278, 175"
      ],
      "metadata": {
        "id": "P5QATId4HWOc"
      },
      "execution_count": 52,
      "outputs": []
    },
    {
      "cell_type": "code",
      "execution_count": 58,
      "metadata": {
        "id": "2ADBbc5Uw73X",
        "colab": {
          "base_uri": "https://localhost:8080/",
          "height": 316
        },
        "outputId": "96ce5b97-3b60-4caf-c3ea-da5e65fc5731"
      },
      "outputs": [
        {
          "output_type": "stream",
          "name": "stdout",
          "text": [
            "unet\n",
            "iou avg 0.2718368657908851\n",
            "time avg 0.017917633056640625\n",
            "iou min 0.2718368657908851 278\n",
            "iou max 0.2718368657908851 278\n"
          ]
        },
        {
          "output_type": "display_data",
          "data": {
            "text/plain": [
              "<Figure size 1440x1440 with 4 Axes>"
            ],
            "image/png": "[encoded data removed]"
          },
          "metadata": {
            "needs_background": "light"
          }
        }
      ],
      "source": [
        "import time\n",
        "import random\n",
        "\n",
        "lr = 1e-6\n",
        "loss = 'MSE'\n",
        "f = random.choice(os.listdir(path_to_dataset+'/image'))\n",
        "files_list = os.listdir(path_to_dataset+'/image')\n",
        "files_list = [f]\n",
        "for model_name in ready:\n",
        "  print(model_name)\n",
        "  iou_summ = 0\n",
        "  iou_min = 1\n",
        "  iou_min_num = 0\n",
        "  iou_max = 0\n",
        "  iou_max_num = 0\n",
        "  time_avg = 0\n",
        "  for f in files_list:\n",
        "    # training\n",
        "    # print(f)\n",
        "    filename = path_to_exp + f'/{model_name}_weights.pt'\n",
        "    # try:\n",
        "    model = torch.load(filename)\n",
        "    num = int(f.split('.')[0])\n",
        "    model.eval()\n",
        "    source, resized_img, target, resized_target = prepare_data(num)\n",
        "    time_1 = time.time()\n",
        "    pred_raw, pred = compute_result(model, model_name, resized_img, th=ths[model_name])\n",
        "    # print(\"time\", model_name, time.time() - time_1)\n",
        "    # print(\"iou\", iou(pred, resized_target))\n",
        "    curr_iou = iou(pred, resized_target)\n",
        "    iou_summ += curr_iou \n",
        "    time_avg += (time.time() - time_1)\n",
        "    if curr_iou < iou_min:\n",
        "      iou_min = curr_iou\n",
        "      iou_min_num = num\n",
        "    if curr_iou > iou_max:\n",
        "      iou_max = curr_iou\n",
        "      iou_max_num = num\n",
        "\n",
        "    contours = source.copy()\n",
        "    contours = cv2.cvtColor(contours, cv2.COLOR_GRAY2RGB)\n",
        "    pred = cv2.resize(pred, (contours.shape[1], contours.shape[0]))\n",
        "    cnts, hierarchy = cv2.findContours(pred, cv2.RETR_TREE, cv2.CHAIN_APPROX_SIMPLE)\n",
        "    cv2.drawContours(contours, cnts, -1, (0, 255, 0), 2)\n",
        "\n",
        "    visualize(cv2.cvtColor(source, cv2.COLOR_BGR2RGB),  cv2.resize(target, (contours.shape[1], contours.shape[0])), pred_raw, pred, contours)\n",
        "\n",
        "  list_len = len(files_list)\n",
        "  print(\"iou avg\", iou_summ/list_len)\n",
        "  print(\"time avg\", time_avg/list_len)\n",
        "  print(\"iou min\", iou_min, iou_min_num)\n",
        "  print(\"iou max\", iou_max, iou_max_num)\n",
        "  # except Exception as e:\n",
        "  #   print(e)"
      ]
    },
    {
      "cell_type": "code",
      "execution_count": 54,
      "metadata": {
        "id": "ZeTPfy9-SlbE"
      },
      "outputs": [],
      "source": [
        "# import os\n",
        "# import random\n",
        "# for _ in range(10):\n",
        "#   files = os.listdir(\"/content/drive/MyDrive/datasets/masks/image\")\n",
        "#   f = random.choice(files)\n",
        "#   print(f)\n",
        "#   os.rename(f\"/content/drive/MyDrive/datasets/masks/image/{f}\", f\"/content/drive/MyDrive/datasets/masks/test/image/{f}\")\n",
        "#   os.rename(f\"/content/drive/MyDrive/datasets/masks/label/{f}\", f\"/content/drive/MyDrive/datasets/masks/test/label/{f}\")"
      ]
    },
    {
      "cell_type": "code",
      "execution_count": 55,
      "metadata": {
        "id": "l86wjl5YGGr4",
        "colab": {
          "base_uri": "https://localhost:8080/",
          "height": 381
        },
        "outputId": "f0643b32-4065-4bac-e21f-e26bde761593"
      },
      "outputs": [
        {
          "output_type": "error",
          "ename": "FileNotFoundError",
          "evalue": "ignored",
          "traceback": [
            "\u001b[0;31m---------------------------------------------------------------------------\u001b[0m",
            "\u001b[0;31mFileNotFoundError\u001b[0m                         Traceback (most recent call last)",
            "\u001b[0;32m<ipython-input-55-0f6eeea28082>\u001b[0m in \u001b[0;36m<module>\u001b[0;34m\u001b[0m\n\u001b[0;32m----> 1\u001b[0;31m \u001b[0mmodel\u001b[0m \u001b[0;34m=\u001b[0m \u001b[0mtorch\u001b[0m\u001b[0;34m.\u001b[0m\u001b[0mload\u001b[0m\u001b[0;34m(\u001b[0m\u001b[0;34m'/content/drive/MyDrive/Froth/froth_dataset/exp/unet_weights.pt'\u001b[0m\u001b[0;34m)\u001b[0m\u001b[0;34m\u001b[0m\u001b[0;34m\u001b[0m\u001b[0m\n\u001b[0m\u001b[1;32m      2\u001b[0m \u001b[0mmodel_name\u001b[0m \u001b[0;34m=\u001b[0m \u001b[0;34m\"unet\"\u001b[0m\u001b[0;34m\u001b[0m\u001b[0;34m\u001b[0m\u001b[0m\n\u001b[1;32m      3\u001b[0m \u001b[0mmodel\u001b[0m\u001b[0;34m.\u001b[0m\u001b[0meval\u001b[0m\u001b[0;34m(\u001b[0m\u001b[0;34m)\u001b[0m\u001b[0;34m\u001b[0m\u001b[0;34m\u001b[0m\u001b[0m\n\u001b[1;32m      4\u001b[0m \u001b[0msource\u001b[0m\u001b[0;34m,\u001b[0m \u001b[0mresized_img\u001b[0m\u001b[0;34m,\u001b[0m \u001b[0mtarget\u001b[0m\u001b[0;34m,\u001b[0m \u001b[0mresized_target\u001b[0m \u001b[0;34m=\u001b[0m \u001b[0mprepare_data\u001b[0m\u001b[0;34m(\u001b[0m\u001b[0;36m5\u001b[0m\u001b[0;34m)\u001b[0m\u001b[0;34m\u001b[0m\u001b[0;34m\u001b[0m\u001b[0m\n\u001b[1;32m      5\u001b[0m \u001b[0mtime_1\u001b[0m \u001b[0;34m=\u001b[0m \u001b[0mtime\u001b[0m\u001b[0;34m.\u001b[0m\u001b[0mtime\u001b[0m\u001b[0;34m(\u001b[0m\u001b[0;34m)\u001b[0m\u001b[0;34m\u001b[0m\u001b[0;34m\u001b[0m\u001b[0m\n",
            "\u001b[0;32m/usr/local/lib/python3.9/dist-packages/torch/serialization.py\u001b[0m in \u001b[0;36mload\u001b[0;34m(f, map_location, pickle_module, weights_only, **pickle_load_args)\u001b[0m\n\u001b[1;32m    769\u001b[0m         \u001b[0mpickle_load_args\u001b[0m\u001b[0;34m[\u001b[0m\u001b[0;34m'encoding'\u001b[0m\u001b[0;34m]\u001b[0m \u001b[0;34m=\u001b[0m \u001b[0;34m'utf-8'\u001b[0m\u001b[0;34m\u001b[0m\u001b[0;34m\u001b[0m\u001b[0m\n\u001b[1;32m    770\u001b[0m \u001b[0;34m\u001b[0m\u001b[0m\n\u001b[0;32m--> 771\u001b[0;31m     \u001b[0;32mwith\u001b[0m \u001b[0m_open_file_like\u001b[0m\u001b[0;34m(\u001b[0m\u001b[0mf\u001b[0m\u001b[0;34m,\u001b[0m \u001b[0;34m'rb'\u001b[0m\u001b[0;34m)\u001b[0m \u001b[0;32mas\u001b[0m \u001b[0mopened_file\u001b[0m\u001b[0;34m:\u001b[0m\u001b[0;34m\u001b[0m\u001b[0;34m\u001b[0m\u001b[0m\n\u001b[0m\u001b[1;32m    772\u001b[0m         \u001b[0;32mif\u001b[0m \u001b[0m_is_zipfile\u001b[0m\u001b[0;34m(\u001b[0m\u001b[0mopened_file\u001b[0m\u001b[0;34m)\u001b[0m\u001b[0;34m:\u001b[0m\u001b[0;34m\u001b[0m\u001b[0;34m\u001b[0m\u001b[0m\n\u001b[1;32m    773\u001b[0m             \u001b[0;31m# The zipfile reader is going to advance the current file position.\u001b[0m\u001b[0;34m\u001b[0m\u001b[0;34m\u001b[0m\u001b[0m\n",
            "\u001b[0;32m/usr/local/lib/python3.9/dist-packages/torch/serialization.py\u001b[0m in \u001b[0;36m_open_file_like\u001b[0;34m(name_or_buffer, mode)\u001b[0m\n\u001b[1;32m    268\u001b[0m \u001b[0;32mdef\u001b[0m \u001b[0m_open_file_like\u001b[0m\u001b[0;34m(\u001b[0m\u001b[0mname_or_buffer\u001b[0m\u001b[0;34m,\u001b[0m \u001b[0mmode\u001b[0m\u001b[0;34m)\u001b[0m\u001b[0;34m:\u001b[0m\u001b[0;34m\u001b[0m\u001b[0;34m\u001b[0m\u001b[0m\n\u001b[1;32m    269\u001b[0m     \u001b[0;32mif\u001b[0m \u001b[0m_is_path\u001b[0m\u001b[0;34m(\u001b[0m\u001b[0mname_or_buffer\u001b[0m\u001b[0;34m)\u001b[0m\u001b[0;34m:\u001b[0m\u001b[0;34m\u001b[0m\u001b[0;34m\u001b[0m\u001b[0m\n\u001b[0;32m--> 270\u001b[0;31m         \u001b[0;32mreturn\u001b[0m \u001b[0m_open_file\u001b[0m\u001b[0;34m(\u001b[0m\u001b[0mname_or_buffer\u001b[0m\u001b[0;34m,\u001b[0m \u001b[0mmode\u001b[0m\u001b[0;34m)\u001b[0m\u001b[0;34m\u001b[0m\u001b[0;34m\u001b[0m\u001b[0m\n\u001b[0m\u001b[1;32m    271\u001b[0m     \u001b[0;32melse\u001b[0m\u001b[0;34m:\u001b[0m\u001b[0;34m\u001b[0m\u001b[0;34m\u001b[0m\u001b[0m\n\u001b[1;32m    272\u001b[0m         \u001b[0;32mif\u001b[0m \u001b[0;34m'w'\u001b[0m \u001b[0;32min\u001b[0m \u001b[0mmode\u001b[0m\u001b[0;34m:\u001b[0m\u001b[0;34m\u001b[0m\u001b[0;34m\u001b[0m\u001b[0m\n",
            "\u001b[0;32m/usr/local/lib/python3.9/dist-packages/torch/serialization.py\u001b[0m in \u001b[0;36m__init__\u001b[0;34m(self, name, mode)\u001b[0m\n\u001b[1;32m    249\u001b[0m \u001b[0;32mclass\u001b[0m \u001b[0m_open_file\u001b[0m\u001b[0;34m(\u001b[0m\u001b[0m_opener\u001b[0m\u001b[0;34m)\u001b[0m\u001b[0;34m:\u001b[0m\u001b[0;34m\u001b[0m\u001b[0;34m\u001b[0m\u001b[0m\n\u001b[1;32m    250\u001b[0m     \u001b[0;32mdef\u001b[0m \u001b[0m__init__\u001b[0m\u001b[0;34m(\u001b[0m\u001b[0mself\u001b[0m\u001b[0;34m,\u001b[0m \u001b[0mname\u001b[0m\u001b[0;34m,\u001b[0m \u001b[0mmode\u001b[0m\u001b[0;34m)\u001b[0m\u001b[0;34m:\u001b[0m\u001b[0;34m\u001b[0m\u001b[0;34m\u001b[0m\u001b[0m\n\u001b[0;32m--> 251\u001b[0;31m         \u001b[0msuper\u001b[0m\u001b[0;34m(\u001b[0m\u001b[0m_open_file\u001b[0m\u001b[0;34m,\u001b[0m \u001b[0mself\u001b[0m\u001b[0;34m)\u001b[0m\u001b[0;34m.\u001b[0m\u001b[0m__init__\u001b[0m\u001b[0;34m(\u001b[0m\u001b[0mopen\u001b[0m\u001b[0;34m(\u001b[0m\u001b[0mname\u001b[0m\u001b[0;34m,\u001b[0m \u001b[0mmode\u001b[0m\u001b[0;34m)\u001b[0m\u001b[0;34m)\u001b[0m\u001b[0;34m\u001b[0m\u001b[0;34m\u001b[0m\u001b[0m\n\u001b[0m\u001b[1;32m    252\u001b[0m \u001b[0;34m\u001b[0m\u001b[0m\n\u001b[1;32m    253\u001b[0m     \u001b[0;32mdef\u001b[0m \u001b[0m__exit__\u001b[0m\u001b[0;34m(\u001b[0m\u001b[0mself\u001b[0m\u001b[0;34m,\u001b[0m \u001b[0;34m*\u001b[0m\u001b[0margs\u001b[0m\u001b[0;34m)\u001b[0m\u001b[0;34m:\u001b[0m\u001b[0;34m\u001b[0m\u001b[0;34m\u001b[0m\u001b[0m\n",
            "\u001b[0;31mFileNotFoundError\u001b[0m: [Errno 2] No such file or directory: '/content/drive/MyDrive/Froth/froth_dataset/exp/unet_weights.pt'"
          ]
        }
      ],
      "source": [
        "model = torch.load('/content/drive/MyDrive/Froth/froth_dataset/exp/unet_weights.pt')\n",
        "model_name = \"unet\"\n",
        "model.eval()\n",
        "source, resized_img, target, resized_target = prepare_data(5)\n",
        "time_1 = time.time()\n",
        "pred_raw, pred = compute_result(model, model_name, resized_img, th=ths[model_name])\n",
        "visualize(source, target, pred_raw, pred)\n",
        "print(model_name, time.time() - time_1)"
      ]
    },
    {
      "cell_type": "markdown",
      "metadata": {
        "id": "agiRX95KeL3t"
      },
      "source": [
        "# ToDo\n",
        "\n",
        "## Networks\n",
        "###Segmentation\n",
        "\n",
        "#### DeepLab based\n",
        "* DeepLabv3 v (29.10)\n",
        "* DeepLabV3+ \n",
        "* PointRend\n",
        "* Detectron2\n",
        "\n",
        "\n",
        "#### Unet-like\n",
        "* Unet   (29.10) v \n",
        "* Unet++  (30.10) v\n",
        "* Tiny-UNET  (30.10) \n",
        "* PSPnet (30.10) v\n",
        "\n",
        "#### Transformers \n",
        "* HRNet OCR\n",
        "\n",
        "#### Others\n",
        "* FPN  v\n",
        "* MA-Net v\n",
        "* ResT\n",
        "* Mask-RCNN\n",
        "\n",
        "\n",
        "* PointNet\n",
        "* FCN\n",
        "\n",
        "* SFNet (ECCV 2020)\n",
        "* SegFormer (ArXiv 2021)\n",
        "* FaPN (ICCV 2021)\n",
        "* CondNet (IEEE SPL 2021)\n",
        "### Detection\n",
        "*   YOLO\n",
        "*   SSD\n",
        "* RCNN\n",
        "\n",
        "## Losses\n",
        "* MSE +\n",
        "* Cross Entropy Loss\n",
        "* Focal Loss\n",
        "* Dice Loss\n",
        "\n",
        "## OF \n",
        "* FlowNet\n",
        "\n",
        "\n"
      ]
    }
  ],
  "metadata": {
    "accelerator": "GPU",
    "colab": {
      "collapsed_sections": [
        "YOwG0r7sYChF",
        "yaccB2f9nPiE",
        "x_DkdXswqorB",
        "KXecd9AkCLgh",
        "5yxojXiEoQ6t",
        "BWEqgp4hyNcD",
        "agiRX95KeL3t"
      ],
      "provenance": [],
      "toc_visible": true
    },
    "kernelspec": {
      "display_name": "Python 3",
      "name": "python3"
    },
    "language_info": {
      "name": "python"
    }
  },
  "nbformat": 4,
  "nbformat_minor": 0
}