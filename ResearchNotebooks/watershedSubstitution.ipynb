{
 "cells": [
  {
   "cell_type": "code",
   "execution_count": 1,
   "metadata": {},
   "outputs": [],
   "source": [
    "from utils.show import  show\n",
    "from  utils.watershed import *\n",
    "from  utils.draw import *"
   ]
  },
  {
   "cell_type": "markdown",
   "metadata": {},
   "source": [
    "# TEST AREA"
   ]
  },
  {
   "cell_type": "code",
   "execution_count": null,
   "metadata": {
    "scrolled": false
   },
   "outputs": [],
   "source": [
    "cap = cv2.VideoCapture('MVI_4106.MOV')\n",
    "f = cap.read()[1]\n",
    "f = cv2.resize(f, (0,0), fx=0.5, fy=0.5)\n",
    "counter = 0\n",
    "while(cap.isOpened() and counter<=500):\n",
    "    try:\n",
    "        frame = cap.read()[1]\n",
    "        frame = cv2.resize(frame, (0,0), fx=0.5, fy=0.5)\n",
    "        mask = get_mask(f,frame) \n",
    "        frame1 = frame.copy()\n",
    "        frame, gray = preprocessing(frame)\n",
    "        gray = cv2.bitwise_and(gray, mask)\n",
    "        cnts = findContours(gray, returnContours=True)\n",
    "        black = drawMask(frame1, cnts)\n",
    "        black = cv2.bitwise_and(black, mask)\n",
    "        drawContours(frame1, cnts)\n",
    "        cv2.imwrite(f'/Users/s70c3/Desktop/rocks/img/{counter}.png', frame)\n",
    "        cv2.imwrite(f'/Users/s70c3/Desktop/rocks/contour/{counter}.png', frame1)\n",
    "        cv2.imwrite(f'/Users/s70c3/Desktop/rocks/label/{counter}.png', black)\n",
    "        counter+=1\n",
    "        show(frame1, black)\n",
    "        for _ in range(3):\n",
    "            cap.read()\n",
    "    except NoMarkersError:\n",
    "        print(\"no markers\")"
   ]
  },
  {
   "cell_type": "markdown",
   "metadata": {},
   "source": [
    "## FindContours"
   ]
  },
  {
   "cell_type": "code",
   "execution_count": null,
   "metadata": {
    "scrolled": true
   },
   "outputs": [],
   "source": [
    "cap = cv2.VideoCapture('/Users/s70c3/Desktop/90_2_3.mp4')\n",
    "while(cap.isOpened()):\n",
    "    ret, frame = cap.read()\n",
    "    frame, gray = preprocessing(frame)\n",
    "    thresh = cv2.adaptiveThreshold(gray,255,cv2.ADAPTIVE_THRESH_MEAN_C,\\\n",
    "            cv2.THRESH_BINARY,39,2)\n",
    "    cnts = cv2.findContours(thresh, cv2.RETR_EXTERNAL, cv2.CHAIN_APPROX_SIMPLE)\n",
    "    cnts = cnts[0] if len(cnts) == 2 else cnts[1]\n",
    "    frame1 = frame.copy()\n",
    "    drawContours(frame1, cnts)\n",
    "    show(frame, frame1)\n"
   ]
  },
  {
   "cell_type": "code",
   "execution_count": null,
   "metadata": {},
   "outputs": [],
   "source": [
    "\n",
    "cap = cv2.VideoCapture('/Users/s70c3/Desktop/90_2_3.mp4')\n",
    "while(cap.isOpened()):\n",
    "    ret, frame = cap.read()\n",
    "    frame, gray = preprocessing(frame)\n",
    "    \n",
    "   \n",
    "    show(frame, res2)\n",
    "    \n",
    "    "
   ]
  },
  {
   "cell_type": "code",
   "execution_count": null,
   "metadata": {},
   "outputs": [],
   "source": []
  }
 ],
 "metadata": {
  "accelerator": "GPU",
  "colab": {
   "collapsed_sections": [
    "h63sLlUix19k",
    "XZZAvptc4Er-",
    "p1erpuV2H0jT",
    "q8jTXzhxRi0a",
    "jxgXib62gUNW",
    "C7uldewG-fUT",
    "0RNlgwb6gk-m",
    "q5Wv4yzmg942",
    "LLCTAVOxWlmQ"
   ],
   "name": "StoneAnalysis",
   "provenance": []
  },
  "kernelspec": {
   "display_name": "Python 3",
   "language": "python",
   "name": "python3"
  },
  "language_info": {
   "codemirror_mode": {
    "name": "ipython",
    "version": 3
   },
   "file_extension": ".py",
   "mimetype": "text/x-python",
   "name": "python",
   "nbconvert_exporter": "python",
   "pygments_lexer": "ipython3",
   "version": "3.8.5"
  }
 },
 "nbformat": 4,
 "nbformat_minor": 1
}
