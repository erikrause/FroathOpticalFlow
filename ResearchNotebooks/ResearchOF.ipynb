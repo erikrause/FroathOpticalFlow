{
 "cells": [
  {
   "cell_type": "code",
   "execution_count": null,
   "metadata": {},
   "outputs": [],
   "source": [
    "pip install opencv-contrib-python"
   ]
  },
  {
   "cell_type": "code",
   "execution_count": null,
   "metadata": {},
   "outputs": [],
   "source": [
    "import cv2\n",
    "import numpy as np\n",
    "import matplotlib.pyplot as plt"
   ]
  },
  {
   "cell_type": "code",
   "execution_count": null,
   "metadata": {},
   "outputs": [],
   "source": [
    "def show(*img):\n",
    "    \n",
    "    if len(img)<2:\n",
    "        show_one(img[0])\n",
    "        return\n",
    "              \n",
    "    fig, axes = plt.subplots(1, len(img))\n",
    "    \n",
    "    for img_i, i in zip(img, range(len(img))):\n",
    "        axes[i].imshow(img_i, cmap='gray')\n",
    "        axes[i].set_title('')\n",
    "\n",
    "    fig.set_figwidth(20)    #  ширина и\n",
    "    fig.set_figheight(10)    #  высота \\\"Figure\\\n",
    "\n",
    "#     plt.gray()\n",
    "    plt.show()\n",
    "\n",
    "\n",
    "def show_one(img, n = 10):\n",
    "    fig, ax = plt.subplots()\n",
    "    fig.set_figwidth(n)    #  ширина и\n",
    "    fig.set_figheight(n)    #  высота \\\"Figure\\\n",
    "    plt.imshow(img, cmap='gray')\n",
    "    plt.show()"
   ]
  },
  {
   "cell_type": "code",
   "execution_count": null,
   "metadata": {},
   "outputs": [],
   "source": [
    "video_path = '90_2_3.mp4'"
   ]
  },
  {
   "cell_type": "markdown",
   "source": [
    "# LK"
   ],
   "metadata": {
    "collapsed": false
   }
  },
  {
   "cell_type": "code",
   "execution_count": null,
   "metadata": {},
   "outputs": [],
   "source": [
    "def lucas_kanade_method(video_path):\n",
    "    # Read the video\n",
    "    cap = cv2.VideoCapture(video_path)\n",
    "    # Parameters for ShiTomasi corner detection\n",
    "    feature_params = dict(maxCorners=100, qualityLevel=0.3, minDistance=7, blockSize=7)\n",
    "    # Parameters for Lucas Kanade optical flow\n",
    "    lk_params = dict(\n",
    "        winSize=(15, 15),\n",
    "        maxLevel=2,\n",
    "        criteria=(cv2.TERM_CRITERIA_EPS | cv2.TERM_CRITERIA_COUNT, 10, 0.03),\n",
    "    )\n",
    "    # Create random colors\n",
    "    color = np.random.randint(0, 255, (100, 3))\n",
    " # Take first frame and find corners in it\n",
    "    ret, old_frame = cap.read()\n",
    "    old_gray = cv2.cvtColor(old_frame, cv2.COLOR_BGR2GRAY)\n",
    "    p0 = cv2.goodFeaturesToTrack(old_gray, mask=None, **feature_params)\n",
    " # Create a mask image for drawing purposes\n",
    "    mask = np.zeros_like(old_frame)\n",
    "    while True:\n",
    "    # Read new frame\n",
    "        ret, frame = cap.read()\n",
    "        if not ret:\n",
    "            break\n",
    "        frame_gray = cv2.cvtColor(frame, cv2.COLOR_BGR2GRAY)\n",
    "        # Calculate Optical Flow\n",
    "        p1, st, err = cv2.calcOpticalFlowPyrLK(\n",
    "            old_gray, frame_gray, p0, None, **lk_params\n",
    "        )\n",
    "        # Select good points\n",
    "        good_new = p1[st == 1]\n",
    "        good_old = p0[st == 1]\n",
    "\n",
    "        # Draw the tracks\n",
    "        for i, (new, old) in enumerate(zip(good_new, good_old)):\n",
    "            a, b = new.ravel()\n",
    "            c, d = old.ravel()\n",
    "            mask = cv2.line(mask, (int(a), int(b)), (int(c), int(d)), color[i].tolist(), 2)\n",
    "            frame = cv2.circle(frame, (int(a), int(b)), 5, color[i].tolist(), -1)\n",
    "        # Display the demo\n",
    "        img = cv2.add(frame, mask)\n",
    "        show(img)\n",
    "\n",
    "        # Update the previous frame and previous points\n",
    "        old_gray = frame_gray.copy()\n",
    "        p0 = good_new.reshape(-1, 1, 2)\n",
    "\n",
    "\n"
   ]
  },
  {
   "cell_type": "code",
   "execution_count": null,
   "metadata": {
    "scrolled": true
   },
   "outputs": [],
   "source": [
    "lucas_kanade_method(video_path)"
   ]
  },
  {
   "cell_type": "markdown",
   "source": [
    "# Dense methods"
   ],
   "metadata": {
    "collapsed": false
   }
  },
  {
   "cell_type": "code",
   "execution_count": null,
   "metadata": {},
   "outputs": [],
   "source": [
    "def dense_optical_flow(method, video_path, params=[], to_gray=False):\n",
    "    # Read the video and first frame\n",
    "    cap = cv2.VideoCapture(video_path)\n",
    "    ret, old_frame = cap.read()\n",
    "\n",
    "    # crate HSV & make Value a constant\n",
    "    hsv = np.zeros_like(old_frame)\n",
    "    hsv[..., 1] = 255\n",
    "\n",
    "    # Preprocessing for exact method\n",
    "    if to_gray:\n",
    "        old_frame = cv2.cvtColor(old_frame, cv2.COLOR_BGR2GRAY)\n",
    "\n",
    "    while True:\n",
    "    # Read the next frame\n",
    "        ret, new_frame = cap.read()\n",
    "        frame_copy = new_frame\n",
    "        if not ret:\n",
    "            break\n",
    "\n",
    "        # Preprocessing for exact method\n",
    "        if to_gray:\n",
    "            new_frame = cv2.cvtColor(new_frame, cv2.COLOR_BGR2GRAY)\n",
    "\n",
    "        # Calculate Optical Flow\n",
    "        flow = method(old_frame, new_frame, None, *params)\n",
    "\n",
    "        # Encoding: convert the algorithm's output into Polar coordinates\n",
    "        mag, ang = cv2.cartToPolar(flow[..., 0], flow[..., 1])\n",
    "        # Use Hue and Value to encode the Optical Flow\n",
    "        hsv[..., 0] = ang * 180 / np.pi / 2\n",
    "        hsv[..., 2] = cv2.normalize(mag, None, 0, 255, cv2.NORM_MINMAX)\n",
    "\n",
    "        # Convert HSV image into BGR for demo\n",
    "        bgr = cv2.cvtColor(hsv, cv2.COLOR_HSV2BGR)\n",
    "        show(frame_copy, bgr)\n",
    "\n",
    "        # Update the previous frame\n",
    "        old_frame = new_frame\n"
   ]
  },
  {
   "cell_type": "code",
   "execution_count": null,
   "metadata": {
    "scrolled": true
   },
   "outputs": [],
   "source": [
    "\n",
    "method = cv2.optflow.calcOpticalFlowSparseToDense\n",
    "frames = dense_optical_flow(method, video_path, to_gray=True)\n"
   ]
  },
  {
   "cell_type": "code",
   "execution_count": null,
   "metadata": {
    "scrolled": true
   },
   "outputs": [],
   "source": [
    "method = cv2.calcOpticalFlowFarneback\n",
    "params = [0.5, 3, 15, 3, 5, 1.2, 0]  # default Farneback's algorithm parameters\n",
    "frames = dense_optical_flow(method, video_path, params, to_gray=True)"
   ]
  },
  {
   "cell_type": "code",
   "execution_count": null,
   "metadata": {},
   "outputs": [],
   "source": [
    "method = cv2.optflow.calcOpticalFlowDenseRLOF\n",
    "frames = dense_optical_flow(method, video_path)"
   ]
  },
  {
   "cell_type": "markdown",
   "source": [
    "# Farneback"
   ],
   "metadata": {
    "collapsed": false
   }
  },
  {
   "cell_type": "code",
   "execution_count": null,
   "outputs": [],
   "source": [
    "vc = cv2.VideoCapture('data/90_2_3.mp4')\n",
    "\n",
    "\n",
    "def preprocess_frame(frame):\n",
    "    #     frame = frame[0:470, ]\n",
    "    frame = cv2.GaussianBlur(frame, (11, 11), 0)\n",
    "\n",
    "    # hsv = cv2.cvtColor(frame, cv2.COLOR_BGR2HSV)\n",
    "    # h, s, v = cv2.split(hsv)\n",
    "    #\n",
    "    # v = cv2.equalizeHist(v)\n",
    "    #\n",
    "    # hsv = cv2.merge([h, s, v])\n",
    "    # bgr = cv2.cvtColor(hsv, cv2.COLOR_HSV2BGR)\n",
    "    gray = cv2.cvtColor(frame, cv2.COLOR_BGR2GRAY)\n",
    "\n",
    "    return frame, gray\n",
    "\n",
    "\n",
    "# Read first frame\n",
    "_, first_frame = vc.read()\n",
    "# Scale and resize image\n",
    "frame, prev_gray = preprocess_frame(first_frame)\n",
    "div = 256\n",
    "prev_gray = prev_gray // div * div + div // 2\n",
    "\n",
    "\n",
    "def draw_flow(img, flow, step=15):\n",
    "    h, w = img.shape[:2]\n",
    "    y, x = np.mgrid[step / 2:h:step, step / 2:w:step].reshape(2, -1).astype(int)\n",
    "    fx, fy = flow[y, x].T\n",
    "    lines = np.vstack([x, y, x + fx, y + fy]).T.reshape(-1, 2, 2)\n",
    "    lines = np.int32(lines + 0.5)\n",
    "    # vis = cv2.cvtColor(img, cv2.COLOR_GRAY2BGR)\n",
    "    cv2.polylines(img, lines, 0, (0, 255, 0))\n",
    "    for (x1, y1), (_x2, _y2) in lines:\n",
    "        cv2.circle(img, (x1, y1), 1, (0, 255, 0), -1)\n",
    "    return img\n",
    "\n",
    "\n",
    "#while True:\n",
    "for i in range(5):\n",
    "    _ret, frame_source = vc.read()\n",
    "    frame = frame_source.copy()\n",
    "    frame, gray = preprocess_frame(frame)\n",
    "    flow = cv2.calcOpticalFlowFarneback(prev_gray, gray, None, 0.5, 3, 15, 3, 5, 1.2, 0)\n",
    "    prev_gray = gray\n",
    "    show(frame, draw_flow(frame_source, flow))"
   ],
   "metadata": {
    "collapsed": false
   }
  },
  {
   "cell_type": "markdown",
   "source": [
    "# SF"
   ],
   "metadata": {
    "collapsed": false
   }
  },
  {
   "cell_type": "code",
   "execution_count": null,
   "outputs": [],
   "source": [
    "def draw_flow(img, flow, step=15):\n",
    "    h, w = img.shape[:2]\n",
    "    y, x = np.mgrid[step / 2:h:step, step / 2:w:step].reshape(2, -1).astype(int)\n",
    "    fx, fy = flow[y, x].T\n",
    "    lines = np.vstack([x, y, x + fx, y + fy]).T.reshape(-1, 2, 2)\n",
    "    lines = np.int32(lines + 0.5)\n",
    "    cv2.polylines(img, lines, 0, (0, 255, 0))\n",
    "    for (x1, y1), (x2, y2) in lines:\n",
    "        cv2.circle(img, (x1, y1), 1, (0, 255, 0), -1)\n",
    "    return img\n",
    "\n",
    "\n",
    "# Read first frame\n",
    "_, first_frame = vc.read()\n",
    "# Scale and resize image\n",
    "frame, prev_gray = preprocess_frame(first_frame)\n",
    "for i in range(10):\n",
    "    # Read a frame from video\n",
    "    _, frame = vc.read()\n",
    "    # Convert new frame format`s to gray scale and resize gray frame obtained\n",
    "    frame, gray = preprocess_frame(frame)\n",
    "    # Calculate dense optical flow by Simple Flow\n",
    "    flow = cv2.optflow.calcOpticalFlowSF(prev_gray, gray, 3, 2, 4)\n",
    "    # Compute the magnitude and angle of the 2D vectors\n",
    "    dense_flow = draw_flow(frame, flow)\n",
    "    show(dense_flow)\n",
    "    # Update previous frame\n",
    "    prev_gray = gray\n",
    "# Frame are read by intervals of 10 millisecond. The programs breaks out of the while loop when the user presses the ‘q’ key\n"
   ],
   "metadata": {
    "collapsed": false
   }
  }
 ],
 "metadata": {
  "kernelspec": {
   "display_name": "Python 3",
   "language": "python",
   "name": "python3"
  },
  "language_info": {
   "codemirror_mode": {
    "name": "ipython",
    "version": 3
   },
   "file_extension": ".py",
   "mimetype": "text/x-python",
   "name": "python",
   "nbconvert_exporter": "python",
   "pygments_lexer": "ipython3",
   "version": "3.8.5"
  }
 },
 "nbformat": 4,
 "nbformat_minor": 4
}
